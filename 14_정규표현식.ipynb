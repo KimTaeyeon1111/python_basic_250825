{
 "cells": [
  {
   "cell_type": "markdown",
   "id": "77f49023-a11b-4444-9563-c2d0474c402d",
   "metadata": {},
   "source": [
    "### 정규 표현식"
   ]
  },
  {
   "cell_type": "code",
   "execution_count": 5,
   "id": "3f2574fc-8ee9-4606-bbfa-250e1b110e5c",
   "metadata": {},
   "outputs": [],
   "source": [
    "# . 임의의 한 문자\n",
    "# ^ 문자열의 시작\n",
    "# $ 문자열의 끝\n",
    "# * 0회 이상 반복\n",
    "# + 1회 이상 반복\n",
    "# ? 0 또는 1회\n",
    "# {n} n회 반복\n",
    "# {n,} n회 이상 반복\n",
    "# {n, m} n회 이상, m회 이하 반복\n",
    "# [] 문자 집합. 괄호 안의 문자 중 하나와 매치 \n",
    "# | or 연산자\n",
    "# \\ 이스케이프 문자\n",
    "# () 그룹을 지정\n",
    "# \\d 숫자와 매치, [0-9]\n",
    "# \\D 숫자가 아닌 것과 매치, [^0-9]\n",
    "# \\s 공백 문자와 매치.\n",
    "# \\S 공백 문자가 아닌 것과 매치.\n",
    "# \\w 문자, 숫자와 매치, [a-zA-Z0-9_]\n",
    "# \\W 문자, 숫자가 아닌 것과 매치 [a-zA-Z0-9_]"
   ]
  },
  {
   "cell_type": "code",
   "execution_count": 13,
   "id": "b91da62a-373b-4aa3-8d21-e5c4cb71c8b3",
   "metadata": {},
   "outputs": [
    {
     "name": "stdout",
     "output_type": "stream",
     "text": [
      "123\n"
     ]
    }
   ],
   "source": [
    "# \\d = 숫자와 매치 / match() : 문자열의 처음부터 정규식과 매치되는지 확인.\n",
    "import re\n",
    "pattern = re.compile(r'\\d+')\n",
    "match = pattern.match('123abc')\n",
    "\n",
    "if match:\n",
    "    print(match.group())"
   ]
  },
  {
   "cell_type": "code",
   "execution_count": 14,
   "id": "813f61f1-8e7c-41ca-b61a-e18f54895afe",
   "metadata": {},
   "outputs": [
    {
     "name": "stdout",
     "output_type": "stream",
     "text": [
      "abc\n"
     ]
    }
   ],
   "source": [
    "# searach 문자열 전체를 검색하여 정규식과 매치되는지 확인.\n",
    "pattern = re.compile(r'\\D+')\n",
    "match = pattern.search('123abc')\n",
    "\n",
    "if match:\n",
    "    print(match.group())"
   ]
  },
  {
   "cell_type": "code",
   "execution_count": 10,
   "id": "e75262fe-79ab-4973-b728-7131495cad3e",
   "metadata": {},
   "outputs": [
    {
     "name": "stdout",
     "output_type": "stream",
     "text": [
      "['abc', 'def']\n"
     ]
    }
   ],
   "source": [
    "# findall = 정규식과 매치되는 모든 부분을 리스트로 반환.\n",
    "\n",
    "pattern = re.compile(r'\\D+')\n",
    "matches = pattern.findall('123abc456def')\n",
    "print(matches)"
   ]
  },
  {
   "cell_type": "code",
   "execution_count": 15,
   "id": "dbc1d98d-e0aa-4269-9926-c75cd165677b",
   "metadata": {},
   "outputs": [
    {
     "name": "stdout",
     "output_type": "stream",
     "text": [
      "NUMabcNUMdef\n"
     ]
    }
   ],
   "source": [
    "# seb : 정규식과 매치되는 부분을 다른 문자열로 대체.\n",
    "pattern = re.compile(r'\\d+')\n",
    "result = pattern.sub('NUM', '123abc456def')\n",
    "print(result)"
   ]
  },
  {
   "cell_type": "code",
   "execution_count": null,
   "id": "eb14c096-1605-49e7-9183-272355f1336c",
   "metadata": {},
   "outputs": [],
   "source": []
  }
 ],
 "metadata": {
  "kernelspec": {
   "display_name": "Python [conda env:base] *",
   "language": "python",
   "name": "conda-base-py"
  },
  "language_info": {
   "codemirror_mode": {
    "name": "ipython",
    "version": 3
   },
   "file_extension": ".py",
   "mimetype": "text/x-python",
   "name": "python",
   "nbconvert_exporter": "python",
   "pygments_lexer": "ipython3",
   "version": "3.13.5"
  },
  "widgets": {
   "application/vnd.jupyter.widget-state+json": {
    "state": {},
    "version_major": 2,
    "version_minor": 0
   }
  }
 },
 "nbformat": 4,
 "nbformat_minor": 5
}
