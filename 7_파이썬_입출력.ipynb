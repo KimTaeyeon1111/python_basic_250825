{
 "cells": [
  {
   "cell_type": "markdown",
   "id": "c568a727-3f1f-409f-8ca1-bea9f8d5744e",
   "metadata": {},
   "source": [
    "## 7_파이썬_입출력"
   ]
  },
  {
   "cell_type": "markdown",
   "id": "cea8535c-4e26-43ac-81d9-76cca3fbda83",
   "metadata": {},
   "source": [
    "### 1. 사용자 입출력\n",
    "#### 1) 사용자 입력"
   ]
  },
  {
   "cell_type": "code",
   "execution_count": 1,
   "id": "bd6f32bf-8d30-4d4f-a92e-bff92444fb85",
   "metadata": {},
   "outputs": [
    {
     "name": "stdin",
     "output_type": "stream",
     "text": [
      " Life is too short, you need python\n"
     ]
    }
   ],
   "source": [
    "a = input()"
   ]
  },
  {
   "cell_type": "code",
   "execution_count": 2,
   "id": "68f940f8-0be8-4bac-a35d-19ab30bf2384",
   "metadata": {},
   "outputs": [
    {
     "name": "stdout",
     "output_type": "stream",
     "text": [
      "Life is too short, you need python\n"
     ]
    }
   ],
   "source": [
    "print(a)"
   ]
  },
  {
   "cell_type": "code",
   "execution_count": 4,
   "id": "13cc5f3c-7687-47f6-8931-c1467990cdd8",
   "metadata": {},
   "outputs": [
    {
     "name": "stdin",
     "output_type": "stream",
     "text": [
      " 100\n"
     ]
    }
   ],
   "source": [
    "num = input()"
   ]
  },
  {
   "cell_type": "code",
   "execution_count": 5,
   "id": "6733c1ed-09d3-4ac3-8ca8-fd489b93854b",
   "metadata": {},
   "outputs": [
    {
     "name": "stdout",
     "output_type": "stream",
     "text": [
      "100\n"
     ]
    }
   ],
   "source": [
    "print(num)"
   ]
  },
  {
   "cell_type": "code",
   "execution_count": null,
   "id": "0f35e2af-25c9-42a0-9374-b78501401111",
   "metadata": {},
   "outputs": [],
   "source": [
    "type(num) #input에 입력한 모든 것은 문자열이다!"
   ]
  },
  {
   "cell_type": "markdown",
   "id": "9761fba6-c2f4-43b8-828f-3cc9f9e40881",
   "metadata": {},
   "source": [
    "#### 2) print() 자세히 알기"
   ]
  },
  {
   "cell_type": "code",
   "execution_count": 7,
   "id": "ae00b322-ac42-40a3-a84e-4aec512155fe",
   "metadata": {},
   "outputs": [
    {
     "name": "stdout",
     "output_type": "stream",
     "text": [
      "123\n",
      "python\n",
      "[1, 2, 3]\n"
     ]
    }
   ],
   "source": [
    "a = 123\n",
    "print(a)\n",
    "b = \"python\"\n",
    "print(b)\n",
    "c = [1, 2, 3]\n",
    "print(c)"
   ]
  },
  {
   "cell_type": "code",
   "execution_count": 9,
   "id": "65bce2f9-7a47-4538-8edb-429f1c9c8f48",
   "metadata": {},
   "outputs": [
    {
     "name": "stdout",
     "output_type": "stream",
     "text": [
      "Life is too short\n",
      "Life is too short\n",
      "Life is too short\n"
     ]
    }
   ],
   "source": [
    "# 문자열과 +연산자로 출력\n",
    "print('Life' ' is' ' too short')   # 작은 따옴표\n",
    "print('Life'+' is'+' too short')   # +연산자 (가장 많이 쓰고, 문자열과 변수가 반복될 때 씀)\n",
    "print(\"Life\" \" is\" \" too short\")   # 큰 따옴표"
   ]
  },
  {
   "cell_type": "code",
   "execution_count": 10,
   "id": "caeed329-a132-4aa1-8f9f-d4478d7211c4",
   "metadata": {},
   "outputs": [
    {
     "name": "stdout",
     "output_type": "stream",
     "text": [
      "Life is too short\n"
     ]
    }
   ],
   "source": [
    "# 문자열 띄어쓰기는 쉼표로\n",
    "print('Life','is','too short')"
   ]
  },
  {
   "cell_type": "code",
   "execution_count": 14,
   "id": "ec0372c0-13fa-4bda-89f5-8f3ac0b38664",
   "metadata": {},
   "outputs": [
    {
     "name": "stdout",
     "output_type": "stream",
     "text": [
      "0\n",
      "1\n",
      "2\n",
      "3\n",
      "4\n",
      "5\n",
      "6\n",
      "7\n",
      "8\n",
      "9\n"
     ]
    }
   ],
   "source": [
    "# print : 출력 후 줄 바꿈\n",
    "for i in range(10):\n",
    "    print(i)"
   ]
  },
  {
   "cell_type": "code",
   "execution_count": null,
   "id": "adc0c828-ff6a-4d28-ac90-936cddf7d2b6",
   "metadata": {},
   "outputs": [],
   "source": [
    "# 한 줄에 갑 출력      / i = 값을 받는 매개변수, end = 키워드 매개변수.\n",
    "for i in range(10):\n",
    "    print(i, end=\" \")"
   ]
  },
  {
   "cell_type": "markdown",
   "id": "e0043bf0-155c-4997-8a5f-e750faccd06c",
   "metadata": {},
   "source": [
    "### 2. 파일 읽고 쓰기\n",
    "#### 1) 파일 생성하기"
   ]
  },
  {
   "cell_type": "code",
   "execution_count": 26,
   "id": "cce5b205-9a74-411e-9ecb-0bcb7da1d86f",
   "metadata": {},
   "outputs": [],
   "source": [
    "# 현재 경로에서 파일 생성\n",
    "f = open('newfile.txt', 'w') \n",
    "# 'w'-쓰기모드\n",
    "# 'r'-읽기모드\n",
    "# 'a'-추가모드(텍스트 마지막에 새로운 내용 추가할 때 사용)"
   ]
  },
  {
   "cell_type": "code",
   "execution_count": 27,
   "id": "56ce11ac-246e-4f26-81f8-c831d6b8b45c",
   "metadata": {},
   "outputs": [],
   "source": [
    "f.close()   #파일을 연 뒤 꼭 닫아줘야 함!"
   ]
  },
  {
   "cell_type": "code",
   "execution_count": 28,
   "id": "f28a7056-8c88-4aa9-905c-5694622917d2",
   "metadata": {},
   "outputs": [],
   "source": [
    "# 특정 경로에서 파일 생성\n",
    "f = open('C:\\\\Users\\\\WD\\\\python_basic\\\\newfile2.txt', 'w')"
   ]
  },
  {
   "cell_type": "code",
   "execution_count": 29,
   "id": "1a8bbc9b-82c2-4edf-af0c-7d93c1e53b78",
   "metadata": {},
   "outputs": [],
   "source": [
    "f.close() # 닫아주기"
   ]
  },
  {
   "cell_type": "markdown",
   "id": "a7bf5974-a91e-4927-be5d-9ca90f0b5363",
   "metadata": {},
   "source": [
    "#### 2) 파일을 쓰기모드로 열어서 내용 쓰기"
   ]
  },
  {
   "cell_type": "code",
   "execution_count": 33,
   "id": "595329d1-8803-4de1-9b08-30b5fdd39ed9",
   "metadata": {},
   "outputs": [],
   "source": [
    "f = open('newfile.txt', 'w')\n",
    "for i in range(1, 11):\n",
    "    data = f\"{i}번째 줄입니다.\\n\"\n",
    "    f.write(data)\n",
    "f.close()"
   ]
  },
  {
   "cell_type": "markdown",
   "id": "e2358934-9b8f-4609-b38e-5c0c74b0fb08",
   "metadata": {},
   "source": [
    "#### 3) 파일을 읽는 여러가지 방법"
   ]
  },
  {
   "cell_type": "code",
   "execution_count": 35,
   "id": "82456441-974c-402d-a2db-d15addfc83d7",
   "metadata": {},
   "outputs": [
    {
     "name": "stdout",
     "output_type": "stream",
     "text": [
      "1번째 줄입니다.\n",
      "\n"
     ]
    }
   ],
   "source": [
    "f = open('newfile.txt', 'r')\n",
    "line = f.readline()\n",
    "print(line)\n",
    "f.close()   # 기본은 한 줄만 읽음"
   ]
  },
  {
   "cell_type": "code",
   "execution_count": 38,
   "id": "fb3bb281-4018-46b3-9c9f-ad661ef6c0e2",
   "metadata": {},
   "outputs": [
    {
     "name": "stdout",
     "output_type": "stream",
     "text": [
      "1번째 줄입니다.\n",
      "\n",
      "2번째 줄입니다.\n",
      "\n",
      "3번째 줄입니다.\n",
      "\n",
      "4번째 줄입니다.\n",
      "\n",
      "5번째 줄입니다.\n",
      "\n",
      "6번째 줄입니다.\n",
      "\n",
      "7번째 줄입니다.\n",
      "\n",
      "8번째 줄입니다.\n",
      "\n",
      "9번째 줄입니다.\n",
      "\n",
      "10번째 줄입니다.\n",
      "\n"
     ]
    }
   ],
   "source": [
    "# readline 함수로 여러 줄 읽기\n",
    "f = open('newfile.txt', 'r')\n",
    "while True:\n",
    "    line = f.readline()\n",
    "    if not line:\n",
    "        break\n",
    "    else:\n",
    "        print(line)\n",
    "f.close()"
   ]
  },
  {
   "cell_type": "code",
   "execution_count": 39,
   "id": "615ef1da-7f44-4134-89fb-b863b2c6d2ba",
   "metadata": {},
   "outputs": [
    {
     "name": "stdin",
     "output_type": "stream",
     "text": [
      " 안녕하세요 김태연입니다\n"
     ]
    },
    {
     "name": "stdout",
     "output_type": "stream",
     "text": [
      "안녕하세요 김태연입니다\n"
     ]
    },
    {
     "name": "stdin",
     "output_type": "stream",
     "text": [
      " a\n"
     ]
    },
    {
     "name": "stdout",
     "output_type": "stream",
     "text": [
      "a\n"
     ]
    },
    {
     "name": "stdin",
     "output_type": "stream",
     "text": [
      " b\n"
     ]
    },
    {
     "name": "stdout",
     "output_type": "stream",
     "text": [
      "b\n"
     ]
    },
    {
     "name": "stdin",
     "output_type": "stream",
     "text": [
      " c\n"
     ]
    },
    {
     "name": "stdout",
     "output_type": "stream",
     "text": [
      "c\n"
     ]
    },
    {
     "name": "stdin",
     "output_type": "stream",
     "text": [
      " \n"
     ]
    }
   ],
   "source": [
    "# 사용자의 입력을 받아 여러 줄 출력하기\n",
    "while True:\n",
    "    data = input()\n",
    "    if not data: \n",
    "        break\n",
    "    print(data)\n",
    "f.close()"
   ]
  },
  {
   "cell_type": "code",
   "execution_count": 43,
   "id": "451cce66-5d49-4a66-9da9-6fe4a80c2ff0",
   "metadata": {},
   "outputs": [
    {
     "name": "stdout",
     "output_type": "stream",
     "text": [
      "['1번째 줄입니다.\\n', '2번째 줄입니다.\\n', '3번째 줄입니다.\\n', '4번째 줄입니다.\\n', '5번째 줄입니다.\\n', '6번째 줄입니다.\\n', '7번째 줄입니다.\\n', '8번째 줄입니다.\\n', '9번째 줄입니다.\\n', '10번째 줄입니다.\\n']\n",
      "--------------------------------------------------\n",
      "1번째 줄입니다.\n",
      "\n",
      "2번째 줄입니다.\n",
      "\n",
      "3번째 줄입니다.\n",
      "\n",
      "4번째 줄입니다.\n",
      "\n",
      "5번째 줄입니다.\n",
      "\n",
      "6번째 줄입니다.\n",
      "\n",
      "7번째 줄입니다.\n",
      "\n",
      "8번째 줄입니다.\n",
      "\n",
      "9번째 줄입니다.\n",
      "\n",
      "10번째 줄입니다.\n",
      "\n"
     ]
    }
   ],
   "source": [
    "# 여러 줄 읽는 readlines()함수 사용하기\n",
    "f = open('newfile.txt', 'r')\n",
    "lines = f.readlines()\n",
    "print(lines)\n",
    "print('-'*50)\n",
    "for line in lines:\n",
    "    print(line)\n",
    "f.close()"
   ]
  },
  {
   "cell_type": "code",
   "execution_count": 45,
   "id": "15a04e49-497f-4801-a0fd-903346c01a5f",
   "metadata": {},
   "outputs": [
    {
     "name": "stdout",
     "output_type": "stream",
     "text": [
      "1번째 줄입니다.\n",
      "2번째 줄입니다.\n",
      "3번째 줄입니다.\n",
      "4번째 줄입니다.\n",
      "5번째 줄입니다.\n",
      "6번째 줄입니다.\n",
      "7번째 줄입니다.\n",
      "8번째 줄입니다.\n",
      "9번째 줄입니다.\n",
      "10번째 줄입니다.\n"
     ]
    }
   ],
   "source": [
    "# 줄바꿈(\\n)문자 제거하기\n",
    "f = open('newfile.txt', 'r')\n",
    "lines = f.readlines()\n",
    "for line in lines:\n",
    "    line = line.strip()\n",
    "    print(line)\n",
    "f.close()"
   ]
  },
  {
   "cell_type": "code",
   "execution_count": 48,
   "id": "43426480-df00-454d-9376-16eec6739add",
   "metadata": {},
   "outputs": [
    {
     "name": "stdout",
     "output_type": "stream",
     "text": [
      "1번째 줄입니다.\n",
      "2번째 줄입니다.\n",
      "3번째 줄입니다.\n",
      "4번째 줄입니다.\n",
      "5번째 줄입니다.\n",
      "6번째 줄입니다.\n",
      "7번째 줄입니다.\n",
      "8번째 줄입니다.\n",
      "9번째 줄입니다.\n",
      "10번째 줄입니다.\n",
      "\n"
     ]
    }
   ],
   "source": [
    "# read함수로 파일 전체 내용 읽기\n",
    "f = open('newfile.txt', 'r')\n",
    "data = f.read() \n",
    "print(data)\n",
    "f.close()"
   ]
  },
  {
   "cell_type": "code",
   "execution_count": 51,
   "id": "b9b97081-c1f8-43ea-ace8-5dfe85e2dac0",
   "metadata": {},
   "outputs": [
    {
     "name": "stdout",
     "output_type": "stream",
     "text": [
      "1번째 줄입니다.\n",
      "\n",
      "2번째 줄입니다.\n",
      "\n",
      "3번째 줄입니다.\n",
      "\n",
      "4번째 줄입니다.\n",
      "\n",
      "5번째 줄입니다.\n",
      "\n",
      "6번째 줄입니다.\n",
      "\n",
      "7번째 줄입니다.\n",
      "\n",
      "8번째 줄입니다.\n",
      "\n",
      "9번째 줄입니다.\n",
      "\n",
      "10번째 줄입니다.\n",
      "\n"
     ]
    }
   ],
   "source": [
    "# 파일 객체를 for문을 이용하여 줄 단위로 읽기\n",
    "f = open('newfile.txt', 'r')\n",
    "for line in f:\n",
    "    print(line)\n",
    "f.close()"
   ]
  },
  {
   "cell_type": "markdown",
   "id": "900db99a-2a90-4541-a9cf-19a9c8eddf16",
   "metadata": {},
   "source": [
    "#### 4) 파일에 새로운 내용 추가"
   ]
  },
  {
   "cell_type": "code",
   "execution_count": 53,
   "id": "3720f14f-9e14-4c77-af24-7da88271985b",
   "metadata": {},
   "outputs": [],
   "source": [
    "f = open('newfile.txt', 'a')\n",
    "for i in range(11, 20):\n",
    "    data = f\"{i}번째 줄을 추가합니다. \\n\"\n",
    "    f.write(data)\n",
    "f.close()"
   ]
  },
  {
   "cell_type": "markdown",
   "id": "cfc19ef0-06fc-4fa1-8e0b-a400970e0314",
   "metadata": {},
   "source": [
    "#### 5) with문과 함께 사용하기"
   ]
  },
  {
   "cell_type": "code",
   "execution_count": 55,
   "id": "4e7743a9-5e6b-4c08-8a86-d9658b099a4d",
   "metadata": {},
   "outputs": [],
   "source": [
    "with open('foo.txt', 'w') as f:\n",
    "    f.write(\"Life is too short, you need python!\")"
   ]
  },
  {
   "cell_type": "code",
   "execution_count": null,
   "id": "6688ee39-20ec-400f-9f5c-ba5ee2b158cb",
   "metadata": {},
   "outputs": [],
   "source": []
  }
 ],
 "metadata": {
  "kernelspec": {
   "display_name": "Python [conda env:base] *",
   "language": "python",
   "name": "conda-base-py"
  },
  "language_info": {
   "codemirror_mode": {
    "name": "ipython",
    "version": 3
   },
   "file_extension": ".py",
   "mimetype": "text/x-python",
   "name": "python",
   "nbconvert_exporter": "python",
   "pygments_lexer": "ipython3",
   "version": "3.13.5"
  },
  "widgets": {
   "application/vnd.jupyter.widget-state+json": {
    "state": {},
    "version_major": 2,
    "version_minor": 0
   }
  }
 },
 "nbformat": 4,
 "nbformat_minor": 5
}
