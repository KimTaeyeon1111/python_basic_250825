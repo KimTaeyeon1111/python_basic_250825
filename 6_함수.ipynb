{
 "cells": [
  {
   "cell_type": "markdown",
   "id": "9e706e98-b288-4572-a800-a3a97a44c515",
   "metadata": {},
   "source": [
    "## 6_함수"
   ]
  },
  {
   "cell_type": "markdown",
   "id": "a4a7fbfc-68de-4f09-a8cf-79c8481fc9d3",
   "metadata": {},
   "source": [
    "### 1. 파이썬_함수.\n",
    "\n",
    "##### 입력값을 가지고 어떤 일을 수행한 후 그 결과물을 내어놓는 것"
   ]
  },
  {
   "cell_type": "code",
   "execution_count": 3,
   "id": "a23ec60c-f679-453f-882b-30c20aaf723e",
   "metadata": {},
   "outputs": [
    {
     "name": "stdout",
     "output_type": "stream",
     "text": [
      "7\n"
     ]
    }
   ],
   "source": [
    "def add(a, b):\n",
    "    return a+b\n",
    "\n",
    "a, b = 3, 4\n",
    "c = add(a, b)\n",
    "\n",
    "print(c)"
   ]
  },
  {
   "cell_type": "code",
   "execution_count": 4,
   "id": "5e226047-e821-4476-8ee9-33b4ebb2c002",
   "metadata": {},
   "outputs": [
    {
     "name": "stdout",
     "output_type": "stream",
     "text": [
      "333\n"
     ]
    }
   ],
   "source": [
    "def add(a, b):\n",
    "    return a+b\n",
    "\n",
    "a, b = 3, 4\n",
    "c = add(a, b)\n",
    "\n",
    "d = add(111, 222)\n",
    "print(d)"
   ]
  },
  {
   "cell_type": "code",
   "execution_count": 5,
   "id": "a23c2fd9-0329-45a8-aa24-733563e7762b",
   "metadata": {},
   "outputs": [
    {
     "name": "stdout",
     "output_type": "stream",
     "text": [
      "7\n",
      "333\n"
     ]
    }
   ],
   "source": [
    "# return을 사용하지 않을 경우 none이 뜨는데 다른 방법으로는 print 대입이 있다.\n",
    "\n",
    "def add(a, b):\n",
    "    print(a+b)\n",
    "\n",
    "a, b = 3, 4\n",
    "c = add(a, b)\n",
    "# print(c)\n",
    "\n",
    "d = add(111, 222)\n",
    "# print(d)"
   ]
  },
  {
   "cell_type": "code",
   "execution_count": 6,
   "id": "087612de-74a5-4a7f-a50f-6ab20e946ff6",
   "metadata": {},
   "outputs": [
    {
     "name": "stdout",
     "output_type": "stream",
     "text": [
      "6\n"
     ]
    }
   ],
   "source": [
    "# 1. 매개변수 O, 리턴값 O.\n",
    "\n",
    "def minus(a,b):\n",
    "    result = a - b\n",
    "    return result\n",
    "\n",
    "a = minus(10,4)\n",
    "print(a)"
   ]
  },
  {
   "cell_type": "code",
   "execution_count": 11,
   "id": "35b58f47-d2fb-4d65-ba3c-97b742676719",
   "metadata": {},
   "outputs": [
    {
     "name": "stdout",
     "output_type": "stream",
     "text": [
      "Hi\n"
     ]
    }
   ],
   "source": [
    "# 2. 매개변수 X, 리턴값 O.\n",
    "\n",
    "def say():\n",
    "    return \"Hi\"\n",
    "\n",
    "print(say())"
   ]
  },
  {
   "cell_type": "code",
   "execution_count": 13,
   "id": "839c350e-cc06-4519-8493-3d65c1419fdc",
   "metadata": {},
   "outputs": [
    {
     "name": "stdout",
     "output_type": "stream",
     "text": [
      "5와 6의 합은 11입니다.\n",
      "1와 2의 합은 3입니다.\n",
      "None\n"
     ]
    }
   ],
   "source": [
    "# 3. 매개변수 O, 리턴값 X.  \n",
    "def add(x, y):\n",
    "    print(\"%d와 %d의 합은 %d입니다.\"%(x, y, x+y))\n",
    "\n",
    "add(5, 6)\n",
    "\n",
    "a = add(1, 2)\n",
    "print(a)"
   ]
  },
  {
   "cell_type": "code",
   "execution_count": 16,
   "id": "262dc5fb-5e22-4be3-a5e9-2c07a968d2c7",
   "metadata": {},
   "outputs": [
    {
     "name": "stdout",
     "output_type": "stream",
     "text": [
      "Hi\n"
     ]
    }
   ],
   "source": [
    "# 4. 매개변수 X, 리턴값 X.\n",
    "def say():\n",
    "    print(\"Hi\")\n",
    "\n",
    "say()"
   ]
  },
  {
   "cell_type": "code",
   "execution_count": 7,
   "id": "d864ed88-42dc-4618-9a57-9dd2e8511b12",
   "metadata": {},
   "outputs": [
    {
     "name": "stdout",
     "output_type": "stream",
     "text": [
      "4\n",
      "4\n"
     ]
    }
   ],
   "source": [
    "# 키워드 매개변수\n",
    "def sub(a, b):\n",
    "    return a - b\n",
    "\n",
    "result = sub (7, 3)\n",
    "print(result)\n",
    "\n",
    "result2 = sub(b=3, a=7)\n",
    "print(result2)"
   ]
  },
  {
   "cell_type": "code",
   "execution_count": 10,
   "id": "d53f6d8a-7a82-4d31-9ae5-b98edc347c3c",
   "metadata": {},
   "outputs": [
    {
     "name": "stdout",
     "output_type": "stream",
     "text": [
      "15\n",
      "55\n"
     ]
    }
   ],
   "source": [
    "# 가변 매개변수 (*매개변수명) - 매개변수 개수 여러개.\n",
    "def add_many(*args):\n",
    "    result = 0\n",
    "    for i in args:\n",
    "        result += i\n",
    "    return result\n",
    "\n",
    "res1 = add_many(1, 2, 3, 4, 5)\n",
    "print(res1)\n",
    "\n",
    "res2 = add_many(1, 2, 3, 4, 5, 6, 7, 8, 9, 10)\n",
    "print(res2)"
   ]
  },
  {
   "cell_type": "code",
   "execution_count": 19,
   "id": "91b72b7c-c52b-4f54-915d-a8bc1d0a4f41",
   "metadata": {},
   "outputs": [
    {
     "name": "stdout",
     "output_type": "stream",
     "text": [
      "6\n",
      "6\n"
     ]
    }
   ],
   "source": [
    "# 덧셈, 곱셈 둘 다 연산 가능한 함수\n",
    "\n",
    "def add_mul(choice, *args):\n",
    "    if choice == 'add' :\n",
    "        result = 0\n",
    "        for i in args:\n",
    "            result += i\n",
    "    elif choice == \"mul\":\n",
    "        result = 1\n",
    "        for i in args:\n",
    "            result *= i\n",
    "    return result\n",
    "\n",
    "res1 = add_mul('add', 1, 2, 3)\n",
    "print(res1)\n",
    "\n",
    "res2 = add_mul('mul', 1, 2, 3)\n",
    "print(res2)"
   ]
  },
  {
   "cell_type": "code",
   "execution_count": 22,
   "id": "0d7d8772-c41b-45c1-9e3f-cff4250205f5",
   "metadata": {},
   "outputs": [
    {
     "name": "stdout",
     "output_type": "stream",
     "text": [
      "{'a': 1}\n",
      "{'name': 'foo', 'age': 3}\n"
     ]
    }
   ],
   "source": [
    "# 키워드 가변 매개변수(**매개변수)\n",
    "\n",
    "def print_kwargs(**kwargs):\n",
    "    print(kwargs)\n",
    "\n",
    "print_kwargs(a=1)\n",
    "\n",
    "print_kwargs(name='foo', age=3)"
   ]
  },
  {
   "cell_type": "code",
   "execution_count": 25,
   "id": "9a4e5ad0-3f18-490a-9b1e-25b31ab91c6c",
   "metadata": {},
   "outputs": [
    {
     "name": "stdout",
     "output_type": "stream",
     "text": [
      "(7, 12)\n",
      "a + b = 7\n",
      "a * b = 12\n"
     ]
    }
   ],
   "source": [
    "# 함수의 리턴값은 하나!!!\n",
    "def add_and_mul(a, b):\n",
    "    return a+b, a*b\n",
    "\n",
    "res =add_and_mul(3, 4)\n",
    "print(res)\n",
    "\n",
    "res1, res2 = add_and_mul(3, 4)\n",
    "\n",
    "print(\"a + b =\", res1)\n",
    "print(\"a * b =\", res2)"
   ]
  },
  {
   "cell_type": "code",
   "execution_count": 59,
   "id": "3aa329d8-5a6b-48de-8c2c-95285830edc0",
   "metadata": {},
   "outputs": [
    {
     "name": "stdout",
     "output_type": "stream",
     "text": [
      "5\n"
     ]
    }
   ],
   "source": [
    "def add_and_mul(a, b):\n",
    "    return a+b        #리턴은 값을 반환하고 종료하기 때문에 첫 리턴만 값을 반환한다.\n",
    "    return a*b        #그래서 튜플로 값을 두 개 입력해줘야 함 return a+b, a*b\n",
    "\n",
    "res = add_and_mul(2, 3)\n",
    "print(res)"
   ]
  },
  {
   "cell_type": "code",
   "execution_count": 33,
   "id": "d3a9165a-0623-4600-a752-6ababffe1e04",
   "metadata": {},
   "outputs": [
    {
     "name": "stdout",
     "output_type": "stream",
     "text": [
      "나의 별명은 야호!! 입니다.\n"
     ]
    }
   ],
   "source": [
    "# return의 또 다른 쓰입새\n",
    "def say_nick(nick):\n",
    "    if nick == '바보' :\n",
    "        return\n",
    "    print(\"나의 별명은 %s 입니다.\"%nick)\n",
    "\n",
    "say_nick('야호!!')\n",
    "say_nick('바보')"
   ]
  },
  {
   "cell_type": "code",
   "execution_count": 39,
   "id": "b401ce5f-3aed-4ec9-82e4-feba6209eb92",
   "metadata": {},
   "outputs": [
    {
     "name": "stdout",
     "output_type": "stream",
     "text": [
      "나의 이름은 김태연입니다.\n",
      "나이는 24살 입니다.\n",
      "남자입니다.\n",
      "나의 이름은 김태연입니다.\n",
      "나이는 24살 입니다.\n",
      "여자입니다.\n"
     ]
    }
   ],
   "source": [
    "#매개변수에 초기값 설정\n",
    "def say_myself(name, age, man=True):\n",
    "    print(f\"나의 이름은 {name}입니다.\")\n",
    "    print(f\"나이는 {age}살 입니다.\")\n",
    "    if man:\n",
    "        print(\"남자입니다.\")\n",
    "    else:\n",
    "        print(\"여자입니다.\")\n",
    "\n",
    "# 함수 호출\n",
    "say_myself('김태연', 24)\n",
    "\n",
    "say_myself('김태연', 24, False)"
   ]
  },
  {
   "cell_type": "code",
   "execution_count": 42,
   "id": "32589002-3070-498e-b3ce-4019f5bb8563",
   "metadata": {},
   "outputs": [
    {
     "ename": "SyntaxError",
     "evalue": "parameter without a default follows parameter with a default (559964239.py, line 2)",
     "output_type": "error",
     "traceback": [
      "\u001b[1;36m  Cell \u001b[1;32mIn[42], line 2\u001b[1;36m\u001b[0m\n\u001b[1;33m    def say_myself(name, man=True, age):\u001b[0m\n\u001b[1;37m                                   ^\u001b[0m\n\u001b[1;31mSyntaxError\u001b[0m\u001b[1;31m:\u001b[0m parameter without a default follows parameter with a default\n"
     ]
    }
   ],
   "source": [
    "#매개변수에 초기값 설정   /   기본값은 중간이 아닌 맨 뒤에 써야함.\n",
    "def say_myself(name, man=True, age):\n",
    "    print(f\"나의 이름은 {name}입니다.\")\n",
    "    print(f\"나이는 {age}살 입니다.\")\n",
    "    if man:\n",
    "        print(\"남자입니다.\")\n",
    "    else:\n",
    "        print(\"여자입니다.\")\n",
    "\n",
    "# 함수 호출\n",
    "say_myself('김태연', 24)\n",
    "\n",
    "# 매개변수 쓰는 순서\n",
    "# 위치 인자 -> 기본값(default)인자 -> 가변 인자 -> 키워드 인자 -> 키워드 가변 인자"
   ]
  },
  {
   "cell_type": "code",
   "execution_count": 45,
   "id": "f4155093-e4a0-4858-b3d6-23ba13dbc9e3",
   "metadata": {},
   "outputs": [
    {
     "name": "stdout",
     "output_type": "stream",
     "text": [
      "1\n"
     ]
    }
   ],
   "source": [
    "# 함수의 유효 범위\n",
    "a = 1\n",
    "def vartest(a):\n",
    "    a = a+1\n",
    "\n",
    "vartest(a)\n",
    "print(a) # 함수 밖에 있는 a가 출력됨."
   ]
  },
  {
   "cell_type": "code",
   "execution_count": 52,
   "id": "51ed7f5f-9e10-4873-bf61-6b1bf3f876c8",
   "metadata": {},
   "outputs": [
    {
     "name": "stdout",
     "output_type": "stream",
     "text": [
      "2\n"
     ]
    }
   ],
   "source": [
    "# 함수의 유효 범위 => 1. return 사용하기\n",
    "a = 1\n",
    "def vartest(x):\n",
    "    x = x+1\n",
    "    return x\n",
    "\n",
    "a = vartest(a) # 함수 실행하면 a값이 반환되고 a 변수에 덮어쓰임.\n",
    "print(a)"
   ]
  },
  {
   "cell_type": "code",
   "execution_count": 54,
   "id": "f6f42a2b-31b3-45da-bea8-d165e7f8bbf6",
   "metadata": {},
   "outputs": [
    {
     "name": "stdout",
     "output_type": "stream",
     "text": [
      "2\n"
     ]
    }
   ],
   "source": [
    "# 함수의 유효 범위 => 2. global 명령어 사용하기\n",
    "a = 1\n",
    "def vartest():\n",
    "    global a    # 함수 안에서 a는 전역변수로 변경됨\n",
    "    a += 1\n",
    "\n",
    "vartest()\n",
    "print(a)"
   ]
  },
  {
   "cell_type": "code",
   "execution_count": 56,
   "id": "a3450295-5d11-4791-b7e9-30ce7cf0b1ae",
   "metadata": {},
   "outputs": [
    {
     "name": "stdout",
     "output_type": "stream",
     "text": [
      "7\n"
     ]
    }
   ],
   "source": [
    "# lambda 표현식 (예약어) 사용 안 하고 함수 선언\n",
    "\n",
    "def add(a, b):\n",
    "    return a+b\n",
    "\n",
    "print(add(3,4))"
   ]
  },
  {
   "cell_type": "code",
   "execution_count": 58,
   "id": "83ae3904-be99-4039-bfb5-1515f86f361b",
   "metadata": {},
   "outputs": [
    {
     "name": "stdout",
     "output_type": "stream",
     "text": [
      "7\n"
     ]
    }
   ],
   "source": [
    "# lambda 표현식 (예약어) 사용하고 함수 선언\n",
    "add = lambda a, b : a+b \n",
    "print(add(3,4))"
   ]
  },
  {
   "cell_type": "markdown",
   "id": "62f35623-7087-4bc2-8eda-e1902102c803",
   "metadata": {},
   "source": [
    "### 2. 함수의 활용\n"
   ]
  },
  {
   "cell_type": "markdown",
   "id": "cd15f13e-6f7b-4ba1-8fc8-98e3447ecbe5",
   "metadata": {},
   "source": [
    "#### 1) 재귀함수\n",
    "##### 내가 만든 함수를 다시 호출하는 것."
   ]
  },
  {
   "cell_type": "code",
   "execution_count": 60,
   "id": "36593084-d6e4-41b1-ab18-95364ee86493",
   "metadata": {},
   "outputs": [
    {
     "name": "stdout",
     "output_type": "stream",
     "text": [
      "5! = 120\n"
     ]
    }
   ],
   "source": [
    "# 반복문으로 팩토리얼 구하기\n",
    "def factorial(n):\n",
    "    output = 1\n",
    "    for i in range(1, n+1):\n",
    "        output *= i\n",
    "    return output\n",
    "\n",
    "print('5! =', factorial(5))"
   ]
  },
  {
   "cell_type": "code",
   "execution_count": 65,
   "id": "8b6d7d8a-fe3b-4ecb-87ba-9598c4523492",
   "metadata": {},
   "outputs": [
    {
     "name": "stdout",
     "output_type": "stream",
     "text": [
      "5! = 120\n"
     ]
    }
   ],
   "source": [
    "# 재귀함수로 팩토리얼 구하기\n",
    "def factorial(n):\n",
    "    if n == 0:\n",
    "        return 1\n",
    "    else:\n",
    "        return n * factorial(n-1)\n",
    "\n",
    "print('5! =', factorial(5))\n",
    "\n",
    "\n",
    "#         n     n*f(n-1)    = mean\n",
    "# f(5)    5      5*f(4)    5*4*3*2*1\n",
    "# f(4)    4      4*f(3)     4*3*2*1\n",
    "# f(3)    3      3*f(2)      3*2*1\n",
    "# f(2)    2      2*f(1)       2*1\n",
    "# f(1)    1      1*f(0)       1*1\n",
    "\n",
    "# f(0) = 1"
   ]
  },
  {
   "cell_type": "code",
   "execution_count": 68,
   "id": "9638596e-2446-4edf-827a-cfcbecb69eb9",
   "metadata": {},
   "outputs": [
    {
     "name": "stdout",
     "output_type": "stream",
     "text": [
      "4\n",
      "원본 : [[1, 2, 3], [4, [5, 6]], 7, [8, 9]]\n",
      "평탄화 : [1, 2, 3, 4, [5, 6], 7, 8, 9]\n"
     ]
    }
   ],
   "source": [
    "# 반복문으로 리스트 평탄화\n",
    "def flatten(data):\n",
    "    output = []\n",
    "    for item in data:\n",
    "        if type(item) == list:\n",
    "            output += item\n",
    "        else:\n",
    "            output.append(item)\n",
    "    return output\n",
    "\n",
    "ex = [[1, 2, 3], [4, [5 ,6]], 7, [8, 9]]\n",
    "print(len(ex))\n",
    "print('원본 :', ex)\n",
    "print('평탄화 :', flatten(ex))"
   ]
  },
  {
   "cell_type": "code",
   "execution_count": 69,
   "id": "20e9d392-1c76-492c-8430-daadcec8f66f",
   "metadata": {},
   "outputs": [
    {
     "name": "stdout",
     "output_type": "stream",
     "text": [
      "원본 : [[1, 2, 3], [4, [5, 6]], 7, [8, 9]]\n",
      "평탄화 : [1, 2, 3, 4, 5, 6, 7, 8, 9]\n"
     ]
    }
   ],
   "source": [
    "# 재귀함수로 리스트 평탄화\n",
    "\n",
    "def flatten(data):\n",
    "    output = []\n",
    "    for item in data:\n",
    "        if type(item) == list:\n",
    "            output += flatten(item)\n",
    "        else:\n",
    "            output.append(item)\n",
    "    return output\n",
    "\n",
    "ex = [[1, 2, 3], [4, [5 ,6]], 7, [8, 9]]\n",
    "print('원본 :', ex)\n",
    "print('평탄화 :', flatten(ex))"
   ]
  },
  {
   "cell_type": "code",
   "execution_count": null,
   "id": "59dc7c3c-d6a4-4b2c-8230-9468733e5b37",
   "metadata": {},
   "outputs": [],
   "source": []
  }
 ],
 "metadata": {
  "kernelspec": {
   "display_name": "Python [conda env:base] *",
   "language": "python",
   "name": "conda-base-py"
  },
  "language_info": {
   "codemirror_mode": {
    "name": "ipython",
    "version": 3
   },
   "file_extension": ".py",
   "mimetype": "text/x-python",
   "name": "python",
   "nbconvert_exporter": "python",
   "pygments_lexer": "ipython3",
   "version": "3.13.5"
  },
  "widgets": {
   "application/vnd.jupyter.widget-state+json": {
    "state": {},
    "version_major": 2,
    "version_minor": 0
   }
  }
 },
 "nbformat": 4,
 "nbformat_minor": 5
}
