{
 "cells": [
  {
   "cell_type": "markdown",
   "id": "92a98025-2ad8-470e-b458-75579562647d",
   "metadata": {},
   "source": [
    "### 날짜 표준 라이브러리\n",
    "\n",
    "###### 함수 -> class -> 모듈 -> 패키지 -> 라이브러리.\n",
    "###### 표준 라이브러리 => 타인들이 만든 유용한 프로그램을 모아둔 것."
   ]
  },
  {
   "cell_type": "code",
   "execution_count": 2,
   "id": "1bd42a06-e096-4ed3-8d86-541ec020f5c0",
   "metadata": {},
   "outputs": [
    {
     "ename": "NameError",
     "evalue": "name 'datetime' is not defined",
     "output_type": "error",
     "traceback": [
      "\u001b[1;31m---------------------------------------------------------------------------\u001b[0m",
      "\u001b[1;31mNameError\u001b[0m                                 Traceback (most recent call last)",
      "Cell \u001b[1;32mIn[2], line 1\u001b[0m\n\u001b[1;32m----> 1\u001b[0m day1 \u001b[38;5;241m=\u001b[39m datetime\u001b[38;5;241m.\u001b[39mdate(\u001b[38;5;241m2025\u001b[39m,\u001b[38;5;241m9\u001b[39m,\u001b[38;5;241m1\u001b[39m)\n",
      "\u001b[1;31mNameError\u001b[0m: name 'datetime' is not defined"
     ]
    }
   ],
   "source": [
    "day1 = datetime.date(2025,9,1)  # 쉼표로 써줘야 함.\n",
    "# datetime을 인지하지 못하기 때문에 import를 해주어야 함."
   ]
  },
  {
   "cell_type": "code",
   "execution_count": 3,
   "id": "0f5fd136-e19b-460c-9eb1-7daebd87ab0a",
   "metadata": {},
   "outputs": [],
   "source": [
    "import datetime\n",
    "\n",
    "day1 = datetime.date(2025,9,1)\n",
    "day2 = datetime.date(2026,4,5)"
   ]
  },
  {
   "cell_type": "code",
   "execution_count": 6,
   "id": "e5f886dd-dc70-40bb-977f-f115b990001c",
   "metadata": {},
   "outputs": [
    {
     "name": "stdout",
     "output_type": "stream",
     "text": [
      "216 days, 0:00:00\n"
     ]
    }
   ],
   "source": [
    "diff = day2 - day1\n",
    "print(diff)"
   ]
  },
  {
   "cell_type": "code",
   "execution_count": 7,
   "id": "fe39148d-5cfe-45cc-8d74-79dee124cfc9",
   "metadata": {},
   "outputs": [
    {
     "data": {
      "text/plain": [
       "216"
      ]
     },
     "execution_count": 7,
     "metadata": {},
     "output_type": "execute_result"
    }
   ],
   "source": [
    "diff.days"
   ]
  },
  {
   "cell_type": "code",
   "execution_count": 16,
   "id": "18487698-5770-4987-9018-bfa4d2fa063e",
   "metadata": {},
   "outputs": [
    {
     "data": {
      "text/plain": [
       "0"
      ]
     },
     "execution_count": 16,
     "metadata": {},
     "output_type": "execute_result"
    }
   ],
   "source": [
    "day1.weekday()  # weekday = 요일. 0~6까지 월~일."
   ]
  },
  {
   "cell_type": "code",
   "execution_count": 17,
   "id": "dc687cf1-f8d0-4dde-a2f5-8c11e68d60b4",
   "metadata": {},
   "outputs": [
    {
     "data": {
      "text/plain": [
       "6"
      ]
     },
     "execution_count": 17,
     "metadata": {},
     "output_type": "execute_result"
    }
   ],
   "source": [
    "day2.weekday()"
   ]
  },
  {
   "cell_type": "code",
   "execution_count": 18,
   "id": "9c6abd6c-fb46-4be7-b700-b6f8b5ed170e",
   "metadata": {},
   "outputs": [
    {
     "data": {
      "text/plain": [
       "1"
      ]
     },
     "execution_count": 18,
     "metadata": {},
     "output_type": "execute_result"
    }
   ],
   "source": [
    "day1.isoweekday()  # isoweekday = 요일. 1~7까지 월~일."
   ]
  },
  {
   "cell_type": "code",
   "execution_count": 19,
   "id": "e80bbdd2-403c-4868-8fa7-af92f79d4ab4",
   "metadata": {},
   "outputs": [
    {
     "data": {
      "text/plain": [
       "7"
      ]
     },
     "execution_count": 19,
     "metadata": {},
     "output_type": "execute_result"
    }
   ],
   "source": [
    "day2.isoweekday()"
   ]
  },
  {
   "cell_type": "code",
   "execution_count": 25,
   "id": "a594bb3a-9d45-4dcd-83a4-f295261ec7f5",
   "metadata": {},
   "outputs": [
    {
     "data": {
      "text/plain": [
       "datetime.date(2025, 9, 1)"
      ]
     },
     "execution_count": 25,
     "metadata": {},
     "output_type": "execute_result"
    }
   ],
   "source": [
    "today = datetime.date.today()   # 해당 지역의 날짜 반환.\n",
    "today"
   ]
  },
  {
   "cell_type": "code",
   "execution_count": 31,
   "id": "db3e523b-3791-41bd-a99a-ad1c05786ccd",
   "metadata": {},
   "outputs": [
    {
     "data": {
      "text/plain": [
       "'Mon Sep  1 10:05:14 2025'"
      ]
     },
     "execution_count": 31,
     "metadata": {},
     "output_type": "execute_result"
    }
   ],
   "source": [
    "today = datetime.datetime.today().ctime()\n",
    "today"
   ]
  },
  {
   "cell_type": "code",
   "execution_count": 32,
   "id": "51904846-1170-4c1a-b022-762ffb831f36",
   "metadata": {},
   "outputs": [
    {
     "data": {
      "text/plain": [
       "'Mon Sep  1 10:05:31 2025'"
      ]
     },
     "execution_count": 32,
     "metadata": {},
     "output_type": "execute_result"
    }
   ],
   "source": [
    "today = datetime.datetime.today().ctime()\n",
    "today\n"
   ]
  },
  {
   "cell_type": "code",
   "execution_count": 34,
   "id": "6f558b5a-078d-4efa-9ad7-9ab9628c2986",
   "metadata": {},
   "outputs": [
    {
     "data": {
      "text/plain": [
       "1756688807.343084"
      ]
     },
     "execution_count": 34,
     "metadata": {},
     "output_type": "execute_result"
    }
   ],
   "source": [
    "# time 객체\n",
    "import time\n",
    "\n",
    "time.time()\n",
    "# 1970년 01월 01일을 기준으로 초단위로 계산한 값."
   ]
  },
  {
   "cell_type": "code",
   "execution_count": 36,
   "id": "ef0977dc-4d12-42db-acba-98a5d8cc6a4f",
   "metadata": {},
   "outputs": [
    {
     "data": {
      "text/plain": [
       "time.struct_time(tm_year=2025, tm_mon=9, tm_mday=1, tm_hour=10, tm_min=8, tm_sec=2, tm_wday=0, tm_yday=244, tm_isdst=0)"
      ]
     },
     "execution_count": 36,
     "metadata": {},
     "output_type": "execute_result"
    }
   ],
   "source": [
    "time.localtime(time.time())    # 위의 초단위 함수를 localtime 함수로 변환\n",
    "# 2025.09.01. 10:07:18 월요일. 2025년의 244일 째."
   ]
  },
  {
   "cell_type": "code",
   "execution_count": 37,
   "id": "4e011ea1-3f4e-44b5-9983-6d6f9f2836dc",
   "metadata": {},
   "outputs": [
    {
     "data": {
      "text/plain": [
       "'Mon Sep  1 10:08:26 2025'"
      ]
     },
     "execution_count": 37,
     "metadata": {},
     "output_type": "execute_result"
    }
   ],
   "source": [
    "time.asctime(time.localtime(time.time()))"
   ]
  },
  {
   "cell_type": "code",
   "execution_count": 39,
   "id": "5d2072d3-fa21-4b68-8f51-5c9dbc134bc7",
   "metadata": {},
   "outputs": [
    {
     "data": {
      "text/plain": [
       "'Mon Sep  1 10:08:51 2025'"
      ]
     },
     "execution_count": 39,
     "metadata": {},
     "output_type": "execute_result"
    }
   ],
   "source": [
    "# 위 코드를 간편하게 만든 함수\n",
    "time.ctime()"
   ]
  },
  {
   "cell_type": "code",
   "execution_count": 41,
   "id": "c93306e6-7083-4b83-a743-be285dfb3024",
   "metadata": {},
   "outputs": [
    {
     "data": {
      "text/plain": [
       "'09/01/25'"
      ]
     },
     "execution_count": 41,
     "metadata": {},
     "output_type": "execute_result"
    }
   ],
   "source": [
    "time.strftime('%x', time.localtime(time.time()))  # ('%x')현재 설정된 지역에 기반한 날짜 출력."
   ]
  },
  {
   "cell_type": "code",
   "execution_count": 42,
   "id": "3ee516f9-dc47-4fe2-bcac-ed06dcbee442",
   "metadata": {},
   "outputs": [
    {
     "data": {
      "text/plain": [
       "'Mon Sep  1 10:10:54 2025'"
      ]
     },
     "execution_count": 42,
     "metadata": {},
     "output_type": "execute_result"
    }
   ],
   "source": [
    "time.strftime('%c', time.localtime(time.time()))"
   ]
  },
  {
   "cell_type": "code",
   "execution_count": 45,
   "id": "a989e0ec-9dea-4d88-9013-6a96ff970b59",
   "metadata": {},
   "outputs": [
    {
     "name": "stdout",
     "output_type": "stream",
     "text": [
      "0\n",
      "1\n",
      "2\n",
      "3\n",
      "4\n",
      "5\n",
      "6\n",
      "7\n",
      "8\n",
      "9\n"
     ]
    }
   ],
   "source": [
    "# 일정한 시간 간격을 주고 싶을 때 사용.\n",
    "import time\n",
    "for i in range(10):\n",
    "    print(i)\n",
    "    time.sleep(1)"
   ]
  },
  {
   "cell_type": "code",
   "execution_count": 47,
   "id": "aa4578da-e6f4-459a-9027-13a0a9003ad8",
   "metadata": {},
   "outputs": [
    {
     "name": "stdout",
     "output_type": "stream",
     "text": [
      "0\n",
      "1\n",
      "2\n",
      "3\n",
      "4\n",
      "5\n",
      "6\n",
      "7\n",
      "8\n",
      "9\n"
     ]
    }
   ],
   "source": [
    "import time\n",
    "\n",
    "for i in range(10):\n",
    "    print(i)\n",
    "    time.sleep(1)\n",
    "\n",
    "# 0부터 9까지 1초마다 한 번씩 i를 프린트"
   ]
  },
  {
   "cell_type": "markdown",
   "id": "b4821d25-e7de-422a-87ad-40d5ca2474c0",
   "metadata": {},
   "source": [
    "### random 표준 라이브러리"
   ]
  },
  {
   "cell_type": "code",
   "execution_count": 48,
   "id": "e4aa4ccc-b5f7-4cef-8678-36c517f33edb",
   "metadata": {},
   "outputs": [
    {
     "data": {
      "text/plain": [
       "0.5766013511991714"
      ]
     },
     "execution_count": 48,
     "metadata": {},
     "output_type": "execute_result"
    }
   ],
   "source": [
    "import random\n",
    "random.random()"
   ]
  },
  {
   "cell_type": "code",
   "execution_count": 50,
   "id": "3e98b642-20d5-43a9-95b8-e2e00bd9e11b",
   "metadata": {},
   "outputs": [
    {
     "data": {
      "text/plain": [
       "1"
      ]
     },
     "execution_count": 50,
     "metadata": {},
     "output_type": "execute_result"
    }
   ],
   "source": [
    "# random => random int (지정한 숫자 안에서의 랜덤한 정수값 출력)\n",
    "random.randint(1, 10)"
   ]
  },
  {
   "cell_type": "code",
   "execution_count": 51,
   "id": "dbbc1c43-f917-42f7-a538-005f52a5e29d",
   "metadata": {},
   "outputs": [
    {
     "data": {
      "text/plain": [
       "77"
      ]
     },
     "execution_count": 51,
     "metadata": {},
     "output_type": "execute_result"
    }
   ],
   "source": [
    "random.randint(1,100)"
   ]
  },
  {
   "cell_type": "code",
   "execution_count": 54,
   "id": "6b135cde-89e2-4d4c-939d-8e275f679430",
   "metadata": {},
   "outputs": [
    {
     "name": "stdout",
     "output_type": "stream",
     "text": [
      "1\n",
      "4\n",
      "3\n",
      "5\n",
      "2\n"
     ]
    }
   ],
   "source": [
    "# 리스트에서 무작위로 하나를 선택하여 리턴하는 함수.\n",
    "\n",
    "import random\n",
    "\n",
    "def random_pop(data):\n",
    "    num = random.randint(0, len(data)-1)\n",
    "    return data.pop(num)\n",
    "\n",
    "data = [1, 2, 3, 4, 5]\n",
    "while data:\n",
    "    print(random_pop(data))"
   ]
  },
  {
   "cell_type": "code",
   "execution_count": 57,
   "id": "df7c41f1-b3eb-4427-93dc-55a6d80694ea",
   "metadata": {},
   "outputs": [
    {
     "name": "stdout",
     "output_type": "stream",
     "text": [
      "1\n",
      "4\n",
      "5\n",
      "2\n",
      "3\n"
     ]
    }
   ],
   "source": [
    "def random_pop(data): \n",
    "    num = random.choice(data)\n",
    "    data.remove(num)  # 하나씩 제거\n",
    "    return num\n",
    "\n",
    "data = [1, 2, 3, 4, 5]\n",
    "while data:\n",
    "    print(random_pop(data))"
   ]
  },
  {
   "cell_type": "code",
   "execution_count": 59,
   "id": "419e0f09-0aa5-4ab8-ace7-25e40c8118da",
   "metadata": {},
   "outputs": [
    {
     "data": {
      "text/plain": [
       "[2, 1, 4, 5, 3]"
      ]
     },
     "execution_count": 59,
     "metadata": {},
     "output_type": "execute_result"
    }
   ],
   "source": [
    "# 리스트의 항목을 무작위로 섞을 때.\n",
    "data = [1, 2, 3, 4, 5]\n",
    "random.sample(data, len(data))"
   ]
  },
  {
   "cell_type": "markdown",
   "id": "a744ff17-53d7-4f13-a445-c1764c91105c",
   "metadata": {},
   "source": [
    "### pickle 표준 라이브러리"
   ]
  },
  {
   "cell_type": "code",
   "execution_count": 61,
   "id": "8f3d5380-258a-4843-8399-972bfc36a053",
   "metadata": {},
   "outputs": [],
   "source": [
    "import pickle\n",
    "\n",
    "f = open ('test.txt', 'wb')\n",
    "data = {1: 'python', 2: 'you need'}\n",
    "pickle.dump(data, f)   # 데이터를 파일(f)에 넣어라.\n",
    "f.close()"
   ]
  },
  {
   "cell_type": "code",
   "execution_count": 63,
   "id": "b1c44cc2-180c-405a-8ac1-94d1c7a2e205",
   "metadata": {},
   "outputs": [
    {
     "name": "stdout",
     "output_type": "stream",
     "text": [
      "{1: 'python', 2: 'you need'}\n"
     ]
    }
   ],
   "source": [
    "f = open ('test.txt', 'rb')\n",
    "content = pickle.load(f)\n",
    "print(content)\n",
    "f.close()"
   ]
  },
  {
   "cell_type": "code",
   "execution_count": null,
   "id": "c9f2d619-69e7-4bbc-9f28-8501fad8d6ce",
   "metadata": {},
   "outputs": [],
   "source": []
  }
 ],
 "metadata": {
  "kernelspec": {
   "display_name": "Python [conda env:base] *",
   "language": "python",
   "name": "conda-base-py"
  },
  "language_info": {
   "codemirror_mode": {
    "name": "ipython",
    "version": 3
   },
   "file_extension": ".py",
   "mimetype": "text/x-python",
   "name": "python",
   "nbconvert_exporter": "python",
   "pygments_lexer": "ipython3",
   "version": "3.13.5"
  },
  "widgets": {
   "application/vnd.jupyter.widget-state+json": {
    "state": {},
    "version_major": 2,
    "version_minor": 0
   }
  }
 },
 "nbformat": 4,
 "nbformat_minor": 5
}
