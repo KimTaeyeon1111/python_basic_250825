{
 "cells": [
  {
   "cell_type": "markdown",
   "id": "743d0bfa-29d9-4045-bf8c-8f43053f5b68",
   "metadata": {},
   "source": [
    "## 12_ 내장함수\n",
    "###### 장점 : import 없이도 사용 가능."
   ]
  },
  {
   "cell_type": "markdown",
   "id": "24e50268-2004-422b-a390-8afde6d66492",
   "metadata": {},
   "source": [
    "#### abs() : 절댓값"
   ]
  },
  {
   "cell_type": "code",
   "execution_count": 74,
   "id": "ace9e4a0-7840-408a-877a-6753f52ee5e2",
   "metadata": {},
   "outputs": [
    {
     "name": "stdout",
     "output_type": "stream",
     "text": [
      "3\n",
      "3\n"
     ]
    }
   ],
   "source": [
    "print(abs(3))\n",
    "print(abs(-3))"
   ]
  },
  {
   "cell_type": "markdown",
   "id": "6aac9d4b-4ed8-43a4-ab4a-2f5c029d0765",
   "metadata": {},
   "source": [
    "#### all() : 반복 가능한 데이터의 각 요소를 확인하여 모든 요소가 참이면 True\n",
    "##### # all - 빈 값 True"
   ]
  },
  {
   "cell_type": "code",
   "execution_count": 75,
   "id": "f5e24932-9415-406a-9eaa-001d741cbd44",
   "metadata": {},
   "outputs": [
    {
     "data": {
      "text/plain": [
       "True"
      ]
     },
     "execution_count": 75,
     "metadata": {},
     "output_type": "execute_result"
    }
   ],
   "source": [
    "all([1, 2, 3])"
   ]
  },
  {
   "cell_type": "code",
   "execution_count": 76,
   "id": "0b7905e0-2909-490e-9850-b5c1eb6dade9",
   "metadata": {},
   "outputs": [
    {
     "data": {
      "text/plain": [
       "False"
      ]
     },
     "execution_count": 76,
     "metadata": {},
     "output_type": "execute_result"
    }
   ],
   "source": [
    "all ((0, [], \"\"))"
   ]
  },
  {
   "cell_type": "code",
   "execution_count": 77,
   "id": "31c53eed-f9e4-4de5-aa13-094a328f3b92",
   "metadata": {},
   "outputs": [
    {
     "data": {
      "text/plain": [
       "False"
      ]
     },
     "execution_count": 77,
     "metadata": {},
     "output_type": "execute_result"
    }
   ],
   "source": [
    "all ((0, 1, 2, 3))  # '0'이 False 때문."
   ]
  },
  {
   "cell_type": "code",
   "execution_count": 78,
   "id": "82713f1f-91ac-4fb2-9108-f69339215556",
   "metadata": {},
   "outputs": [
    {
     "data": {
      "text/plain": [
       "True"
      ]
     },
     "execution_count": 78,
     "metadata": {},
     "output_type": "execute_result"
    }
   ],
   "source": [
    "all([])  # 빈 값인 경우 True"
   ]
  },
  {
   "cell_type": "markdown",
   "id": "7ef97fe5-221a-491d-92cb-7f780923bbba",
   "metadata": {},
   "source": [
    "#### any() : 반복 가능한 데이터에서 하나라도 참이면 True\n",
    "##### # any - 빈 값 False"
   ]
  },
  {
   "cell_type": "code",
   "execution_count": 79,
   "id": "1b6d250d-31ac-42d1-bb8d-4249ebce9e56",
   "metadata": {},
   "outputs": [
    {
     "data": {
      "text/plain": [
       "True"
      ]
     },
     "execution_count": 79,
     "metadata": {},
     "output_type": "execute_result"
    }
   ],
   "source": [
    "any([1, 0])"
   ]
  },
  {
   "cell_type": "code",
   "execution_count": 80,
   "id": "11d85c0d-96b2-45b8-be20-91445aef73e3",
   "metadata": {},
   "outputs": [
    {
     "data": {
      "text/plain": [
       "False"
      ]
     },
     "execution_count": 80,
     "metadata": {},
     "output_type": "execute_result"
    }
   ],
   "source": [
    "any((0, \"\"))"
   ]
  },
  {
   "cell_type": "code",
   "execution_count": 81,
   "id": "51ab7a35-1457-4794-bb6b-5a25ddd62583",
   "metadata": {},
   "outputs": [
    {
     "data": {
      "text/plain": [
       "False"
      ]
     },
     "execution_count": 81,
     "metadata": {},
     "output_type": "execute_result"
    }
   ],
   "source": [
    "any([])"
   ]
  },
  {
   "cell_type": "markdown",
   "id": "e891781d-1245-40f4-b074-fc4ae5ab4968",
   "metadata": {},
   "source": [
    "#### chr() : 유니코드 값 반환\n",
    "###### 유니코드 : 전 세계의 모든 문자를 일관되게 다루게끔 설계된 산업 표준 코드."
   ]
  },
  {
   "cell_type": "code",
   "execution_count": 82,
   "id": "d2624ab9-ffa0-4a0f-89a7-246f5fca2ea7",
   "metadata": {},
   "outputs": [
    {
     "name": "stdout",
     "output_type": "stream",
     "text": [
      "a\n"
     ]
    }
   ],
   "source": [
    "print(chr(97))"
   ]
  },
  {
   "cell_type": "code",
   "execution_count": 83,
   "id": "09677b4a-38ea-4a4d-adba-8e47c915d6e1",
   "metadata": {},
   "outputs": [
    {
     "name": "stdout",
     "output_type": "stream",
     "text": [
      "A\n"
     ]
    }
   ],
   "source": [
    "print(chr(65))"
   ]
  },
  {
   "cell_type": "code",
   "execution_count": 84,
   "id": "efadd0a2-c48f-4060-9837-132ea5751f3f",
   "metadata": {},
   "outputs": [
    {
     "name": "stdout",
     "output_type": "stream",
     "text": [
      "가\n"
     ]
    }
   ],
   "source": [
    "print(chr(44032))"
   ]
  },
  {
   "cell_type": "markdown",
   "id": "7f0e9ef3-df74-4763-b5cd-c732b29d33b6",
   "metadata": {},
   "source": [
    "#### dir() : 객체가 지닌 변수나 함수를 보여주는 함수."
   ]
  },
  {
   "cell_type": "code",
   "execution_count": 85,
   "id": "f5bc6749-1ebf-4569-9007-b41eac95b85b",
   "metadata": {},
   "outputs": [
    {
     "data": {
      "text/plain": [
       "['__add__',\n",
       " '__class__',\n",
       " '__class_getitem__',\n",
       " '__contains__',\n",
       " '__delattr__',\n",
       " '__delitem__',\n",
       " '__dir__',\n",
       " '__doc__',\n",
       " '__eq__',\n",
       " '__format__',\n",
       " '__ge__',\n",
       " '__getattribute__',\n",
       " '__getitem__',\n",
       " '__getstate__',\n",
       " '__gt__',\n",
       " '__hash__',\n",
       " '__iadd__',\n",
       " '__imul__',\n",
       " '__init__',\n",
       " '__init_subclass__',\n",
       " '__iter__',\n",
       " '__le__',\n",
       " '__len__',\n",
       " '__lt__',\n",
       " '__mul__',\n",
       " '__ne__',\n",
       " '__new__',\n",
       " '__reduce__',\n",
       " '__reduce_ex__',\n",
       " '__repr__',\n",
       " '__reversed__',\n",
       " '__rmul__',\n",
       " '__setattr__',\n",
       " '__setitem__',\n",
       " '__sizeof__',\n",
       " '__str__',\n",
       " '__subclasshook__',\n",
       " 'append',\n",
       " 'clear',\n",
       " 'copy',\n",
       " 'count',\n",
       " 'extend',\n",
       " 'index',\n",
       " 'insert',\n",
       " 'pop',\n",
       " 'remove',\n",
       " 'reverse',\n",
       " 'sort']"
      ]
     },
     "execution_count": 85,
     "metadata": {},
     "output_type": "execute_result"
    }
   ],
   "source": [
    "# 리스트가 지닌 함수(메서드)를 보여줌.\n",
    "dir([1, 2, 3])"
   ]
  },
  {
   "cell_type": "code",
   "execution_count": 86,
   "id": "0da51d6b-f00b-4acc-8dfd-19c07291c729",
   "metadata": {},
   "outputs": [
    {
     "data": {
      "text/plain": [
       "['__class__',\n",
       " '__class_getitem__',\n",
       " '__contains__',\n",
       " '__delattr__',\n",
       " '__delitem__',\n",
       " '__dir__',\n",
       " '__doc__',\n",
       " '__eq__',\n",
       " '__format__',\n",
       " '__ge__',\n",
       " '__getattribute__',\n",
       " '__getitem__',\n",
       " '__getstate__',\n",
       " '__gt__',\n",
       " '__hash__',\n",
       " '__init__',\n",
       " '__init_subclass__',\n",
       " '__ior__',\n",
       " '__iter__',\n",
       " '__le__',\n",
       " '__len__',\n",
       " '__lt__',\n",
       " '__ne__',\n",
       " '__new__',\n",
       " '__or__',\n",
       " '__reduce__',\n",
       " '__reduce_ex__',\n",
       " '__repr__',\n",
       " '__reversed__',\n",
       " '__ror__',\n",
       " '__setattr__',\n",
       " '__setitem__',\n",
       " '__sizeof__',\n",
       " '__str__',\n",
       " '__subclasshook__',\n",
       " 'clear',\n",
       " 'copy',\n",
       " 'fromkeys',\n",
       " 'get',\n",
       " 'items',\n",
       " 'keys',\n",
       " 'pop',\n",
       " 'popitem',\n",
       " 'setdefault',\n",
       " 'update',\n",
       " 'values']"
      ]
     },
     "execution_count": 86,
     "metadata": {},
     "output_type": "execute_result"
    }
   ],
   "source": [
    "# 딕셔너리가 지닌 함수(메서드)를 보여줌.\n",
    "dir({1:'a'})"
   ]
  },
  {
   "cell_type": "markdown",
   "id": "ff0723dd-a0ed-4875-bdbc-5011e9a2db8c",
   "metadata": {},
   "source": [
    "#### divmod() : 두 개의 수를 나눠 몫과 나머지를 튜플로 반환.\n",
    "##### div : 몫, mod : 나머지."
   ]
  },
  {
   "cell_type": "code",
   "execution_count": 87,
   "id": "c7162826-e19c-4038-9315-2d3629d59e2e",
   "metadata": {},
   "outputs": [
    {
     "name": "stdout",
     "output_type": "stream",
     "text": [
      "(2, 1)\n"
     ]
    }
   ],
   "source": [
    "print(divmod(7,3))"
   ]
  },
  {
   "cell_type": "code",
   "execution_count": 88,
   "id": "04120152-22bc-4916-ba5a-9a6182c5643c",
   "metadata": {},
   "outputs": [
    {
     "name": "stdout",
     "output_type": "stream",
     "text": [
      "2\n"
     ]
    }
   ],
   "source": [
    "print(7//3)"
   ]
  },
  {
   "cell_type": "code",
   "execution_count": 89,
   "id": "788c27ad-1289-4021-8d25-a34ce9d44e51",
   "metadata": {},
   "outputs": [
    {
     "name": "stdout",
     "output_type": "stream",
     "text": [
      "1\n"
     ]
    }
   ],
   "source": [
    "print(7%3)"
   ]
  },
  {
   "cell_type": "markdown",
   "id": "308579c4-1e0a-492a-959b-7bd2503ac5d6",
   "metadata": {},
   "source": [
    "#### enumerate() : 순서가 있는 데이터의 인덱스 값을 포함하는 enumerate객체를 리턴"
   ]
  },
  {
   "cell_type": "code",
   "execution_count": 90,
   "id": "4cf49d00-087c-4398-8052-304a5a88788e",
   "metadata": {},
   "outputs": [
    {
     "name": "stdout",
     "output_type": "stream",
     "text": [
      "0 body\n",
      "1 foo\n",
      "2 bar\n"
     ]
    }
   ],
   "source": [
    "for i, name in enumerate(['body', 'foo', 'bar']):\n",
    "    print(i, name)     # 쉼표 : 공백"
   ]
  },
  {
   "cell_type": "code",
   "execution_count": 91,
   "id": "55341268-0280-49f7-bb67-b97deb457501",
   "metadata": {},
   "outputs": [
    {
     "name": "stdout",
     "output_type": "stream",
     "text": [
      "0 ('a', 1)\n",
      "1 ('b', 2)\n",
      "2 ('c', 3)\n"
     ]
    }
   ],
   "source": [
    "for k, v in enumerate({'a':1, 'b':2, 'c':3}.items()):\n",
    "    print(k, v)"
   ]
  },
  {
   "cell_type": "markdown",
   "id": "e67c4446-346c-4035-91cd-be2eb7ad8c52",
   "metadata": {},
   "source": [
    "#### eval()\n",
    "###### 문자열 표현식을 입력받아 해당 결과값을 리턴하는 함수"
   ]
  },
  {
   "cell_type": "code",
   "execution_count": 92,
   "id": "9ac7302f-a31b-4faa-b759-c31802b7c172",
   "metadata": {},
   "outputs": [
    {
     "name": "stdout",
     "output_type": "stream",
     "text": [
      "1+2\n"
     ]
    }
   ],
   "source": [
    "print('1+2')"
   ]
  },
  {
   "cell_type": "code",
   "execution_count": 93,
   "id": "e6d2ea44-d278-4454-bfce-26ed032c58ee",
   "metadata": {},
   "outputs": [
    {
     "name": "stdout",
     "output_type": "stream",
     "text": [
      "3\n"
     ]
    }
   ],
   "source": [
    "print(eval('1+2'))"
   ]
  },
  {
   "cell_type": "code",
   "execution_count": 94,
   "id": "8aa3e58f-6979-4635-9289-2ffece26c266",
   "metadata": {},
   "outputs": [
    {
     "name": "stdout",
     "output_type": "stream",
     "text": [
      "hia\n"
     ]
    }
   ],
   "source": [
    "print(eval(\"'hi' + 'a'\"))"
   ]
  },
  {
   "cell_type": "markdown",
   "id": "78658db3-bb12-4a89-8830-867d0ecf3522",
   "metadata": {},
   "source": [
    "### filter() : filtet 안에서 정의한 함수의 결과값이 True인 것만 묶어 리턴.\n",
    "###### filter(함수, 반복 가능한 데이터)"
   ]
  },
  {
   "cell_type": "code",
   "execution_count": 95,
   "id": "3fb2673f-373b-4ba0-acf5-51abe1fdce7e",
   "metadata": {},
   "outputs": [
    {
     "name": "stdout",
     "output_type": "stream",
     "text": [
      "[1, 2, 6]\n"
     ]
    }
   ],
   "source": [
    "# 일반 함수로 양수값만 리턴\n",
    "def positive(li):\n",
    "    result = []\n",
    "    for i in li:\n",
    "        if i > 0:\n",
    "            result.append(i)\n",
    "    return result\n",
    "\n",
    "print(positive([1, -3, 2, 0, -5, 6]))"
   ]
  },
  {
   "cell_type": "code",
   "execution_count": 96,
   "id": "16d451e6-3393-4e4a-9cb4-5e547e811ea7",
   "metadata": {},
   "outputs": [
    {
     "name": "stdout",
     "output_type": "stream",
     "text": [
      "[1, 2, 6]\n"
     ]
    }
   ],
   "source": [
    "# filter 함수로 양수값만 리턴\n",
    "def positive(x):\n",
    "    return x > 0\n",
    "print(list(filter(positive, [1, -3, 2, 0, -5, 6])))\n",
    "# list 함수는 filter 함수의 리턴값을 리스트로 출력하기 위해 사용."
   ]
  },
  {
   "cell_type": "code",
   "execution_count": 97,
   "id": "eb874cfe-3ecc-4503-8425-62a471f8c2dd",
   "metadata": {},
   "outputs": [
    {
     "name": "stdout",
     "output_type": "stream",
     "text": [
      "<filter object at 0x000001DB6EEAD300>\n"
     ]
    }
   ],
   "source": [
    "def positive(x):\n",
    "    return x > 0\n",
    "    \n",
    "print(filter(positive, [1, -3, 2, 0, -5, 6]))\n",
    "#리스트 목록이기 때문에 리스트 작성이 없으면 오류."
   ]
  },
  {
   "cell_type": "code",
   "execution_count": 98,
   "id": "50ad2f83-9192-41d4-8e6f-a600e524b7a3",
   "metadata": {},
   "outputs": [
    {
     "data": {
      "text/plain": [
       "[1, 2, 6]"
      ]
     },
     "execution_count": 98,
     "metadata": {},
     "output_type": "execute_result"
    }
   ],
   "source": [
    "# lambda함수로 양수값만 리턴\n",
    "# lambda : 간단한 함수를 쉽게 선언하는 방법.\n",
    "# 한 줄이어서 print 작성 없이 출력 가능.\n",
    "\n",
    "list(filter(lambda x: x > 0, [1, -3, 2, 0, -5, 6]))"
   ]
  },
  {
   "cell_type": "markdown",
   "id": "561d20ed-6f99-4a6c-b0ea-bdb004bf68b8",
   "metadata": {},
   "source": [
    "### map() : map 안에서 정의한 함수의 결과값을 반환."
   ]
  },
  {
   "cell_type": "code",
   "execution_count": 99,
   "id": "0d6979c2-9ed7-4a8b-b72c-8acef85d7b43",
   "metadata": {},
   "outputs": [
    {
     "name": "stdout",
     "output_type": "stream",
     "text": [
      "[2, 4, 6, 8]\n"
     ]
    }
   ],
   "source": [
    "# 일반함수로 리스트 각 요소에 *2\n",
    "\n",
    "def two_times(list):\n",
    "    result = []\n",
    "    for i in list:\n",
    "        result.append(i*2)\n",
    "    return result\n",
    "\n",
    "print(two_times([1, 2, 3, 4]))"
   ]
  },
  {
   "cell_type": "code",
   "execution_count": 103,
   "id": "56e90ec6-501d-487f-b5ba-c6df3f911c47",
   "metadata": {},
   "outputs": [
    {
     "data": {
      "text/plain": [
       "[2, 4, 6, 8]"
      ]
     },
     "execution_count": 103,
     "metadata": {},
     "output_type": "execute_result"
    }
   ],
   "source": [
    "# map 함수로 리스트 각 요소에 *2\n",
    "def two_times(x):\n",
    "    return x*2\n",
    "\n",
    "list(map(two_times, [1, 2, 3, 4]))\n",
    "\n",
    "#map의 주소값을 알려주기 때문에 list로 묶어줘야 함."
   ]
  },
  {
   "cell_type": "code",
   "execution_count": 105,
   "id": "7f1f60cd-57fa-46cb-bd15-0999dedfb6c6",
   "metadata": {},
   "outputs": [
    {
     "data": {
      "text/plain": [
       "[2, 4, 6, 8]"
      ]
     },
     "execution_count": 105,
     "metadata": {},
     "output_type": "execute_result"
    }
   ],
   "source": [
    "# Lambda 함수로 리스트 각 요소에 *2\n",
    "list(map(lambda x : x*2, [1, 2, 3, 4]))"
   ]
  },
  {
   "cell_type": "markdown",
   "id": "19eea4d9-8167-48df-9459-1ed747f1d151",
   "metadata": {},
   "source": [
    "#### hex() : 정수를 입력받아 16진수 문자열로 반환.\n",
    "#### oct() : 정수를 입력받아 8진수 문자열로 반환."
   ]
  },
  {
   "cell_type": "code",
   "execution_count": 122,
   "id": "650b6c16-be19-476b-8f6d-d8d68fb23fcb",
   "metadata": {},
   "outputs": [
    {
     "name": "stdout",
     "output_type": "stream",
     "text": [
      "0xea\n",
      "0x3\n",
      "0xd\n",
      "0x10\n"
     ]
    }
   ],
   "source": [
    "print(hex(234))\n",
    "print(hex(3))\n",
    "print(hex(13))\n",
    "print(hex(16))\n",
    "# 0x = 16진수"
   ]
  },
  {
   "cell_type": "code",
   "execution_count": 123,
   "id": "f36f9eb7-f783-44ac-821f-6dcdfd5a2d4d",
   "metadata": {},
   "outputs": [
    {
     "name": "stdout",
     "output_type": "stream",
     "text": [
      "0o352\n",
      "0o3\n",
      "0o15\n",
      "0o20\n"
     ]
    }
   ],
   "source": [
    "print(oct(234))\n",
    "print(oct(3))\n",
    "print(oct(13))\n",
    "print(oct(16))\n",
    "# 0o = 8진수"
   ]
  },
  {
   "cell_type": "markdown",
   "id": "9dade7d6-bb80-4151-936b-35603bc79277",
   "metadata": {},
   "source": [
    "#### id(): 객체를 입력받아 고유 주소값(레퍼런스)를 리턴."
   ]
  },
  {
   "cell_type": "code",
   "execution_count": 109,
   "id": "832db42d-898f-4f5f-b2f3-f4d85aeddd2f",
   "metadata": {},
   "outputs": [],
   "source": [
    "a = 3"
   ]
  },
  {
   "cell_type": "code",
   "execution_count": 110,
   "id": "eed207f2-9e17-40fe-af1f-8031e73f80a3",
   "metadata": {},
   "outputs": [
    {
     "name": "stdout",
     "output_type": "stream",
     "text": [
      "140707992089576\n"
     ]
    }
   ],
   "source": [
    "print(id(a))"
   ]
  },
  {
   "cell_type": "code",
   "execution_count": 111,
   "id": "3cf4a050-5956-4460-a741-9fe4799819d6",
   "metadata": {},
   "outputs": [
    {
     "name": "stdout",
     "output_type": "stream",
     "text": [
      "140707992089576\n"
     ]
    }
   ],
   "source": [
    "b = a\n",
    "print(id(b))"
   ]
  },
  {
   "cell_type": "markdown",
   "id": "ddb71a0f-e7dd-4f38-8a16-a6dbd2ea0d41",
   "metadata": {},
   "source": [
    "#### input([primpt]) : 사용자의 입력을 받는 입력칸\n",
    "#### int() : 문자열 형태의 숫자나 실수를 정수로 리턴하는 함수\n",
    "###### (블로그 참조.)"
   ]
  },
  {
   "cell_type": "markdown",
   "id": "f039bfd4-36de-46cf-bdad-1722d5be3379",
   "metadata": {},
   "source": [
    "#### isinstance() : 객체가 그 클래스의 인스턴스인지 판단"
   ]
  },
  {
   "cell_type": "code",
   "execution_count": 116,
   "id": "2209c78b-5c15-4b48-9435-f1aaef9d293a",
   "metadata": {},
   "outputs": [
    {
     "name": "stdout",
     "output_type": "stream",
     "text": [
      "True\n"
     ]
    }
   ],
   "source": [
    "class Person: pass\n",
    "a = Person()  #a는 person의 인스턴스\n",
    "print(isinstance(a, Person))"
   ]
  },
  {
   "cell_type": "code",
   "execution_count": 118,
   "id": "5016c2e4-436b-4d11-9c88-9ae2dd34b648",
   "metadata": {},
   "outputs": [
    {
     "data": {
      "text/plain": [
       "False"
      ]
     },
     "execution_count": 118,
     "metadata": {},
     "output_type": "execute_result"
    }
   ],
   "source": [
    "b = 3\n",
    "isinstance(b, Person)\n",
    "\n",
    "# 그냥 3을 저장한 변수기 때문에 인스턴스가 될 수 없다.\n",
    "# 인스턴스로 두려면 b = Person()으로 지정해줘야 함."
   ]
  },
  {
   "cell_type": "markdown",
   "id": "32230cf9-7496-45d2-957b-22a268ff8cbe",
   "metadata": {},
   "source": [
    "#### max() : 최대값 / min() : 최솟값"
   ]
  },
  {
   "cell_type": "code",
   "execution_count": 120,
   "id": "51063330-9612-4736-ac63-cba3cefacdf7",
   "metadata": {},
   "outputs": [
    {
     "name": "stdout",
     "output_type": "stream",
     "text": [
      "3\n",
      "y\n"
     ]
    }
   ],
   "source": [
    "print(max([1, 2, 3]))\n",
    "print(max(\"python\"))"
   ]
  },
  {
   "cell_type": "code",
   "execution_count": 121,
   "id": "cdb742e6-1211-49bb-bdb1-6171b45e3e47",
   "metadata": {},
   "outputs": [
    {
     "name": "stdout",
     "output_type": "stream",
     "text": [
      "1\n",
      "h\n"
     ]
    }
   ],
   "source": [
    "print(min([1, 2, 3]))\n",
    "print(min(\"python\"))"
   ]
  },
  {
   "cell_type": "markdown",
   "id": "a6ff816d-9bf0-4b32-828f-e41b6d4e35d5",
   "metadata": {},
   "source": [
    "#### ord() : chr()의 반대. 문자를 전달인자로 넣으면 유니코드값 반환. "
   ]
  },
  {
   "cell_type": "code",
   "execution_count": 125,
   "id": "93368b17-9b94-426b-bc5f-2e6e7b83a4d9",
   "metadata": {},
   "outputs": [
    {
     "name": "stdout",
     "output_type": "stream",
     "text": [
      "97\n",
      "44032\n",
      "98\n"
     ]
    }
   ],
   "source": [
    "print(ord('a'))\n",
    "print(ord('가'))\n",
    "print(ord('b'))"
   ]
  },
  {
   "cell_type": "markdown",
   "id": "22b615a7-44e3-4a61-8ea6-3f64c037792f",
   "metadata": {},
   "source": [
    "#### range() : 범위값을 반복 가능한 객체로 만들어 리턴."
   ]
  },
  {
   "cell_type": "code",
   "execution_count": 129,
   "id": "aab38570-107b-4ae6-8a3a-8e4f661aacb0",
   "metadata": {},
   "outputs": [
    {
     "name": "stdout",
     "output_type": "stream",
     "text": [
      "range(0, 5)\n"
     ]
    }
   ],
   "source": [
    "# 인수(= 매개변수 = 전달인자)가 하나일 때\n",
    "print(range(5))  # 그냥 하면 리스트가 안 나오기 때문에 list를 입력해줘야 함."
   ]
  },
  {
   "cell_type": "code",
   "execution_count": 133,
   "id": "a8764b92-03c6-426e-8ae2-f45c0cfb2ae8",
   "metadata": {},
   "outputs": [
    {
     "name": "stdout",
     "output_type": "stream",
     "text": [
      "[0, 1, 2, 3, 4]\n"
     ]
    }
   ],
   "source": [
    "# 예시\n",
    "print(list(range(5)))"
   ]
  },
  {
   "cell_type": "code",
   "execution_count": 134,
   "id": "d980761e-fb02-4b95-a365-a5230102a927",
   "metadata": {},
   "outputs": [
    {
     "name": "stdout",
     "output_type": "stream",
     "text": [
      "[1, 2, 3, 4, 5, 6, 7, 8, 9]\n"
     ]
    }
   ],
   "source": [
    "# 인수가 2개일 때\n",
    "print(list(range(1, 10)))"
   ]
  },
  {
   "cell_type": "code",
   "execution_count": 135,
   "id": "a5dd1595-adf9-4930-8488-4b521b9a6739",
   "metadata": {},
   "outputs": [
    {
     "name": "stdout",
     "output_type": "stream",
     "text": [
      "[1, 3, 5, 7, 9]\n"
     ]
    }
   ],
   "source": [
    "# 인수가 3개일 때\n",
    "print(list(range(1, 10, 2)))"
   ]
  },
  {
   "cell_type": "code",
   "execution_count": 137,
   "id": "232217d2-ea99-4ec6-9f6c-15cc8fd262d5",
   "metadata": {},
   "outputs": [
    {
     "name": "stdout",
     "output_type": "stream",
     "text": [
      "[0, -2, -4, -6, -8]\n"
     ]
    }
   ],
   "source": [
    "# 인수가 3개일 때\n",
    "print(list(range(0, -10, -2)))"
   ]
  },
  {
   "cell_type": "markdown",
   "id": "933696f3-057d-448f-be62-e338d2a67816",
   "metadata": {},
   "source": [
    "#### round() : 숫자를 입력받아 반올림하여 리턴."
   ]
  },
  {
   "cell_type": "code",
   "execution_count": 139,
   "id": "bc147eb1-5c9b-4924-9fd2-be0077a0d9e8",
   "metadata": {},
   "outputs": [
    {
     "data": {
      "text/plain": [
       "5"
      ]
     },
     "execution_count": 139,
     "metadata": {},
     "output_type": "execute_result"
    }
   ],
   "source": [
    "round(4.6)"
   ]
  },
  {
   "cell_type": "code",
   "execution_count": 140,
   "id": "674d9fbd-3aab-4e3e-acc7-eb15d9b2a407",
   "metadata": {},
   "outputs": [
    {
     "data": {
      "text/plain": [
       "4"
      ]
     },
     "execution_count": 140,
     "metadata": {},
     "output_type": "execute_result"
    }
   ],
   "source": [
    "round(4.2)"
   ]
  },
  {
   "cell_type": "code",
   "execution_count": 141,
   "id": "981f4124-2441-4b41-a618-fb26dd134950",
   "metadata": {},
   "outputs": [
    {
     "data": {
      "text/plain": [
       "5.68"
      ]
     },
     "execution_count": 141,
     "metadata": {},
     "output_type": "execute_result"
    }
   ],
   "source": [
    "round(5.678, 2)  # 소수점 2자리까지 반올림하여 표시"
   ]
  },
  {
   "cell_type": "markdown",
   "id": "4dc7ba9e-b47a-4a69-be47-57a6539cbe2a",
   "metadata": {},
   "source": [
    "#### sorted() : 데이터를 정렬한 후 결과값을 리스트로 리턴."
   ]
  },
  {
   "cell_type": "code",
   "execution_count": 142,
   "id": "23ddc589-e0fc-46b6-813c-ce729c2c0081",
   "metadata": {},
   "outputs": [
    {
     "data": {
      "text/plain": [
       "[1, 2, 3]"
      ]
     },
     "execution_count": 142,
     "metadata": {},
     "output_type": "execute_result"
    }
   ],
   "source": [
    "sorted([3, 1, 2])"
   ]
  },
  {
   "cell_type": "code",
   "execution_count": 144,
   "id": "4f1ae6f1-48c4-4f65-a8c1-555483ac11ab",
   "metadata": {},
   "outputs": [
    {
     "data": {
      "text/plain": [
       "['a', 'b', 'c']"
      ]
     },
     "execution_count": 144,
     "metadata": {},
     "output_type": "execute_result"
    }
   ],
   "source": [
    "sorted(['a', 'c', 'b'])"
   ]
  },
  {
   "cell_type": "code",
   "execution_count": 146,
   "id": "1105cd0b-2820-486b-8ce2-7e87eecb6e76",
   "metadata": {},
   "outputs": [
    {
     "data": {
      "text/plain": [
       "['e', 'o', 'r', 'z']"
      ]
     },
     "execution_count": 146,
     "metadata": {},
     "output_type": "execute_result"
    }
   ],
   "source": [
    "sorted(\"zero\")  #제대로 된 방향일 경우엔 거꾸로 리턴"
   ]
  },
  {
   "cell_type": "markdown",
   "id": "1d212585-0188-47c9-9b1f-d840cc59583a",
   "metadata": {},
   "source": [
    "#### zip() : *동일한 개수*의 데이터들을 묶어 리턴.\n",
    "###### list로 반환해주지 않기 때문에 list를 입력해주어야 함."
   ]
  },
  {
   "cell_type": "code",
   "execution_count": 147,
   "id": "411d3eb8-ce93-44f7-9d48-202719469d0d",
   "metadata": {},
   "outputs": [
    {
     "data": {
      "text/plain": [
       "[(1, 4), (2, 5), (3, 6)]"
      ]
     },
     "execution_count": 147,
     "metadata": {},
     "output_type": "execute_result"
    }
   ],
   "source": [
    "list(zip([1,2,3], [4,5,6]))"
   ]
  },
  {
   "cell_type": "code",
   "execution_count": 150,
   "id": "0dd86052-fd65-422c-a124-b54f064eee97",
   "metadata": {},
   "outputs": [
    {
     "data": {
      "text/plain": [
       "[(1, 4, 7), (2, 5, 8), (3, 6, 9)]"
      ]
     },
     "execution_count": 150,
     "metadata": {},
     "output_type": "execute_result"
    }
   ],
   "source": [
    "list(zip([1, 2, 3], [4, 5, 6], [7, 8, 9, 0]))\n",
    "# 동일한 개수가 아닌 경우는 남은 값을 제외시킨다."
   ]
  },
  {
   "cell_type": "code",
   "execution_count": 151,
   "id": "1e373ab2-604e-4ab1-b675-fc7975ef742d",
   "metadata": {},
   "outputs": [
    {
     "data": {
      "text/plain": [
       "[('a', 'd'), ('b', 'e'), ('c', 'f')]"
      ]
     },
     "execution_count": 151,
     "metadata": {},
     "output_type": "execute_result"
    }
   ],
   "source": [
    "list(zip(\"abc\", \"def\"))"
   ]
  },
  {
   "cell_type": "code",
   "execution_count": 153,
   "id": "826f4162-a169-4899-bfa9-7b52f1ef178e",
   "metadata": {},
   "outputs": [
    {
     "data": {
      "text/plain": [
       "[(1, 4), (2, 5), (3, 6)]"
      ]
     },
     "execution_count": 153,
     "metadata": {},
     "output_type": "execute_result"
    }
   ],
   "source": [
    "list(zip((1,2,3), (4,5,6)))   # 튜플로도 가능"
   ]
  },
  {
   "cell_type": "markdown",
   "id": "a201e8ac-9cf7-473e-a8dc-701d8001d7e7",
   "metadata": {},
   "source": [
    "#### str() : 문자열 형태로 객체를 변환하여 리턴."
   ]
  },
  {
   "cell_type": "code",
   "execution_count": 155,
   "id": "81ba5a3c-9b3d-4f40-8e44-e3104eadcc5d",
   "metadata": {},
   "outputs": [
    {
     "name": "stdout",
     "output_type": "stream",
     "text": [
      "3\n"
     ]
    }
   ],
   "source": [
    "print(str(3))"
   ]
  },
  {
   "cell_type": "code",
   "execution_count": 156,
   "id": "fd5702de-2848-44a7-9c18-8effd985cf5e",
   "metadata": {},
   "outputs": [
    {
     "name": "stdout",
     "output_type": "stream",
     "text": [
      "hi\n"
     ]
    }
   ],
   "source": [
    "print(str('hi'))"
   ]
  },
  {
   "cell_type": "markdown",
   "id": "dc291a2d-50db-4a6c-a7f0-caacc8f991b0",
   "metadata": {},
   "source": [
    "#### sum() : 입력 데이터의 합을 리턴."
   ]
  },
  {
   "cell_type": "code",
   "execution_count": 157,
   "id": "0efba024-bfc9-4dc5-a394-a09f96fddae9",
   "metadata": {},
   "outputs": [
    {
     "data": {
      "text/plain": [
       "6"
      ]
     },
     "execution_count": 157,
     "metadata": {},
     "output_type": "execute_result"
    }
   ],
   "source": [
    "sum([1, 2, 3])"
   ]
  },
  {
   "cell_type": "code",
   "execution_count": 158,
   "id": "ac87c78c-b9f9-43c2-97e2-c6dfb1c5f997",
   "metadata": {},
   "outputs": [
    {
     "data": {
      "text/plain": [
       "15"
      ]
     },
     "execution_count": 158,
     "metadata": {},
     "output_type": "execute_result"
    }
   ],
   "source": [
    "sum([4, 5, 6])"
   ]
  },
  {
   "cell_type": "markdown",
   "id": "2bbf4d0d-f1f9-4d92-9dbc-207da46139b5",
   "metadata": {},
   "source": [
    "#### tuple() : 반복 가능한 데이터를 튜플로 바꾸어 리턴."
   ]
  },
  {
   "cell_type": "code",
   "execution_count": 159,
   "id": "8478b10c-d80d-4eca-9a00-ce38e623726d",
   "metadata": {},
   "outputs": [
    {
     "data": {
      "text/plain": [
       "('a', 'b', 'c')"
      ]
     },
     "execution_count": 159,
     "metadata": {},
     "output_type": "execute_result"
    }
   ],
   "source": [
    "tuple(\"abc\")"
   ]
  },
  {
   "cell_type": "code",
   "execution_count": 160,
   "id": "a5301af3-2e4f-4d94-8caf-5e0a94144537",
   "metadata": {},
   "outputs": [
    {
     "data": {
      "text/plain": [
       "(1, 2, 3)"
      ]
     },
     "execution_count": 160,
     "metadata": {},
     "output_type": "execute_result"
    }
   ],
   "source": [
    "tuple([1, 2, 3])"
   ]
  },
  {
   "cell_type": "code",
   "execution_count": 163,
   "id": "559d6bd0-c87d-47fc-ab10-580167eef971",
   "metadata": {},
   "outputs": [
    {
     "data": {
      "text/plain": [
       "(1, 2, 3)"
      ]
     },
     "execution_count": 163,
     "metadata": {},
     "output_type": "execute_result"
    }
   ],
   "source": [
    "tuple((1, 2, 3))"
   ]
  },
  {
   "cell_type": "markdown",
   "id": "d4d730e5-ad75-4084-a34b-087ddfdfc98f",
   "metadata": {},
   "source": [
    "#### type() : 입력값의 자료형이 무엇인지 알려주는 함수."
   ]
  },
  {
   "cell_type": "code",
   "execution_count": 164,
   "id": "6ae87231-143b-4c69-a819-2baf9b67f528",
   "metadata": {},
   "outputs": [
    {
     "data": {
      "text/plain": [
       "str"
      ]
     },
     "execution_count": 164,
     "metadata": {},
     "output_type": "execute_result"
    }
   ],
   "source": [
    "type(\"abc\")"
   ]
  },
  {
   "cell_type": "code",
   "execution_count": 165,
   "id": "07d7f12a-dd42-41fa-b1d5-4d90fa2c47c3",
   "metadata": {},
   "outputs": [
    {
     "data": {
      "text/plain": [
       "list"
      ]
     },
     "execution_count": 165,
     "metadata": {},
     "output_type": "execute_result"
    }
   ],
   "source": [
    "type([ ])"
   ]
  },
  {
   "cell_type": "code",
   "execution_count": 166,
   "id": "3742d57f-3b22-427d-bb8d-fbcd93c5005e",
   "metadata": {},
   "outputs": [
    {
     "data": {
      "text/plain": [
       "_io.TextIOWrapper"
      ]
     },
     "execution_count": 166,
     "metadata": {},
     "output_type": "execute_result"
    }
   ],
   "source": [
    "type(open(\"test\", 'w'))"
   ]
  },
  {
   "cell_type": "code",
   "execution_count": null,
   "id": "a014cc9b-74dc-44b7-bf3d-315ca6af758f",
   "metadata": {},
   "outputs": [],
   "source": []
  }
 ],
 "metadata": {
  "kernelspec": {
   "display_name": "Python [conda env:base] *",
   "language": "python",
   "name": "conda-base-py"
  },
  "language_info": {
   "codemirror_mode": {
    "name": "ipython",
    "version": 3
   },
   "file_extension": ".py",
   "mimetype": "text/x-python",
   "name": "python",
   "nbconvert_exporter": "python",
   "pygments_lexer": "ipython3",
   "version": "3.13.5"
  },
  "widgets": {
   "application/vnd.jupyter.widget-state+json": {
    "state": {},
    "version_major": 2,
    "version_minor": 0
   }
  }
 },
 "nbformat": 4,
 "nbformat_minor": 5
}
