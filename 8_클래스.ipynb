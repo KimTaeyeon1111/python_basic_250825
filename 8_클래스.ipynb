{
 "cells": [
  {
   "cell_type": "markdown",
   "id": "dc0f385f-b9a0-42f7-80c1-40c07af6b3e2",
   "metadata": {},
   "source": [
    "## 8_클래스\n",
    "### 1. 클래스는 왜 필요한가?\n"
   ]
  },
  {
   "cell_type": "code",
   "execution_count": 3,
   "id": "3e92c281-ee81-4475-984e-2922e69f19a3",
   "metadata": {},
   "outputs": [
    {
     "name": "stdout",
     "output_type": "stream",
     "text": [
      "3\n",
      "7\n"
     ]
    }
   ],
   "source": [
    "# 함수로 계산기 만들기\n",
    "result = 0\n",
    "def add(num):\n",
    "    global result\n",
    "    result += num   #result에 num 더하기\n",
    "    return result   #result에 리턴\n",
    "\n",
    "print(add(3))  # 0 + 3\n",
    "print(add(4))  # 3 + 4"
   ]
  },
  {
   "cell_type": "code",
   "execution_count": 5,
   "id": "5068097d-70b2-4191-9033-d7ddca958a02",
   "metadata": {},
   "outputs": [
    {
     "name": "stdout",
     "output_type": "stream",
     "text": [
      "3\n",
      "7\n",
      "5\n",
      "11\n"
     ]
    }
   ],
   "source": [
    "# 계산기 2개로 각각 계산하기\n",
    "res1 = 0\n",
    "res2 = 0\n",
    "\n",
    "def add1(num):\n",
    "    global res1\n",
    "    res1 += num\n",
    "    return res1\n",
    "\n",
    "def add2(num):\n",
    "    global res2\n",
    "    res2 += num\n",
    "    return res2\n",
    "\n",
    "print(add1(3))  # 0 + 3\n",
    "print(add1(4))  # 3 + 4\n",
    "\n",
    "print(add2(5))  # 0 + 5\n",
    "print(add2(6))  # 5 + 6"
   ]
  },
  {
   "cell_type": "code",
   "execution_count": 8,
   "id": "2b734f12-bcb1-41e1-9c4e-8b254f2de9df",
   "metadata": {},
   "outputs": [
    {
     "name": "stdout",
     "output_type": "stream",
     "text": [
      "3\n",
      "7\n",
      "5\n",
      "11\n"
     ]
    }
   ],
   "source": [
    "# 클래스로 여러 개 계산기 만들기\n",
    "class Calculater:        # 첫글자 대문자 설정해야 클래스임을 알아챔.\n",
    "    def __init__(self):\n",
    "        self.result = 0  # 계산기 초기값\n",
    "    \n",
    "    def add(self, num):\n",
    "        self.result += num\n",
    "        return self.result\n",
    "\n",
    "cal1 = Calculater()  # 인스턴스 - 계산기 1\n",
    "cal2 = Calculater()  # 인스턴스 - 계산기 2\n",
    "\n",
    "# 인스턴스 이름 (변수 이름) = 클래스 이름()   - 옆의 클래스를 기반으로 만들어진 객체 : 인스턴스\n",
    "\n",
    "print(cal1.add(3))\n",
    "print(cal1.add(4))\n",
    "print(cal2.add(5))\n",
    "print(cal2.add(6))"
   ]
  },
  {
   "cell_type": "code",
   "execution_count": 14,
   "id": "0674aac4-50eb-414e-8149-0c1bdafaadad",
   "metadata": {},
   "outputs": [
    {
     "name": "stdout",
     "output_type": "stream",
     "text": [
      "10\n",
      "13\n",
      "8\n",
      "--------------------\n",
      "-5\n",
      "15\n"
     ]
    }
   ],
   "source": [
    "# 더하기 / 빼기 기능이 있는 계산기의 설계도(class)\n",
    "\n",
    "class Calculater:\n",
    "    def __init__(self):\n",
    "        self.result = 0  # 계산기 초기값\n",
    "    \n",
    "    def add(self, num):\n",
    "        self.result += num\n",
    "        return self.result\n",
    "\n",
    "    def sub(self, num):\n",
    "        self.result -= num\n",
    "        return self.result\n",
    "\n",
    "\n",
    "cal1 = Calculater()\n",
    "\n",
    "print(cal1.add(10))  # 0 + 10\n",
    "print(cal1.add(3))   # 10 + 3\n",
    "print(cal1.sub(5))   # 13 - 5\n",
    "\n",
    "print('-'*20)\n",
    "\n",
    "cal2 = Calculater()\n",
    "\n",
    "print(cal2.sub(5))   # 0 - 5\n",
    "print(cal2.add(20))  # (-5) + 20"
   ]
  },
  {
   "cell_type": "markdown",
   "id": "85fa4a2f-302b-43fa-a240-cc60a5a5802c",
   "metadata": {},
   "source": [
    "### 3. 사칙연산 클래스 만들기"
   ]
  },
  {
   "cell_type": "code",
   "execution_count": 15,
   "id": "2eb596e7-e1fa-4877-9619-fafa9f8fdfd9",
   "metadata": {},
   "outputs": [],
   "source": [
    "class FourCal:\n",
    "    pass"
   ]
  },
  {
   "cell_type": "code",
   "execution_count": 16,
   "id": "dda11dcd-f27e-4191-ae0e-f92df7c57169",
   "metadata": {},
   "outputs": [
    {
     "data": {
      "text/plain": [
       "__main__.FourCal"
      ]
     },
     "execution_count": 16,
     "metadata": {},
     "output_type": "execute_result"
    }
   ],
   "source": [
    "a = FourCal()\n",
    "type(a)"
   ]
  },
  {
   "cell_type": "code",
   "execution_count": 21,
   "id": "18001180-e8f1-43d8-a1fc-5a468ff2468a",
   "metadata": {},
   "outputs": [],
   "source": [
    "class FourCal:   #클래스 선언\n",
    "    def setdata(self, first, second):  \n",
    "# 클래스 선언할 때에는 지정된 매개변수로 'self'가 무조건 들어가지만 매개변수 갯수에는 포함되지 않음.\n",
    "# 객체를 호출할 때에 호출한 객체 자신이 전달되기 떄문에 사용.\n",
    "        self.first = first\n",
    "        self.second = second"
   ]
  },
  {
   "cell_type": "code",
   "execution_count": 20,
   "id": "2befd4ee-250a-4175-ae7d-60df5f36d1f2",
   "metadata": {},
   "outputs": [
    {
     "name": "stdout",
     "output_type": "stream",
     "text": [
      "3 4\n"
     ]
    }
   ],
   "source": [
    "a = FourCal()  # 인스턴스 생성\n",
    "a.setdata(3,4)\n",
    "print(a.first, a.second)"
   ]
  },
  {
   "cell_type": "code",
   "execution_count": 26,
   "id": "87840622-f2e7-4240-b05d-bd5272eeddcc",
   "metadata": {},
   "outputs": [
    {
     "name": "stdout",
     "output_type": "stream",
     "text": [
      "6\n",
      "2\n",
      "8\n",
      "2.0\n",
      "--------------------\n",
      "11\n",
      "-5\n",
      "24\n",
      "0.375\n"
     ]
    }
   ],
   "source": [
    "class FourCal:\n",
    "    def setdata(self, first, second):\n",
    "        self.first = first\n",
    "        self.second = second\n",
    "\n",
    "    def add(self):\n",
    "        result = self.first + self.second\n",
    "        return result\n",
    "\n",
    "    def sub(self):\n",
    "        result = self.first - self.second\n",
    "        return result\n",
    "\n",
    "    def mul(self):\n",
    "        result = self.first * self.second\n",
    "        return result\n",
    "\n",
    "    def div(self):\n",
    "        result = self.first / self.second\n",
    "        return result\n",
    "\n",
    "cal1 = FourCal()  #계산기 1\n",
    "cal2 = FourCal()  #계산기 2\n",
    "\n",
    "# 계산기에 2개의 숫자 입력\n",
    "cal1.setdata(4, 2)\n",
    "cal2.setdata(3, 8)\n",
    "\n",
    "print(cal1.add())\n",
    "print(cal1.sub())\n",
    "print(cal1.mul())\n",
    "print(cal1.div())\n",
    "\n",
    "print('-'*20)\n",
    "\n",
    "print(cal2.add())\n",
    "print(cal2.sub())\n",
    "print(cal2.mul())\n",
    "print(cal2.div())"
   ]
  },
  {
   "cell_type": "markdown",
   "id": "856423b4-3270-447a-a18c-37b89999cebe",
   "metadata": {},
   "source": [
    "### 4. 생성자"
   ]
  },
  {
   "cell_type": "code",
   "execution_count": 29,
   "id": "8e01fa85-09fa-4662-90c6-05442212f1de",
   "metadata": {},
   "outputs": [],
   "source": [
    "class FourCal:\n",
    "    def __init__(self, first, second):\n",
    "        self.first = first\n",
    "        self.second = second\n",
    "\n",
    "    def add(self):\n",
    "        result = self.first + self.second\n",
    "        return result\n",
    "\n",
    "    def sub(self):\n",
    "        result = self.first - self.second\n",
    "        return result\n",
    "\n",
    "    def mul(self):\n",
    "        result = self.first * self.second\n",
    "        return result\n",
    "\n",
    "    def div(self):\n",
    "        result = self.first / self.second\n",
    "        return result"
   ]
  },
  {
   "cell_type": "code",
   "execution_count": 30,
   "id": "e5a30d22-4006-4e51-aa90-732467a74c5a",
   "metadata": {},
   "outputs": [
    {
     "ename": "TypeError",
     "evalue": "FourCal.__init__() missing 2 required positional arguments: 'first' and 'second'",
     "output_type": "error",
     "traceback": [
      "\u001b[1;31m---------------------------------------------------------------------------\u001b[0m",
      "\u001b[1;31mTypeError\u001b[0m                                 Traceback (most recent call last)",
      "Cell \u001b[1;32mIn[30], line 1\u001b[0m\n\u001b[1;32m----> 1\u001b[0m calc1 \u001b[38;5;241m=\u001b[39m FourCal()\n",
      "\u001b[1;31mTypeError\u001b[0m: FourCal.__init__() missing 2 required positional arguments: 'first' and 'second'"
     ]
    }
   ],
   "source": [
    "calc1 = FourCal()"
   ]
  },
  {
   "cell_type": "code",
   "execution_count": 31,
   "id": "2f1c5ed4-e8e4-48e1-921f-eee0d7818907",
   "metadata": {},
   "outputs": [],
   "source": [
    "calc1 = FourCal(15, 3)"
   ]
  },
  {
   "cell_type": "code",
   "execution_count": 32,
   "id": "db91adfa-8d07-4644-8624-9f2915616e0e",
   "metadata": {},
   "outputs": [
    {
     "data": {
      "text/plain": [
       "15"
      ]
     },
     "execution_count": 32,
     "metadata": {},
     "output_type": "execute_result"
    }
   ],
   "source": [
    "calc1.first"
   ]
  },
  {
   "cell_type": "code",
   "execution_count": 33,
   "id": "efe0c386-b76e-41e5-88f4-7caa658c08ea",
   "metadata": {},
   "outputs": [
    {
     "data": {
      "text/plain": [
       "3"
      ]
     },
     "execution_count": 33,
     "metadata": {},
     "output_type": "execute_result"
    }
   ],
   "source": [
    "calc1.second"
   ]
  },
  {
   "cell_type": "code",
   "execution_count": 35,
   "id": "fd0cab41-8dbd-4d4b-bd48-f26f3a26e216",
   "metadata": {},
   "outputs": [
    {
     "name": "stdout",
     "output_type": "stream",
     "text": [
      "15 + 3 = 18\n",
      "15 - 3 = 12\n",
      "15 * 3 = 45\n",
      "15 / 3 = 5.0\n"
     ]
    }
   ],
   "source": [
    "print('15 + 3 =', calc1.add())\n",
    "print('15 - 3 =', calc1.sub())\n",
    "print('15 * 3 =', calc1.mul())\n",
    "print('15 / 3 =', calc1.div())"
   ]
  },
  {
   "cell_type": "markdown",
   "id": "173a87ec-7fb7-4e30-97e4-03ba8f82d618",
   "metadata": {},
   "source": [
    "### 5. 클래스 상속"
   ]
  },
  {
   "cell_type": "code",
   "execution_count": 39,
   "id": "ad26e47f-1c81-4667-8bba-0a49d5395f37",
   "metadata": {},
   "outputs": [],
   "source": [
    "class MoreFourCal(FourCal):    # 클래스에 괄호가 있으면 상속받을 자식 클래스.\n",
    "# (FoulCal) = 부모 클래스, 추가된 MoreFourCal = 자식 클래스.\n",
    "    pass"
   ]
  },
  {
   "cell_type": "code",
   "execution_count": 40,
   "id": "6691d2b0-619d-4de1-a583-bd282fea2788",
   "metadata": {},
   "outputs": [],
   "source": [
    "cal1 = MoreFourCal(4, 2)"
   ]
  },
  {
   "cell_type": "code",
   "execution_count": 41,
   "id": "327dcc14-650b-431b-9a33-12010a42385a",
   "metadata": {},
   "outputs": [
    {
     "name": "stdout",
     "output_type": "stream",
     "text": [
      "6\n",
      "2\n",
      "8\n",
      "2.0\n"
     ]
    }
   ],
   "source": [
    "print(cal1.add())\n",
    "print(cal1.sub())\n",
    "print(cal1.mul())\n",
    "print(cal1.div())"
   ]
  },
  {
   "cell_type": "code",
   "execution_count": 42,
   "id": "76611307-4a0d-45d8-a354-e3c7b9e0cbb5",
   "metadata": {},
   "outputs": [
    {
     "name": "stdout",
     "output_type": "stream",
     "text": [
      "6\n",
      "2\n",
      "8\n",
      "2.0\n",
      "16\n"
     ]
    }
   ],
   "source": [
    "# 기본 기능은 상속 받았고, MoreFourCal만의 기능을 추가.\n",
    "class MoreFourCal(FourCal):\n",
    "    def pow(self):\n",
    "        result = self.first ** self.second\n",
    "        return result\n",
    "\n",
    "cal2 = MoreFourCal(4, 2)\n",
    "\n",
    "print(cal2.add())\n",
    "print(cal2.sub())\n",
    "print(cal2.mul())\n",
    "print(cal2.div())\n",
    "print(cal2.pow())"
   ]
  },
  {
   "cell_type": "code",
   "execution_count": 44,
   "id": "8ecbdf0a-648a-4a11-8fa6-3e68ed43d127",
   "metadata": {},
   "outputs": [
    {
     "name": "stdout",
     "output_type": "stream",
     "text": [
      "4\n",
      "4\n",
      "0\n"
     ]
    }
   ],
   "source": [
    "cal3 =  MoreFourCal(4, 0)\n",
    "print(cal3.add())\n",
    "print(cal3.sub())\n",
    "print(cal3.mul())"
   ]
  },
  {
   "cell_type": "code",
   "execution_count": 45,
   "id": "df260d44-ed4a-4af0-860c-a4115ab58016",
   "metadata": {},
   "outputs": [
    {
     "ename": "ZeroDivisionError",
     "evalue": "division by zero",
     "output_type": "error",
     "traceback": [
      "\u001b[1;31m---------------------------------------------------------------------------\u001b[0m",
      "\u001b[1;31mZeroDivisionError\u001b[0m                         Traceback (most recent call last)",
      "Cell \u001b[1;32mIn[45], line 1\u001b[0m\n\u001b[1;32m----> 1\u001b[0m \u001b[38;5;28mprint\u001b[39m(cal3\u001b[38;5;241m.\u001b[39mdiv())\n",
      "Cell \u001b[1;32mIn[29], line 19\u001b[0m, in \u001b[0;36mFourCal.div\u001b[1;34m(self)\u001b[0m\n\u001b[0;32m     18\u001b[0m \u001b[38;5;28;01mdef\u001b[39;00m\u001b[38;5;250m \u001b[39m\u001b[38;5;21mdiv\u001b[39m(\u001b[38;5;28mself\u001b[39m):\n\u001b[1;32m---> 19\u001b[0m     result \u001b[38;5;241m=\u001b[39m \u001b[38;5;28mself\u001b[39m\u001b[38;5;241m.\u001b[39mfirst \u001b[38;5;241m/\u001b[39m \u001b[38;5;28mself\u001b[39m\u001b[38;5;241m.\u001b[39msecond\n\u001b[0;32m     20\u001b[0m     \u001b[38;5;28;01mreturn\u001b[39;00m result\n",
      "\u001b[1;31mZeroDivisionError\u001b[0m: division by zero"
     ]
    }
   ],
   "source": [
    "print(cal3.div())"
   ]
  },
  {
   "cell_type": "markdown",
   "id": "dd665e54-38b1-4bd4-86b6-10429da45b4d",
   "metadata": {},
   "source": [
    "### 6. 메서드 오버라이딩"
   ]
  },
  {
   "cell_type": "code",
   "execution_count": 49,
   "id": "6181123d-8109-4af0-8889-40629ca31865",
   "metadata": {},
   "outputs": [],
   "source": [
    "class SafeFourCal(FourCal):\n",
    "    # 상속받은 메서드 재정의(overriding)\n",
    "    def div(self):\n",
    "        if self.second == 0:\n",
    "            return 0\n",
    "        else:\n",
    "            result = self.first / self.second\n",
    "            return result"
   ]
  },
  {
   "cell_type": "code",
   "execution_count": 50,
   "id": "f4d4d37d-3e31-420f-a768-0d299bd45421",
   "metadata": {},
   "outputs": [],
   "source": [
    "calc = SafeFourCal(4, 0)"
   ]
  },
  {
   "cell_type": "code",
   "execution_count": 51,
   "id": "37ad6fa5-0d78-45af-8b2c-41a360814986",
   "metadata": {},
   "outputs": [
    {
     "name": "stdout",
     "output_type": "stream",
     "text": [
      "4\n",
      "4\n",
      "0\n",
      "0\n"
     ]
    }
   ],
   "source": [
    "print(calc.add())\n",
    "print(calc.sub())\n",
    "print(calc.mul())\n",
    "print(calc.div())"
   ]
  },
  {
   "cell_type": "markdown",
   "id": "862a6d00-cdb9-479c-a884-55b82c901ff8",
   "metadata": {},
   "source": [
    "### 7. 클래스 변수"
   ]
  },
  {
   "cell_type": "code",
   "execution_count": 52,
   "id": "03811f6c-34e6-4d27-8af4-f6dd33b52121",
   "metadata": {},
   "outputs": [],
   "source": [
    "class Family:\n",
    "    lastname = '김'"
   ]
  },
  {
   "cell_type": "code",
   "execution_count": 55,
   "id": "4871255c-851e-4250-8ecb-e19f90c83ec6",
   "metadata": {},
   "outputs": [
    {
     "data": {
      "text/plain": [
       "'김'"
      ]
     },
     "execution_count": 55,
     "metadata": {},
     "output_type": "execute_result"
    }
   ],
   "source": [
    "Family.lastname"
   ]
  },
  {
   "cell_type": "code",
   "execution_count": 56,
   "id": "c5f9fd1c-0083-40df-a366-78a2cfaaa0cb",
   "metadata": {},
   "outputs": [
    {
     "name": "stdout",
     "output_type": "stream",
     "text": [
      "김\n",
      "김\n"
     ]
    }
   ],
   "source": [
    "a = Family()\n",
    "b = Family()\n",
    "print(a.lastname)\n",
    "print(b.lastname)"
   ]
  },
  {
   "cell_type": "code",
   "execution_count": 60,
   "id": "87686fd6-ddea-444c-8a5c-6663b03f50b4",
   "metadata": {},
   "outputs": [
    {
     "name": "stdout",
     "output_type": "stream",
     "text": [
      "박\n",
      "박\n"
     ]
    }
   ],
   "source": [
    "# 클래스 변수 변경\n",
    "Family.lastname = '박'\n",
    "# Family.lastname => 클래스 변수, 클래스 변수를 변경하면 인스턴스 변수도 변경.\n",
    "print(a.lastname)\n",
    "print(b.lastname)"
   ]
  },
  {
   "cell_type": "code",
   "execution_count": 63,
   "id": "0c8c01bc-44f7-4e10-83a5-8ba91054fd6f",
   "metadata": {},
   "outputs": [
    {
     "name": "stdout",
     "output_type": "stream",
     "text": [
      "최\n",
      "박\n"
     ]
    }
   ],
   "source": [
    "# 인스턴스 변수만 변경\n",
    "a.lastname = '최'\n",
    "print(a.lastname) # 인스천스 변수를 변경하면 해당 인스턴스 변수만 변경됨.\n",
    "print(b.lastname)"
   ]
  },
  {
   "cell_type": "code",
   "execution_count": null,
   "id": "ac83f633-4a97-443d-a144-e4a2d78dd511",
   "metadata": {},
   "outputs": [],
   "source": []
  }
 ],
 "metadata": {
  "kernelspec": {
   "display_name": "Python [conda env:base] *",
   "language": "python",
   "name": "conda-base-py"
  },
  "language_info": {
   "codemirror_mode": {
    "name": "ipython",
    "version": 3
   },
   "file_extension": ".py",
   "mimetype": "text/x-python",
   "name": "python",
   "nbconvert_exporter": "python",
   "pygments_lexer": "ipython3",
   "version": "3.13.5"
  },
  "widgets": {
   "application/vnd.jupyter.widget-state+json": {
    "state": {},
    "version_major": 2,
    "version_minor": 0
   }
  }
 },
 "nbformat": 4,
 "nbformat_minor": 5
}
