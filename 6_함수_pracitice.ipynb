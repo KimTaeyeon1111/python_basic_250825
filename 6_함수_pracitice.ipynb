{
 "cells": [
  {
   "cell_type": "markdown",
   "id": "d1379a7a-0a1e-4e95-b737-9bc80a1a7966",
   "metadata": {},
   "source": [
    "## 6_함수 연습"
   ]
  },
  {
   "cell_type": "markdown",
   "id": "5d933be6-f12d-4648-8196-36daacfc945a",
   "metadata": {},
   "source": [
    "### 1. 파이썬_함수"
   ]
  },
  {
   "cell_type": "code",
   "execution_count": 1,
   "id": "dc52a544-1335-4b12-b7bc-00f9d4aeb48f",
   "metadata": {},
   "outputs": [
    {
     "name": "stdout",
     "output_type": "stream",
     "text": [
      "7\n"
     ]
    }
   ],
   "source": [
    "def plus(a,b):\n",
    "    return a+b\n",
    "\n",
    "a, b = 3, 4     #a=3, b=4\n",
    "c = plus(a,b)\n",
    "\n",
    "print(c)"
   ]
  },
  {
   "cell_type": "code",
   "execution_count": 2,
   "id": "3ebc11c2-bc47-4aaa-81fc-d67d262cf40e",
   "metadata": {},
   "outputs": [],
   "source": [
    "def plus(a,b):\n",
    "    return a+b\n",
    "\n",
    "a, b = 5, 7\n"
   ]
  },
  {
   "cell_type": "code",
   "execution_count": 19,
   "id": "6c1b6fc0-6ef7-42b7-9e8b-9860d0e33895",
   "metadata": {},
   "outputs": [
    {
     "name": "stdout",
     "output_type": "stream",
     "text": [
      "         W\n",
      "        WWW\n",
      "       WWWWW\n",
      "      WWWWWWW\n",
      "     WWWWWWWWW\n",
      "    WWWWWWWWWWW\n",
      "   WWWWWWWWWWWWW\n",
      "  WWWWWWWWWWWWWWW\n",
      " WWWWWWWWWWWWWWWWW\n",
      "WWWWWWWWWWWWWWWWWWW\n",
      "\n"
     ]
    }
   ],
   "source": [
    "# 트리 완성\n",
    "\n",
    "output = \"\"\n",
    "\n",
    "for i in range(1,11):\n",
    "    for j in range(10, i, -1):\n",
    "        output += ' '\n",
    "    for k in range(0, 2 * i - 1):\n",
    "        output += ''\n",
    "    output += '\\n'\n",
    "\n",
    "print(output)"
   ]
  },
  {
   "cell_type": "code",
   "execution_count": 20,
   "id": "48f8d4c5-58a8-4094-9c0b-343f222edcdb",
   "metadata": {},
   "outputs": [
    {
     "name": "stdout",
     "output_type": "stream",
     "text": [
      "    *\n",
      "    ***\n",
      "    *****\n",
      "    *******\n",
      "    *********\n"
     ]
    }
   ],
   "source": []
  },
  {
   "cell_type": "code",
   "execution_count": null,
   "id": "0780c703-453b-4443-9ee5-5709196ee16b",
   "metadata": {},
   "outputs": [],
   "source": []
  }
 ],
 "metadata": {
  "kernelspec": {
   "display_name": "Python [conda env:base] *",
   "language": "python",
   "name": "conda-base-py"
  },
  "language_info": {
   "codemirror_mode": {
    "name": "ipython",
    "version": 3
   },
   "file_extension": ".py",
   "mimetype": "text/x-python",
   "name": "python",
   "nbconvert_exporter": "python",
   "pygments_lexer": "ipython3",
   "version": "3.13.5"
  },
  "widgets": {
   "application/vnd.jupyter.widget-state+json": {
    "state": {},
    "version_major": 2,
    "version_minor": 0
   }
  }
 },
 "nbformat": 4,
 "nbformat_minor": 5
}
