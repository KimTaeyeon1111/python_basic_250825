{
 "cells": [
  {
   "cell_type": "markdown",
   "id": "3bdd957c-9f2b-4dda-92a1-304dd662fafb",
   "metadata": {},
   "source": [
    "### 자주 발생하는 예외 예시"
   ]
  },
  {
   "cell_type": "code",
   "execution_count": 1,
   "id": "ee0a2ddc-98d5-4dcf-9527-b1802cf1d1f0",
   "metadata": {},
   "outputs": [
    {
     "ename": "FileNotFoundError",
     "evalue": "[Errno 2] No such file or directory: 'fdd2.txt'",
     "output_type": "error",
     "traceback": [
      "\u001b[1;31m---------------------------------------------------------------------------\u001b[0m",
      "\u001b[1;31mFileNotFoundError\u001b[0m                         Traceback (most recent call last)",
      "Cell \u001b[1;32mIn[1], line 1\u001b[0m\n\u001b[1;32m----> 1\u001b[0m f \u001b[38;5;241m=\u001b[39m \u001b[38;5;28mopen\u001b[39m(\u001b[38;5;124m\"\u001b[39m\u001b[38;5;124mfdd2.txt\u001b[39m\u001b[38;5;124m\"\u001b[39m, \u001b[38;5;124m\"\u001b[39m\u001b[38;5;124mr\u001b[39m\u001b[38;5;124m\"\u001b[39m)\n",
      "File \u001b[1;32m~\\anaconda3\\Lib\\site-packages\\IPython\\core\\interactiveshell.py:324\u001b[0m, in \u001b[0;36m_modified_open\u001b[1;34m(file, *args, **kwargs)\u001b[0m\n\u001b[0;32m    317\u001b[0m \u001b[38;5;28;01mif\u001b[39;00m file \u001b[38;5;129;01min\u001b[39;00m {\u001b[38;5;241m0\u001b[39m, \u001b[38;5;241m1\u001b[39m, \u001b[38;5;241m2\u001b[39m}:\n\u001b[0;32m    318\u001b[0m     \u001b[38;5;28;01mraise\u001b[39;00m \u001b[38;5;167;01mValueError\u001b[39;00m(\n\u001b[0;32m    319\u001b[0m         \u001b[38;5;124mf\u001b[39m\u001b[38;5;124m\"\u001b[39m\u001b[38;5;124mIPython won\u001b[39m\u001b[38;5;124m'\u001b[39m\u001b[38;5;124mt let you open fd=\u001b[39m\u001b[38;5;132;01m{\u001b[39;00mfile\u001b[38;5;132;01m}\u001b[39;00m\u001b[38;5;124m by default \u001b[39m\u001b[38;5;124m\"\u001b[39m\n\u001b[0;32m    320\u001b[0m         \u001b[38;5;124m\"\u001b[39m\u001b[38;5;124mas it is likely to crash IPython. If you know what you are doing, \u001b[39m\u001b[38;5;124m\"\u001b[39m\n\u001b[0;32m    321\u001b[0m         \u001b[38;5;124m\"\u001b[39m\u001b[38;5;124myou can use builtins\u001b[39m\u001b[38;5;124m'\u001b[39m\u001b[38;5;124m open.\u001b[39m\u001b[38;5;124m\"\u001b[39m\n\u001b[0;32m    322\u001b[0m     )\n\u001b[1;32m--> 324\u001b[0m \u001b[38;5;28;01mreturn\u001b[39;00m io_open(file, \u001b[38;5;241m*\u001b[39margs, \u001b[38;5;241m*\u001b[39m\u001b[38;5;241m*\u001b[39mkwargs)\n",
      "\u001b[1;31mFileNotFoundError\u001b[0m: [Errno 2] No such file or directory: 'fdd2.txt'"
     ]
    }
   ],
   "source": [
    "f = open(\"fdd2.txt\", \"r\")"
   ]
  },
  {
   "cell_type": "code",
   "execution_count": 2,
   "id": "ba8407d3-3116-416f-8874-c3578d33b7b8",
   "metadata": {},
   "outputs": [
    {
     "ename": "ZeroDivisionError",
     "evalue": "division by zero",
     "output_type": "error",
     "traceback": [
      "\u001b[1;31m---------------------------------------------------------------------------\u001b[0m",
      "\u001b[1;31mZeroDivisionError\u001b[0m                         Traceback (most recent call last)",
      "Cell \u001b[1;32mIn[2], line 1\u001b[0m\n\u001b[1;32m----> 1\u001b[0m \u001b[38;5;241m4\u001b[39m \u001b[38;5;241m/\u001b[39m \u001b[38;5;241m0\u001b[39m\n",
      "\u001b[1;31mZeroDivisionError\u001b[0m: division by zero"
     ]
    }
   ],
   "source": [
    "4 / 0"
   ]
  },
  {
   "cell_type": "code",
   "execution_count": 3,
   "id": "58b6a8e1-fef3-4a3c-9638-b7e17d7d2627",
   "metadata": {},
   "outputs": [],
   "source": [
    "a = [1,2,3]\n",
    "a = [3]"
   ]
  },
  {
   "cell_type": "markdown",
   "id": "4f0fd3d2-2a1c-4a16-b3a2-a99835bc8f4c",
   "metadata": {},
   "source": [
    "## 1. 예외 처리 기법"
   ]
  },
  {
   "cell_type": "code",
   "execution_count": 7,
   "id": "2bd34431-ba60-461e-9820-df7ad31bb074",
   "metadata": {},
   "outputs": [
    {
     "name": "stdout",
     "output_type": "stream",
     "text": [
      "division by zero\n"
     ]
    }
   ],
   "source": [
    "# try-except문 - try 블록 수행 중 예외가 발생하면 except 블록 수행.\n",
    "\n",
    "try:\n",
    "    4/0\n",
    "except ZeroDivisionError as e:\n",
    "    print(e)"
   ]
  },
  {
   "cell_type": "code",
   "execution_count": 8,
   "id": "5a3a2f54-c912-4e81-8640-303a48969c33",
   "metadata": {},
   "outputs": [
    {
     "name": "stdout",
     "output_type": "stream",
     "text": [
      "2.0\n"
     ]
    }
   ],
   "source": [
    "# 예외가 발생하지 않는 경우엔 바로 print로 넘어간다.\n",
    "\n",
    "try:\n",
    "    div = 4/2\n",
    "except ZeroDivisionError as e:\n",
    "    print(e)\n",
    "\n",
    "print(div)"
   ]
  },
  {
   "cell_type": "code",
   "execution_count": 9,
   "id": "9508492d-2de2-4a60-8eb1-93bba015dd93",
   "metadata": {},
   "outputs": [],
   "source": [
    "# try-finally문 - try 수행 도중 예외 발생 여부 상관없이 항상 실행.\n",
    "try:\n",
    "    f = open('foo.txt', 'w')\n",
    "finally:\n",
    "    f.close()"
   ]
  },
  {
   "cell_type": "code",
   "execution_count": 11,
   "id": "9823aa5a-7569-4f13-ae34-7df156d216bd",
   "metadata": {},
   "outputs": [
    {
     "name": "stdout",
     "output_type": "stream",
     "text": [
      "인덱싱 할 수 없습니다.\n",
      "[1, 2]\n"
     ]
    }
   ],
   "source": [
    "# 여러개 예외처리.\n",
    "# print(a[3]) 조건에서 에러가 발생하였기 때문에 바로 'IndexError'로 넘어가서 'Zero...'로 넘어가지 않음.\n",
    "# 'finally'는 무조건 실행해야 하기 때문에 결과값이 두 개만 나온 것이다.\n",
    "try:\n",
    "    a = [1, 2]\n",
    "    print(a[3])   # IndexError\n",
    "    4/0           # ZeroDivisionError\n",
    "except ZeroDivisionError:\n",
    "    print('0으로 나눌 수 없습니다.')\n",
    "except IndexError:\n",
    "    print('인덱싱 할 수 없습니다.')\n",
    "finally:\n",
    "    print(a)"
   ]
  },
  {
   "cell_type": "code",
   "execution_count": 12,
   "id": "2b8aa3d7-0d84-44d3-b1b5-b46fa0be4ca9",
   "metadata": {},
   "outputs": [
    {
     "name": "stdout",
     "output_type": "stream",
     "text": [
      "list index out of range\n"
     ]
    }
   ],
   "source": [
    "# 위와 같이 오류가 난 print(a[3])을 처리하는 상황.\n",
    "try:\n",
    "    a = [1, 2]\n",
    "    print(a[3])\n",
    "    4/0\n",
    "except ZeroDivisionError as e:\n",
    "    print(e)\n",
    "except IndexError as e:\n",
    "    print(e)"
   ]
  },
  {
   "cell_type": "code",
   "execution_count": 13,
   "id": "bd68bb03-6ae5-4d38-82b7-777351012d0a",
   "metadata": {},
   "outputs": [
    {
     "name": "stdout",
     "output_type": "stream",
     "text": [
      "division by zero\n"
     ]
    }
   ],
   "source": [
    "try:\n",
    "    a = [1, 2]\n",
    "    4/0\n",
    "    print(a[3])\n",
    "except(ZeroDivisionError, IndexError) as e:\n",
    "    print(e)"
   ]
  },
  {
   "cell_type": "code",
   "execution_count": 33,
   "id": "c3f27d12-6e61-4009-a2eb-304ab5646958",
   "metadata": {},
   "outputs": [
    {
     "name": "stdout",
     "output_type": "stream",
     "text": [
      "list index out of range\n"
     ]
    }
   ],
   "source": [
    "# 어떠한 예외일지 모를 때 확인법 'except Exception as e'\n",
    "try:\n",
    "    a = [1, 2]\n",
    "    print(a[3])\n",
    "    4/0\n",
    "except Exception as e:\n",
    "    print(e)"
   ]
  },
  {
   "cell_type": "code",
   "execution_count": 18,
   "id": "eef3035f-2afc-41af-9656-6b0990e5bf6a",
   "metadata": {},
   "outputs": [
    {
     "name": "stdin",
     "output_type": "stream",
     "text": [
      "나이를 입력하세요 : 22\n"
     ]
    },
    {
     "name": "stdout",
     "output_type": "stream",
     "text": [
      "성년\n"
     ]
    }
   ],
   "source": [
    "# try-else문 - 예외 발생 시 except 절, 아닐 시 else 절 실행.\n",
    "try:\n",
    "    age = int(input('나이를 입력하세요 :'))\n",
    "except:\n",
    "    print('입력이 정확하지 않습니다.')\n",
    "else:\n",
    "    if age <= 18:\n",
    "        print('미성년')\n",
    "    else:\n",
    "        print('성년')"
   ]
  },
  {
   "cell_type": "markdown",
   "id": "442f2504-afae-4056-88ea-8b68b42c8b80",
   "metadata": {},
   "source": [
    "### 2. 예외 회피하기"
   ]
  },
  {
   "cell_type": "code",
   "execution_count": 20,
   "id": "ea84a842-7224-4e34-9005-5e5851802a06",
   "metadata": {},
   "outputs": [],
   "source": [
    "# 결과값이 아무렇게나 나와도 pass로 회피.\n",
    "# 에러가 발생하면 코드 작성, 유무를 모르면 그냥 except 작성.\n",
    "try:\n",
    "    4/0\n",
    "except ZeroDivisionError:\n",
    "    pass"
   ]
  },
  {
   "cell_type": "markdown",
   "id": "405ea994-54e0-4f71-8bea-d580acfec475",
   "metadata": {},
   "source": [
    "### 3. 예외 발생\n",
    "##### "
   ]
  },
  {
   "cell_type": "code",
   "execution_count": 24,
   "id": "9ca3f19e-1d5a-4fd5-9469-44cc42825239",
   "metadata": {},
   "outputs": [],
   "source": [
    "# Bird라는 class 정의.\n",
    "class Bird:\n",
    "    def fly(self):\n",
    "        raise NotImplementedError"
   ]
  },
  {
   "cell_type": "code",
   "execution_count": 29,
   "id": "58bd6614-8c4c-437e-8515-23168f392b63",
   "metadata": {},
   "outputs": [
    {
     "ename": "NotImplementedError",
     "evalue": "",
     "output_type": "error",
     "traceback": [
      "\u001b[1;31m---------------------------------------------------------------------------\u001b[0m",
      "\u001b[1;31mNotImplementedError\u001b[0m                       Traceback (most recent call last)",
      "Cell \u001b[1;32mIn[29], line 6\u001b[0m\n\u001b[0;32m      4\u001b[0m \u001b[38;5;66;03m#객체\u001b[39;00m\n\u001b[0;32m      5\u001b[0m eagle \u001b[38;5;241m=\u001b[39m Eagle()          \u001b[38;5;66;03m# 인스턴스\u001b[39;00m\n\u001b[1;32m----> 6\u001b[0m eagle\u001b[38;5;241m.\u001b[39mfly()\n",
      "Cell \u001b[1;32mIn[24], line 4\u001b[0m, in \u001b[0;36mBird.fly\u001b[1;34m(self)\u001b[0m\n\u001b[0;32m      3\u001b[0m \u001b[38;5;28;01mdef\u001b[39;00m\u001b[38;5;250m \u001b[39m\u001b[38;5;21mfly\u001b[39m(\u001b[38;5;28mself\u001b[39m):\n\u001b[1;32m----> 4\u001b[0m     \u001b[38;5;28;01mraise\u001b[39;00m \u001b[38;5;167;01mNotImplementedError\u001b[39;00m\n",
      "\u001b[1;31mNotImplementedError\u001b[0m: "
     ]
    }
   ],
   "source": [
    "class Eagle(Bird):       # Eagle은 새기 때문에 bird라는 부모에게서 상속 받음.\n",
    "    pass                 # pass로 자식 속성을 넘겼기에 부모로 넘어가 예외를 발생시킨다.\n",
    "\n",
    "#객체\n",
    "eagle = Eagle()          # 인스턴스\n",
    "eagle.fly()              # 'fly' 함수에 'raise'로 오류를 발생시킴."
   ]
  },
  {
   "cell_type": "code",
   "execution_count": 30,
   "id": "b5ca548d-f749-46bf-9637-553dbdd46055",
   "metadata": {},
   "outputs": [
    {
     "name": "stdout",
     "output_type": "stream",
     "text": [
      "very fast\n"
     ]
    }
   ],
   "source": [
    "class Eagle(Bird):\n",
    "    def fly(self):        \n",
    "        print(\"very fast\")\n",
    "# 메서드 오버라이딩 - 자식이 부모의 함수 말고도 자신만의 함수를 가지게 됨.\n",
    "# (부모와 자식의 이름이 같은 경우만 해당) \n",
    "\n",
    "eagle = Eagle()           # 인스턴스 생성\n",
    "eagle.fly()"
   ]
  },
  {
   "cell_type": "markdown",
   "id": "5c017afd-b354-4647-a78f-310f1df9fbd5",
   "metadata": {},
   "source": [
    "### 4. 예외 만들기"
   ]
  },
  {
   "cell_type": "code",
   "execution_count": 34,
   "id": "d6387303-6ce9-464b-8a5c-f2f53b4d4cf0",
   "metadata": {},
   "outputs": [],
   "source": [
    "# 예외 클래스 생성\n",
    "class MyError(Exception):  #상속\n",
    "    pass"
   ]
  },
  {
   "cell_type": "code",
   "execution_count": 49,
   "id": "d0bd9dab-5f26-4c12-b7d0-39a2f2829c52",
   "metadata": {},
   "outputs": [],
   "source": [
    "def say_nick(nick):\n",
    "    if nick == ('바보'):\n",
    "        raise MyError    # 강제 예외 발생 'raise'\n",
    "    print(nick)"
   ]
  },
  {
   "cell_type": "code",
   "execution_count": 50,
   "id": "b0c7744b-e981-4586-baea-1846ed294b85",
   "metadata": {},
   "outputs": [
    {
     "name": "stdout",
     "output_type": "stream",
     "text": [
      "천사\n"
     ]
    }
   ],
   "source": [
    "say_nick('천사')"
   ]
  },
  {
   "cell_type": "code",
   "execution_count": 51,
   "id": "511c8f17-dd94-4478-969d-ad306c934e18",
   "metadata": {},
   "outputs": [
    {
     "ename": "MyError",
     "evalue": "",
     "output_type": "error",
     "traceback": [
      "\u001b[1;31m---------------------------------------------------------------------------\u001b[0m",
      "\u001b[1;31mMyError\u001b[0m                                   Traceback (most recent call last)",
      "Cell \u001b[1;32mIn[51], line 1\u001b[0m\n\u001b[1;32m----> 1\u001b[0m say_nick(\u001b[38;5;124m'\u001b[39m\u001b[38;5;124m바보\u001b[39m\u001b[38;5;124m'\u001b[39m)\n",
      "Cell \u001b[1;32mIn[49], line 3\u001b[0m, in \u001b[0;36msay_nick\u001b[1;34m(nick)\u001b[0m\n\u001b[0;32m      1\u001b[0m \u001b[38;5;28;01mdef\u001b[39;00m\u001b[38;5;250m \u001b[39m\u001b[38;5;21msay_nick\u001b[39m(nick):\n\u001b[0;32m      2\u001b[0m     \u001b[38;5;28;01mif\u001b[39;00m nick \u001b[38;5;241m==\u001b[39m (\u001b[38;5;124m'\u001b[39m\u001b[38;5;124m바보\u001b[39m\u001b[38;5;124m'\u001b[39m):\n\u001b[1;32m----> 3\u001b[0m         \u001b[38;5;28;01mraise\u001b[39;00m MyError    \u001b[38;5;66;03m# 강제 예외 발생 'raise'\u001b[39;00m\n\u001b[0;32m      4\u001b[0m     \u001b[38;5;28mprint\u001b[39m(nick)\n",
      "\u001b[1;31mMyError\u001b[0m: "
     ]
    }
   ],
   "source": [
    "say_nick('바보')"
   ]
  },
  {
   "cell_type": "code",
   "execution_count": 45,
   "id": "3ae16d43-7217-4bcb-b640-a51ba85be24a",
   "metadata": {},
   "outputs": [
    {
     "name": "stdout",
     "output_type": "stream",
     "text": [
      "천사\n",
      "허용되지 않는 별명입니다.\n"
     ]
    }
   ],
   "source": [
    "# MyError 예외처리\n",
    "try:\n",
    "    say_nick('천사')\n",
    "    say_nick('바보')\n",
    "except MyError:\n",
    "    print('허용되지 않는 별명입니다.')"
   ]
  },
  {
   "cell_type": "code",
   "execution_count": 47,
   "id": "b1c133e5-8f1e-4873-9037-594ffb6d5a75",
   "metadata": {},
   "outputs": [
    {
     "name": "stdout",
     "output_type": "stream",
     "text": [
      "천사\n",
      "\n"
     ]
    }
   ],
   "source": [
    "# 오류 메세지 출력\n",
    "try:\n",
    "    say_nick('천사')\n",
    "    say_nick('바보')\n",
    "except Exception as e:\n",
    "    print(e)"
   ]
  },
  {
   "cell_type": "code",
   "execution_count": 55,
   "id": "f395950b-ca20-4136-9024-1a7615d01373",
   "metadata": {},
   "outputs": [],
   "source": [
    "# 오류 메시지 출력되게 하는 코드 '__str__' 로 지정\n",
    "class MyError(Exception):\n",
    "    def __str__(self):\n",
    "        return \"허용되지 않는 별명입니다.\""
   ]
  },
  {
   "cell_type": "code",
   "execution_count": 57,
   "id": "753d5de7-5ba9-42ee-b7f4-418fb6d08f2a",
   "metadata": {},
   "outputs": [
    {
     "ename": "MyError",
     "evalue": "허용되지 않는 별명입니다.",
     "output_type": "error",
     "traceback": [
      "\u001b[1;31m---------------------------------------------------------------------------\u001b[0m",
      "\u001b[1;31mMyError\u001b[0m                                   Traceback (most recent call last)",
      "Cell \u001b[1;32mIn[57], line 1\u001b[0m\n\u001b[1;32m----> 1\u001b[0m say_nick(\u001b[38;5;124m'\u001b[39m\u001b[38;5;124m바보\u001b[39m\u001b[38;5;124m'\u001b[39m)\n",
      "Cell \u001b[1;32mIn[49], line 3\u001b[0m, in \u001b[0;36msay_nick\u001b[1;34m(nick)\u001b[0m\n\u001b[0;32m      1\u001b[0m \u001b[38;5;28;01mdef\u001b[39;00m\u001b[38;5;250m \u001b[39m\u001b[38;5;21msay_nick\u001b[39m(nick):\n\u001b[0;32m      2\u001b[0m     \u001b[38;5;28;01mif\u001b[39;00m nick \u001b[38;5;241m==\u001b[39m (\u001b[38;5;124m'\u001b[39m\u001b[38;5;124m바보\u001b[39m\u001b[38;5;124m'\u001b[39m):\n\u001b[1;32m----> 3\u001b[0m         \u001b[38;5;28;01mraise\u001b[39;00m MyError    \u001b[38;5;66;03m# 강제 예외 발생 'raise'\u001b[39;00m\n\u001b[0;32m      4\u001b[0m     \u001b[38;5;28mprint\u001b[39m(nick)\n",
      "\u001b[1;31mMyError\u001b[0m: 허용되지 않는 별명입니다."
     ]
    }
   ],
   "source": [
    "say_nick('바보')"
   ]
  },
  {
   "cell_type": "code",
   "execution_count": 59,
   "id": "72060a9b-406e-4ab3-8f54-526a5b23d484",
   "metadata": {},
   "outputs": [
    {
     "name": "stdout",
     "output_type": "stream",
     "text": [
      "천사\n",
      "허용되지 않는 별명입니다.\n"
     ]
    }
   ],
   "source": [
    "# 위 예외를 보면 아랫줄에 작성된 'MyError: '허용... 입니다.'를 '__str__'로 직접 정의.'\n",
    "\n",
    "try:\n",
    "    say_nick('천사')\n",
    "    say_nick('바보')\n",
    "except Exception as e:\n",
    "    print(e)       # '__str__'에 정의한 오류 메세지 보임."
   ]
  },
  {
   "cell_type": "code",
   "execution_count": null,
   "id": "a228abb8-fcfa-45d2-a7ab-4a9c1793531a",
   "metadata": {},
   "outputs": [],
   "source": []
  }
 ],
 "metadata": {
  "kernelspec": {
   "display_name": "Python [conda env:base] *",
   "language": "python",
   "name": "conda-base-py"
  },
  "language_info": {
   "codemirror_mode": {
    "name": "ipython",
    "version": 3
   },
   "file_extension": ".py",
   "mimetype": "text/x-python",
   "name": "python",
   "nbconvert_exporter": "python",
   "pygments_lexer": "ipython3",
   "version": "3.13.5"
  },
  "widgets": {
   "application/vnd.jupyter.widget-state+json": {
    "state": {},
    "version_major": 2,
    "version_minor": 0
   }
  }
 },
 "nbformat": 4,
 "nbformat_minor": 5
}
