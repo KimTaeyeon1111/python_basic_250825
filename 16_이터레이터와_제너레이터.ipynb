{
 "cells": [
  {
   "cell_type": "markdown",
   "id": "2797bdad-fe71-4846-8c06-d4991e302645",
   "metadata": {},
   "source": [
    "### 1. 이터레이터"
   ]
  },
  {
   "cell_type": "code",
   "execution_count": 2,
   "id": "6d183af7-66dd-4301-bcbb-5922453c86d4",
   "metadata": {},
   "outputs": [],
   "source": [
    "a = [1,2,3]"
   ]
  },
  {
   "cell_type": "code",
   "execution_count": 3,
   "id": "467a96e7-7824-468d-a922-32b63081f23a",
   "metadata": {},
   "outputs": [
    {
     "ename": "TypeError",
     "evalue": "'list' object is not an iterator",
     "output_type": "error",
     "traceback": [
      "\u001b[1;31m---------------------------------------------------------------------------\u001b[0m",
      "\u001b[1;31mTypeError\u001b[0m                                 Traceback (most recent call last)",
      "Cell \u001b[1;32mIn[3], line 1\u001b[0m\n\u001b[1;32m----> 1\u001b[0m \u001b[38;5;28mnext\u001b[39m(a)\n",
      "\u001b[1;31mTypeError\u001b[0m: 'list' object is not an iterator"
     ]
    }
   ],
   "source": [
    "next(a)"
   ]
  },
  {
   "cell_type": "code",
   "execution_count": 6,
   "id": "f7b14437-1e58-4b89-b471-f6bf2e01b3c3",
   "metadata": {},
   "outputs": [
    {
     "data": {
      "text/plain": [
       "list_iterator"
      ]
     },
     "execution_count": 6,
     "metadata": {},
     "output_type": "execute_result"
    }
   ],
   "source": [
    "# 리스트를 iter()함수를 이용해 이터레이터 객체로 변환.\n",
    "a = [1,2,3]\n",
    "ia = iter(a)\n",
    "type(ia)"
   ]
  },
  {
   "cell_type": "code",
   "execution_count": 7,
   "id": "15ab7282-1e3f-419f-8d26-38a9eb7f6cd0",
   "metadata": {},
   "outputs": [
    {
     "name": "stdout",
     "output_type": "stream",
     "text": [
      "1\n",
      "2\n",
      "3\n"
     ]
    }
   ],
   "source": [
    "# 이터레이터 값을 가져오는 일반적인 방법(for문)\n",
    "a = [1,2,3]\n",
    "ia = iter(a)\n",
    "for i in ia:\n",
    "    print(i)"
   ]
  },
  {
   "cell_type": "code",
   "execution_count": 9,
   "id": "4bd785b2-dcbe-40bb-9d53-43ec13aef068",
   "metadata": {},
   "outputs": [],
   "source": [
    "#이터레이터 객체는 for문이나 next()로 그 값을 한 번 읽으면 다시 읽을 수 없음.\n",
    "for i in ia:\n",
    "    print(i)"
   ]
  },
  {
   "cell_type": "markdown",
   "id": "3a7a78f5-8399-4f40-b656-4a97c140a5f7",
   "metadata": {},
   "source": [
    "### 2. 제너레이터란?"
   ]
  },
  {
   "cell_type": "code",
   "execution_count": 11,
   "id": "7e41153a-e9ef-49bb-b010-bc60e994a3b9",
   "metadata": {},
   "outputs": [],
   "source": [
    "# 가장 간단한 제너레이터.\n",
    "def mygen():\n",
    "    yield 'a'\n",
    "    yield 'b'\n",
    "    yield 'c'\n",
    "\n",
    "g = mygen()"
   ]
  },
  {
   "cell_type": "code",
   "execution_count": 12,
   "id": "6cf76d98-d00d-4e1a-a698-6b6eca590417",
   "metadata": {},
   "outputs": [
    {
     "data": {
      "text/plain": [
       "generator"
      ]
     },
     "execution_count": 12,
     "metadata": {},
     "output_type": "execute_result"
    }
   ],
   "source": [
    "type(g)"
   ]
  },
  {
   "cell_type": "code",
   "execution_count": 13,
   "id": "5924f089-ec3c-4674-8b04-a25839f554d0",
   "metadata": {},
   "outputs": [
    {
     "data": {
      "text/plain": [
       "'a'"
      ]
     },
     "execution_count": 13,
     "metadata": {},
     "output_type": "execute_result"
    }
   ],
   "source": [
    "next(g)"
   ]
  },
  {
   "cell_type": "code",
   "execution_count": 14,
   "id": "3d25fc59-f0cb-4839-808d-2a28f9899f48",
   "metadata": {},
   "outputs": [
    {
     "data": {
      "text/plain": [
       "'b'"
      ]
     },
     "execution_count": 14,
     "metadata": {},
     "output_type": "execute_result"
    }
   ],
   "source": [
    "next(g)"
   ]
  },
  {
   "cell_type": "markdown",
   "id": "7f68a156-c59e-47c0-b483-eefbf52152c4",
   "metadata": {},
   "source": [
    "### 3. 제너레이터 표현식"
   ]
  },
  {
   "cell_type": "code",
   "execution_count": 17,
   "id": "47ddc5fc-4f28-4e61-92ae-3defe2bd9bc1",
   "metadata": {},
   "outputs": [
    {
     "name": "stdout",
     "output_type": "stream",
     "text": [
      "1\n",
      "4\n",
      "9\n",
      "16\n",
      "25\n",
      "36\n",
      "49\n",
      "64\n"
     ]
    }
   ],
   "source": [
    "def mygen():\n",
    "    for i in range(1, 1000):  # 1부터 999까지 반복하는 이터레이터.\n",
    "        result = i*i    #또는  yield i*i도 가능.\n",
    "        yield result\n",
    "\n",
    "gen = mygen()\n",
    "\n",
    "print(next(gen))\n",
    "print(next(gen))\n",
    "print(next(gen))\n",
    "print(next(gen))\n",
    "print(next(gen))\n",
    "print(next(gen))\n",
    "print(next(gen))\n",
    "print(next(gen))"
   ]
  },
  {
   "cell_type": "code",
   "execution_count": 18,
   "id": "f23a63df-7bd6-40ec-956f-d12e4bfc5a6a",
   "metadata": {},
   "outputs": [
    {
     "name": "stdout",
     "output_type": "stream",
     "text": [
      "1\n",
      "4\n",
      "9\n",
      "16\n",
      "25\n"
     ]
    }
   ],
   "source": [
    "# 제너레이터 표현식\n",
    "gen = (i*i for i in range(1,1000))\n",
    "\n",
    "for i in range(1, 6):\n",
    "    print(next(gen))"
   ]
  },
  {
   "cell_type": "code",
   "execution_count": null,
   "id": "4afe351f-6ec2-4525-a9c2-2daf679ef310",
   "metadata": {},
   "outputs": [],
   "source": []
  }
 ],
 "metadata": {
  "kernelspec": {
   "display_name": "Python [conda env:base] *",
   "language": "python",
   "name": "conda-base-py"
  },
  "language_info": {
   "codemirror_mode": {
    "name": "ipython",
    "version": 3
   },
   "file_extension": ".py",
   "mimetype": "text/x-python",
   "name": "python",
   "nbconvert_exporter": "python",
   "pygments_lexer": "ipython3",
   "version": "3.13.5"
  },
  "widgets": {
   "application/vnd.jupyter.widget-state+json": {
    "state": {},
    "version_major": 2,
    "version_minor": 0
   }
  }
 },
 "nbformat": 4,
 "nbformat_minor": 5
}
