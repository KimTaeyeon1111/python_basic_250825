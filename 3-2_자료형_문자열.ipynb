{
 "cells": [
  {
   "cell_type": "markdown",
   "id": "23c0414d-daa4-47a6-a449-1da5e55cea8e",
   "metadata": {},
   "source": [
    "## 2. 자료형-문자열\n",
    "#### (큰따옴표, 작은따옴표)\n",
    "###### str-문자열"
   ]
  },
  {
   "cell_type": "code",
   "execution_count": 1,
   "id": "8b8af7a9-66e7-490c-8051-4c9acd6e3674",
   "metadata": {},
   "outputs": [
    {
     "name": "stdout",
     "output_type": "stream",
     "text": [
      "Python's favorite food is perl\n",
      "<class 'str'>\n"
     ]
    }
   ],
   "source": [
    "food=\"Python's favorite food is perl\"\n",
    "print(food)\n",
    "print(type(food))"
   ]
  },
  {
   "cell_type": "code",
   "execution_count": 3,
   "id": "d876fbfc-c855-4213-a762-ff40529704eb",
   "metadata": {},
   "outputs": [
    {
     "ename": "SyntaxError",
     "evalue": "unterminated string literal (detected at line 1) (554620248.py, line 1)",
     "output_type": "error",
     "traceback": [
      "\u001b[1;36m  Cell \u001b[1;32mIn[3], line 1\u001b[1;36m\u001b[0m\n\u001b[1;33m    food='Python's favorite food is perl'\u001b[0m\n\u001b[1;37m                                        ^\u001b[0m\n\u001b[1;31mSyntaxError\u001b[0m\u001b[1;31m:\u001b[0m unterminated string literal (detected at line 1)\n"
     ]
    }
   ],
   "source": [
    "food='Python's favorite food is perl'\n",
    "print(food)\n",
    "print(type(food))"
   ]
  },
  {
   "cell_type": "markdown",
   "id": "03230fcd-1e49-4a34-8512-f6633e10512d",
   "metadata": {},
   "source": [
    "문장에 작은 따옴표가 포함되어있는 경우는 양쪽에 큰 따옴표를 쓰거나, 문장 속에 있는 작은따옴표 좌측에 \\(| 위치)를 사용하여 나타낸다."
   ]
  },
  {
   "cell_type": "code",
   "execution_count": 4,
   "id": "a1a171f0-761e-429f-9955-5ea93998ac55",
   "metadata": {},
   "outputs": [
    {
     "data": {
      "text/plain": [
       "'\"python is very easy.\" he says.'"
      ]
     },
     "execution_count": 4,
     "metadata": {},
     "output_type": "execute_result"
    }
   ],
   "source": [
    "say='\"python is very easy.\" he says.'\n",
    "say"
   ]
  },
  {
   "cell_type": "code",
   "execution_count": 5,
   "id": "bd82f727-194f-4971-bdc9-3e472f7c05c8",
   "metadata": {},
   "outputs": [
    {
     "data": {
      "text/plain": [
       "'\"python is very easy.\" he says.'"
      ]
     },
     "execution_count": 5,
     "metadata": {},
     "output_type": "execute_result"
    }
   ],
   "source": [
    "Say=\"\\\"python is very easy.\\\" he says.\"\n",
    "say"
   ]
  },
  {
   "cell_type": "markdown",
   "id": "5034ef7e-be08-4436-aabe-c59dd407829c",
   "metadata": {},
   "source": [
    "### 여러줄 문자열\n",
    "###### /n 또는 각 따옴표 세 개씩."
   ]
  },
  {
   "cell_type": "code",
   "execution_count": 6,
   "id": "2ea315fa-be6f-4723-8e76-1a41f84940c8",
   "metadata": {},
   "outputs": [
    {
     "name": "stdout",
     "output_type": "stream",
     "text": [
      "Life is too short you need python\n"
     ]
    }
   ],
   "source": [
    "multline=\"Life is too short you need python\"\n",
    "print(multline)"
   ]
  },
  {
   "cell_type": "code",
   "execution_count": 9,
   "id": "abbdc29d-47e6-4d5d-8482-63fb45b1f81e",
   "metadata": {},
   "outputs": [
    {
     "name": "stdout",
     "output_type": "stream",
     "text": [
      "Life is too short \n",
      "you need python\n"
     ]
    }
   ],
   "source": [
    "multline=\"Life is too short \\nyou need python\"\n",
    "print(multline)"
   ]
  },
  {
   "cell_type": "code",
   "execution_count": 40,
   "id": "9325644e-829a-4a8b-aa61-40986493b1a2",
   "metadata": {},
   "outputs": [
    {
     "name": "stdout",
     "output_type": "stream",
     "text": [
      "\n",
      "Life is too short \n",
      "you need \n",
      "python\n",
      "\n"
     ]
    }
   ],
   "source": [
    "multline=\"\"\"\n",
    "Life is too short \n",
    "you need \n",
    "python\n",
    "\"\"\"\n",
    "print(multline)"
   ]
  },
  {
   "cell_type": "code",
   "execution_count": 12,
   "id": "ec3f68d5-957c-436f-a41f-84196dba99d5",
   "metadata": {},
   "outputs": [
    {
     "name": "stdout",
     "output_type": "stream",
     "text": [
      "\n",
      "Life is too short \n",
      "you need python\n",
      "\n"
     ]
    }
   ],
   "source": [
    "multline='''\n",
    "Life is too short \n",
    "you need python\n",
    "'''\n",
    "print(multline)"
   ]
  },
  {
   "cell_type": "markdown",
   "id": "be067f6e-a06b-4356-841e-7c48303af98b",
   "metadata": {},
   "source": [
    "### 문자열 연산\n",
    "###### head\"\" + tail\"\""
   ]
  },
  {
   "cell_type": "code",
   "execution_count": 14,
   "id": "43af5131-eea0-4fa5-b86c-50f2be8e3ae5",
   "metadata": {},
   "outputs": [
    {
     "data": {
      "text/plain": [
       "'pythonis fun!'"
      ]
     },
     "execution_count": 14,
     "metadata": {},
     "output_type": "execute_result"
    }
   ],
   "source": [
    "head=\"python\"\n",
    "tail=\"is fun!\"\n",
    "\n",
    "head+tail"
   ]
  },
  {
   "cell_type": "code",
   "execution_count": 16,
   "id": "667be5ac-e768-4d5c-bf00-2b734c13aca1",
   "metadata": {},
   "outputs": [
    {
     "name": "stdout",
     "output_type": "stream",
     "text": [
      "python python \n",
      "python python python \n"
     ]
    }
   ],
   "source": [
    "a=\"python \"\n",
    "print(a*2)\n",
    "print(a*3)"
   ]
  },
  {
   "cell_type": "code",
   "execution_count": 17,
   "id": "018e6058-45fc-4796-a856-5696f020f631",
   "metadata": {},
   "outputs": [
    {
     "name": "stdout",
     "output_type": "stream",
     "text": [
      "==================================================\n",
      "python\n",
      "==================================================\n"
     ]
    }
   ],
   "source": [
    "print('='*50)\n",
    "print('python')\n",
    "print('='*50)"
   ]
  },
  {
   "cell_type": "code",
   "execution_count": 18,
   "id": "9188772b-2936-4311-8cdc-b600c6df3e5a",
   "metadata": {},
   "outputs": [
    {
     "name": "stdout",
     "output_type": "stream",
     "text": [
      "==============================\n"
     ]
    }
   ],
   "source": [
    "print('==============================')"
   ]
  },
  {
   "cell_type": "markdown",
   "id": "3768c1a5-c857-4a76-bf18-62ab8f47cbb1",
   "metadata": {},
   "source": [
    "### 문자열 길이 구하기\n",
    "###### 'len()' 사용"
   ]
  },
  {
   "cell_type": "code",
   "execution_count": 19,
   "id": "c2a04025-9df1-4048-9060-d4803739641f",
   "metadata": {},
   "outputs": [
    {
     "data": {
      "text/plain": [
       "17"
      ]
     },
     "execution_count": 19,
     "metadata": {},
     "output_type": "execute_result"
    }
   ],
   "source": [
    "a=\"life is too short\"\n",
    "len(a)"
   ]
  },
  {
   "cell_type": "markdown",
   "id": "e5b6ef7a-8a67-47d3-ad90-449e227596f4",
   "metadata": {},
   "source": [
    "### 문자열 인덱싱\n",
    "###### 해당 숫자가 가리키는 위치의 문자가 무엇인지 알 수 있다.\n",
    "###### a(?), a(-?)로 사용한다. (숫자는 1이 아닌 0부터 시작.)"
   ]
  },
  {
   "cell_type": "code",
   "execution_count": 20,
   "id": "aa592e52-e1e8-4430-8a8d-cbadcb7f717f",
   "metadata": {},
   "outputs": [
    {
     "data": {
      "text/plain": [
       "'e'"
      ]
     },
     "execution_count": 20,
     "metadata": {},
     "output_type": "execute_result"
    }
   ],
   "source": [
    "a=\"Life is too short, You need Python\"\n",
    "a[3]"
   ]
  },
  {
   "cell_type": "code",
   "execution_count": 23,
   "id": "dc27bad8-8b6c-440b-b55f-ebd1bc5370cb",
   "metadata": {},
   "outputs": [
    {
     "data": {
      "text/plain": [
       "'f'"
      ]
     },
     "execution_count": 23,
     "metadata": {},
     "output_type": "execute_result"
    }
   ],
   "source": [
    "a[2] #앞에서부터 찾을 땐 0부터 시작."
   ]
  },
  {
   "cell_type": "code",
   "execution_count": 22,
   "id": "f5f99b70-90a1-4720-a774-0da044248232",
   "metadata": {},
   "outputs": [
    {
     "data": {
      "text/plain": [
       "'h'"
      ]
     },
     "execution_count": 22,
     "metadata": {},
     "output_type": "execute_result"
    }
   ],
   "source": [
    "a[-3] #뒤에서부터 찾을 땐 1부터 시작."
   ]
  },
  {
   "cell_type": "markdown",
   "id": "eaa9779f-bd3e-49ab-a77e-40747279345d",
   "metadata": {},
   "source": [
    "### 문자열 슬라이싱\n"
   ]
  },
  {
   "cell_type": "code",
   "execution_count": 24,
   "id": "6de3b2cd-20c0-4ee1-bfed-387ff57c3ed3",
   "metadata": {},
   "outputs": [
    {
     "name": "stdout",
     "output_type": "stream",
     "text": [
      "Life\n"
     ]
    }
   ],
   "source": [
    "b=a[0]+a[1]+a[2]+a[3]\n",
    "print(b)"
   ]
  },
  {
   "cell_type": "code",
   "execution_count": 27,
   "id": "8423b529-0023-4495-8dc9-30f64581dd12",
   "metadata": {},
   "outputs": [
    {
     "data": {
      "text/plain": [
       "'Life'"
      ]
     },
     "execution_count": 27,
     "metadata": {},
     "output_type": "execute_result"
    }
   ],
   "source": [
    "a[0:4]   #a[시작:끝]으로 작성하는 경우에는 끝 번호는 포함 없이 3번째 번호까지 나온다."
   ]
  },
  {
   "cell_type": "code",
   "execution_count": null,
   "id": "39b2d6be-1a70-4e59-876b-98a3da123a1a",
   "metadata": {},
   "outputs": [],
   "source": [
    "#문자열에서 short문자 슬라이싱"
   ]
  },
  {
   "cell_type": "code",
   "execution_count": 28,
   "id": "d23bbc5a-a6cc-4cfe-be62-8fa96cf60350",
   "metadata": {},
   "outputs": [
    {
     "data": {
      "text/plain": [
       "'need'"
      ]
     },
     "execution_count": 28,
     "metadata": {},
     "output_type": "execute_result"
    }
   ],
   "source": [
    "#need\n",
    "a[23:27]"
   ]
  },
  {
   "cell_type": "code",
   "execution_count": 29,
   "id": "dde1adb1-17ca-42e4-b9ae-ea553273504d",
   "metadata": {},
   "outputs": [
    {
     "data": {
      "text/plain": [
       "'need '"
      ]
     },
     "execution_count": 29,
     "metadata": {},
     "output_type": "execute_result"
    }
   ],
   "source": [
    "a[23:28]"
   ]
  },
  {
   "cell_type": "code",
   "execution_count": 30,
   "id": "937908c8-363d-4bff-ac6a-b9561024bc2a",
   "metadata": {},
   "outputs": [
    {
     "data": {
      "text/plain": [
       "''"
      ]
     },
     "execution_count": 30,
     "metadata": {},
     "output_type": "execute_result"
    }
   ],
   "source": [
    "a[28:24]"
   ]
  },
  {
   "cell_type": "code",
   "execution_count": 31,
   "id": "ff75075c-ef17-4865-8878-89cee22a968c",
   "metadata": {},
   "outputs": [
    {
     "data": {
      "text/plain": [
       "'Python'"
      ]
     },
     "execution_count": 31,
     "metadata": {},
     "output_type": "execute_result"
    }
   ],
   "source": [
    "a[28:]"
   ]
  },
  {
   "cell_type": "code",
   "execution_count": 33,
   "id": "4f03574f-4330-4b1a-b21d-2f72f690f246",
   "metadata": {},
   "outputs": [
    {
     "data": {
      "text/plain": [
       "'Life'"
      ]
     },
     "execution_count": 33,
     "metadata": {},
     "output_type": "execute_result"
    }
   ],
   "source": [
    "a[:4]"
   ]
  },
  {
   "cell_type": "code",
   "execution_count": 34,
   "id": "2d810a74-9dfa-42a8-aee2-16b97a049efa",
   "metadata": {},
   "outputs": [
    {
     "data": {
      "text/plain": [
       "'Life is too short'"
      ]
     },
     "execution_count": 34,
     "metadata": {},
     "output_type": "execute_result"
    }
   ],
   "source": [
    "a[:17]   #처음부터 지정 숫자 끝자리까지. 즉 0부터 16까지의 문자 추출."
   ]
  },
  {
   "cell_type": "code",
   "execution_count": 35,
   "id": "81a0c78f-a8f1-4791-b58d-52e021d6b82f",
   "metadata": {},
   "outputs": [
    {
     "data": {
      "text/plain": [
       "'Life is too short, You need Python'"
      ]
     },
     "execution_count": 35,
     "metadata": {},
     "output_type": "execute_result"
    }
   ],
   "source": [
    "a"
   ]
  },
  {
   "cell_type": "code",
   "execution_count": 36,
   "id": "80d24b0b-aca9-4cf3-8c1b-8505e47064b3",
   "metadata": {},
   "outputs": [
    {
     "data": {
      "text/plain": [
       "'Pytho'"
      ]
     },
     "execution_count": 36,
     "metadata": {},
     "output_type": "execute_result"
    }
   ],
   "source": [
    "a[28:-1]"
   ]
  },
  {
   "cell_type": "code",
   "execution_count": 37,
   "id": "554a8439-8125-4b0b-8926-705ed65900bb",
   "metadata": {},
   "outputs": [
    {
     "data": {
      "text/plain": [
       "''"
      ]
     },
     "execution_count": 37,
     "metadata": {},
     "output_type": "execute_result"
    }
   ],
   "source": [
    "a[20:0]   #'0'은 없기 때문에 a[20:]로 하여 마지막 숫자를 나타낸다."
   ]
  },
  {
   "cell_type": "code",
   "execution_count": 38,
   "id": "94050323-4c6e-46af-a090-6deb1c7542c1",
   "metadata": {},
   "outputs": [
    {
     "name": "stdout",
     "output_type": "stream",
     "text": [
      "<class 'str'>\n"
     ]
    }
   ],
   "source": [
    "a=\"123\"\n",
    "print(type(a))"
   ]
  },
  {
   "cell_type": "code",
   "execution_count": 39,
   "id": "4a3a5afd-795b-4014-8e2b-77853c901bf8",
   "metadata": {},
   "outputs": [
    {
     "ename": "TypeError",
     "evalue": "unsupported operand type(s) for /: 'str' and 'str'",
     "output_type": "error",
     "traceback": [
      "\u001b[1;31m---------------------------------------------------------------------------\u001b[0m",
      "\u001b[1;31mTypeError\u001b[0m                                 Traceback (most recent call last)",
      "Cell \u001b[1;32mIn[39], line 2\u001b[0m\n\u001b[0;32m      1\u001b[0m b\u001b[38;5;241m=\u001b[39m\u001b[38;5;124m\"\u001b[39m\u001b[38;5;124m10\u001b[39m\u001b[38;5;124m\"\u001b[39m\n\u001b[1;32m----> 2\u001b[0m a\u001b[38;5;241m/\u001b[39mb\n",
      "\u001b[1;31mTypeError\u001b[0m: unsupported operand type(s) for /: 'str' and 'str'"
     ]
    }
   ],
   "source": [
    "b=\"10\"\n",
    "a/b            #문자와 문자는 나누기가 되지 않는다."
   ]
  },
  {
   "cell_type": "markdown",
   "id": "c61122e5-e3e7-4381-a345-1eacc7cae41a",
   "metadata": {},
   "source": [
    "### Pithon 문자열을 python으로 바꾸려면?"
   ]
  },
  {
   "cell_type": "code",
   "execution_count": 3,
   "id": "34c311dc-83ed-48e8-9199-59352bdf1ac7",
   "metadata": {},
   "outputs": [
    {
     "data": {
      "text/plain": [
       "'i'"
      ]
     },
     "execution_count": 3,
     "metadata": {},
     "output_type": "execute_result"
    }
   ],
   "source": [
    "a = \"pithon\"\n",
    "a[1]"
   ]
  },
  {
   "cell_type": "code",
   "execution_count": 4,
   "id": "31ddd873-879b-414a-848a-3739fc48e265",
   "metadata": {},
   "outputs": [
    {
     "ename": "TypeError",
     "evalue": "'str' object does not support item assignment",
     "output_type": "error",
     "traceback": [
      "\u001b[1;31m---------------------------------------------------------------------------\u001b[0m",
      "\u001b[1;31mTypeError\u001b[0m                                 Traceback (most recent call last)",
      "Cell \u001b[1;32mIn[4], line 1\u001b[0m\n\u001b[1;32m----> 1\u001b[0m a[\u001b[38;5;241m1\u001b[39m]\u001b[38;5;241m=\u001b[39m\u001b[38;5;124m'\u001b[39m\u001b[38;5;124my\u001b[39m\u001b[38;5;124m'\u001b[39m\n",
      "\u001b[1;31mTypeError\u001b[0m: 'str' object does not support item assignment"
     ]
    }
   ],
   "source": [
    "a[1]='y'"
   ]
  },
  {
   "cell_type": "code",
   "execution_count": 5,
   "id": "406642e2-e515-4721-8cb6-44c4eb97609e",
   "metadata": {},
   "outputs": [
    {
     "name": "stdout",
     "output_type": "stream",
     "text": [
      "def\n"
     ]
    }
   ],
   "source": [
    "b='abc'\n",
    "b='def'\n",
    "print(b)"
   ]
  },
  {
   "cell_type": "code",
   "execution_count": 6,
   "id": "d01638a0-aa19-4592-98c1-87b7e2440c43",
   "metadata": {},
   "outputs": [
    {
     "name": "stdout",
     "output_type": "stream",
     "text": [
      "pithon\n"
     ]
    }
   ],
   "source": [
    "print(a)"
   ]
  },
  {
   "cell_type": "code",
   "execution_count": 7,
   "id": "c677618c-26cf-4736-90a9-d66c400cf3c8",
   "metadata": {},
   "outputs": [
    {
     "name": "stdout",
     "output_type": "stream",
     "text": [
      "python\n"
     ]
    }
   ],
   "source": [
    "b=a[0]+'y'+a[2:]\n",
    "print(b)"
   ]
  },
  {
   "cell_type": "markdown",
   "id": "f5487f53-9372-44b6-bba5-733178baeccd",
   "metadata": {},
   "source": [
    "### 문자열 포매팅\n",
    "###### %, .format, f"
   ]
  },
  {
   "cell_type": "code",
   "execution_count": 32,
   "id": "fede7ad9-6df5-4431-9d37-34808c3032a4",
   "metadata": {},
   "outputs": [
    {
     "data": {
      "text/plain": [
       "'I eat 2 apples.'"
      ]
     },
     "execution_count": 32,
     "metadata": {},
     "output_type": "execute_result"
    }
   ],
   "source": [
    "\"I eat %d apples.\"%2"
   ]
  },
  {
   "cell_type": "code",
   "execution_count": 10,
   "id": "fd4e9ef1-fc1e-40e8-8f5e-6696b893fa3b",
   "metadata": {},
   "outputs": [
    {
     "ename": "TypeError",
     "evalue": "%d format: a real number is required, not str",
     "output_type": "error",
     "traceback": [
      "\u001b[1;31m---------------------------------------------------------------------------\u001b[0m",
      "\u001b[1;31mTypeError\u001b[0m                                 Traceback (most recent call last)",
      "Cell \u001b[1;32mIn[10], line 1\u001b[0m\n\u001b[1;32m----> 1\u001b[0m \u001b[38;5;124m\"\u001b[39m\u001b[38;5;124mI eat \u001b[39m\u001b[38;5;132;01m%d\u001b[39;00m\u001b[38;5;124m apples.\u001b[39m\u001b[38;5;124m\"\u001b[39m\u001b[38;5;241m%\u001b[39m\u001b[38;5;124m\"\u001b[39m\u001b[38;5;124mabc\u001b[39m\u001b[38;5;124m\"\u001b[39m\n",
      "\u001b[1;31mTypeError\u001b[0m: %d format: a real number is required, not str"
     ]
    }
   ],
   "source": [
    "\"I eat %d apples.\"%\"abc\""
   ]
  },
  {
   "cell_type": "code",
   "execution_count": 11,
   "id": "5b69c2cc-3f92-4c75-a3ce-6d0f88497a53",
   "metadata": {},
   "outputs": [
    {
     "data": {
      "text/plain": [
       "'I eat 5 apples.'"
      ]
     },
     "execution_count": 11,
     "metadata": {},
     "output_type": "execute_result"
    }
   ],
   "source": [
    "\"I eat %d apples.\"%5"
   ]
  },
  {
   "cell_type": "code",
   "execution_count": 2,
   "id": "0d1972f3-1bbc-4502-b9ae-f9b35036616e",
   "metadata": {},
   "outputs": [
    {
     "data": {
      "text/plain": [
       "'I eat 3 apples.'"
      ]
     },
     "execution_count": 2,
     "metadata": {},
     "output_type": "execute_result"
    }
   ],
   "source": [
    "number =3\n",
    "\"I eat %d apples.\"%number"
   ]
  },
  {
   "cell_type": "code",
   "execution_count": 14,
   "id": "3fb13c95-f004-4446-80b9-3558689008d6",
   "metadata": {},
   "outputs": [
    {
     "data": {
      "text/plain": [
       "'I ate 10 apples, so I was sick for three days.'"
      ]
     },
     "execution_count": 14,
     "metadata": {},
     "output_type": "execute_result"
    }
   ],
   "source": [
    "number=10\n",
    "day=\"three\"\n",
    "\"I ate %d apples, so I was sick for %s days.\"%(number, day)"
   ]
  },
  {
   "cell_type": "code",
   "execution_count": 17,
   "id": "cdc149e1-14ac-4e99-8a3e-fb9b517db6fc",
   "metadata": {},
   "outputs": [
    {
     "ename": "ValueError",
     "evalue": "incomplete format",
     "output_type": "error",
     "traceback": [
      "\u001b[1;31m---------------------------------------------------------------------------\u001b[0m",
      "\u001b[1;31mValueError\u001b[0m                                Traceback (most recent call last)",
      "Cell \u001b[1;32mIn[17], line 2\u001b[0m\n\u001b[0;32m      1\u001b[0m \u001b[38;5;66;03m#포맷코드와 문자%를 같이 사용\u001b[39;00m\n\u001b[1;32m----> 2\u001b[0m \u001b[38;5;124m\"\u001b[39m\u001b[38;5;124mError is \u001b[39m\u001b[38;5;132;01m%d\u001b[39;00m\u001b[38;5;124m%\u001b[39m\u001b[38;5;124m.\u001b[39m\u001b[38;5;124m\"\u001b[39m\u001b[38;5;241m%\u001b[39m\u001b[38;5;241m98\u001b[39m\n",
      "\u001b[1;31mValueError\u001b[0m: incomplete format"
     ]
    }
   ],
   "source": [
    "#포맷코드와 문자%를 같이 사용\n",
    "\"Error is %d%.\"%98"
   ]
  },
  {
   "cell_type": "code",
   "execution_count": 18,
   "id": "d963303b-5dd0-4373-adfd-0ab8c2df64e4",
   "metadata": {},
   "outputs": [
    {
     "data": {
      "text/plain": [
       "'Error is 98%.'"
      ]
     },
     "execution_count": 18,
     "metadata": {},
     "output_type": "execute_result"
    }
   ],
   "source": [
    "\"Error is %d%%.\"%98"
   ]
  },
  {
   "cell_type": "code",
   "execution_count": 19,
   "id": "3d7a6fa3-e034-466c-aa1a-424ee6f48843",
   "metadata": {},
   "outputs": [
    {
     "data": {
      "text/plain": [
       "'        hi'"
      ]
     },
     "execution_count": 19,
     "metadata": {},
     "output_type": "execute_result"
    }
   ],
   "source": [
    "\"%10s\"%\"hi\""
   ]
  },
  {
   "cell_type": "code",
   "execution_count": 21,
   "id": "49b922fa-3148-46d8-b6e2-1325282b339b",
   "metadata": {},
   "outputs": [
    {
     "data": {
      "text/plain": [
       "'        hi'"
      ]
     },
     "execution_count": 21,
     "metadata": {},
     "output_type": "execute_result"
    }
   ],
   "source": [
    "a=\"%10s\"%\"hi\"\n",
    "a"
   ]
  },
  {
   "cell_type": "code",
   "execution_count": 22,
   "id": "52fe89b7-b78a-4721-aba4-162590bae0dd",
   "metadata": {},
   "outputs": [
    {
     "data": {
      "text/plain": [
       "10"
      ]
     },
     "execution_count": 22,
     "metadata": {},
     "output_type": "execute_result"
    }
   ],
   "source": [
    "len(a)"
   ]
  },
  {
   "cell_type": "code",
   "execution_count": 26,
   "id": "d2c07e5c-3aec-4d9b-a2ff-dc1c1e68f333",
   "metadata": {},
   "outputs": [
    {
     "data": {
      "text/plain": [
       "'hi        '"
      ]
     },
     "execution_count": 26,
     "metadata": {},
     "output_type": "execute_result"
    }
   ],
   "source": [
    "a=\"%-10s\"%\"hi\"\n",
    "a"
   ]
  },
  {
   "cell_type": "code",
   "execution_count": 27,
   "id": "7de43c4f-3fa4-4edb-935e-4bc7fa3e9091",
   "metadata": {},
   "outputs": [
    {
     "data": {
      "text/plain": [
       "'3.4213'"
      ]
     },
     "execution_count": 27,
     "metadata": {},
     "output_type": "execute_result"
    }
   ],
   "source": [
    "\"%0.4f\"%3.42134234"
   ]
  },
  {
   "cell_type": "code",
   "execution_count": 28,
   "id": "23d81218-aa4f-454d-9e46-ff00432fc8f0",
   "metadata": {},
   "outputs": [
    {
     "data": {
      "text/plain": [
       "'    3.4213'"
      ]
     },
     "execution_count": 28,
     "metadata": {},
     "output_type": "execute_result"
    }
   ],
   "source": [
    "\"%10.4f\"%3.42134234"
   ]
  },
  {
   "cell_type": "code",
   "execution_count": 30,
   "id": "fd712a46-74b0-47e5-b9a1-e2cbfa91eb43",
   "metadata": {},
   "outputs": [
    {
     "data": {
      "text/plain": [
       "'    3.4213'"
      ]
     },
     "execution_count": 30,
     "metadata": {},
     "output_type": "execute_result"
    }
   ],
   "source": [
    "f=\"%10.4f\"%3.42134234\n",
    "f"
   ]
  },
  {
   "cell_type": "code",
   "execution_count": 31,
   "id": "ce187b04-8468-4242-b5ba-13cf76c42a77",
   "metadata": {},
   "outputs": [
    {
     "data": {
      "text/plain": [
       "10"
      ]
     },
     "execution_count": 31,
     "metadata": {},
     "output_type": "execute_result"
    }
   ],
   "source": [
    "len(f)"
   ]
  },
  {
   "cell_type": "code",
   "execution_count": 34,
   "id": "57d290af-b4ad-4799-b17a-60ffb017fd78",
   "metadata": {},
   "outputs": [
    {
     "data": {
      "text/plain": [
       "'I eat 3 apples.'"
      ]
     },
     "execution_count": 34,
     "metadata": {},
     "output_type": "execute_result"
    }
   ],
   "source": [
    "\"I eat {} apples.\".format(3)"
   ]
  },
  {
   "cell_type": "code",
   "execution_count": 35,
   "id": "83ac8bac-ba7c-4c96-a817-71b7385995d6",
   "metadata": {},
   "outputs": [
    {
     "data": {
      "text/plain": [
       "'I eat five apples.'"
      ]
     },
     "execution_count": 35,
     "metadata": {},
     "output_type": "execute_result"
    }
   ],
   "source": [
    "\"I eat {} apples.\".format(\"five\")"
   ]
  },
  {
   "cell_type": "code",
   "execution_count": 36,
   "id": "9f1d758d-e5f6-438f-9225-504bb9341f95",
   "metadata": {},
   "outputs": [
    {
     "data": {
      "text/plain": [
       "'I eat 3 apples.'"
      ]
     },
     "execution_count": 36,
     "metadata": {},
     "output_type": "execute_result"
    }
   ],
   "source": [
    "number=3\n",
    "\"I eat {} apples.\".format(number)"
   ]
  },
  {
   "cell_type": "code",
   "execution_count": 39,
   "id": "a5bc1100-3e82-491b-91a4-30bed1846a13",
   "metadata": {},
   "outputs": [
    {
     "data": {
      "text/plain": [
       "'I eat 3 apples, So I was sick for five days.'"
      ]
     },
     "execution_count": 39,
     "metadata": {},
     "output_type": "execute_result"
    }
   ],
   "source": [
    "\"I eat {} apples, So I was sick for {} days.\".format(3,\"five\")"
   ]
  },
  {
   "cell_type": "code",
   "execution_count": 40,
   "id": "c49680a7-45a1-49e0-9a13-fed0f1890b22",
   "metadata": {},
   "outputs": [
    {
     "data": {
      "text/plain": [
       "'I eat five apples, So I was sick for 3 days.'"
      ]
     },
     "execution_count": 40,
     "metadata": {},
     "output_type": "execute_result"
    }
   ],
   "source": [
    "\"I eat {1} apples, So I was sick for {0} days.\".format(3,\"five\")"
   ]
  },
  {
   "cell_type": "code",
   "execution_count": 42,
   "id": "720a3a8d-610d-4f19-bc4f-ade7673f5300",
   "metadata": {},
   "outputs": [
    {
     "data": {
      "text/plain": [
       "'I eat 11 apples, So I was sick for 3 days.'"
      ]
     },
     "execution_count": 42,
     "metadata": {},
     "output_type": "execute_result"
    }
   ],
   "source": [
    "number=11\n",
    "day=3\n",
    "\n",
    "\"I eat {} apples, So I was sick for {} days.\".format(number, day)"
   ]
  },
  {
   "cell_type": "code",
   "execution_count": 44,
   "id": "6fa68d0c-ff0c-490a-9d03-888ee477876c",
   "metadata": {},
   "outputs": [
    {
     "data": {
      "text/plain": [
       "'I eat 11 apples, So I was sick for 3 days.'"
      ]
     },
     "execution_count": 44,
     "metadata": {},
     "output_type": "execute_result"
    }
   ],
   "source": [
    "number=11\n",
    "day=3\n",
    "\n",
    "\"I eat {number} apples, So I was sick for {day} days.\".format(number=number, day=day)"
   ]
  },
  {
   "cell_type": "code",
   "execution_count": 45,
   "id": "b13bdbdb-759a-48bf-9c1e-1c6b21cb0a18",
   "metadata": {},
   "outputs": [
    {
     "data": {
      "text/plain": [
       "'hi        '"
      ]
     },
     "execution_count": 45,
     "metadata": {},
     "output_type": "execute_result"
    }
   ],
   "source": [
    "\"{:10}\".format('hi')"
   ]
  },
  {
   "cell_type": "code",
   "execution_count": 47,
   "id": "3e225faf-f704-41ce-88f3-dcb45900dfa4",
   "metadata": {},
   "outputs": [
    {
     "data": {
      "text/plain": [
       "'        hi'"
      ]
     },
     "execution_count": 47,
     "metadata": {},
     "output_type": "execute_result"
    }
   ],
   "source": [
    "\"{:>10}\".format('hi')"
   ]
  },
  {
   "cell_type": "code",
   "execution_count": 48,
   "id": "6e99538e-6e7f-475d-8ae0-23ed52e54bc3",
   "metadata": {},
   "outputs": [
    {
     "data": {
      "text/plain": [
       "'    hi    '"
      ]
     },
     "execution_count": 48,
     "metadata": {},
     "output_type": "execute_result"
    }
   ],
   "source": [
    "\"{:^10}\".format('hi')"
   ]
  },
  {
   "cell_type": "code",
   "execution_count": 50,
   "id": "a9b9d6b3-0749-4907-9ff9-a5fff7289b78",
   "metadata": {},
   "outputs": [
    {
     "data": {
      "text/plain": [
       "'hi||||||||'"
      ]
     },
     "execution_count": 50,
     "metadata": {},
     "output_type": "execute_result"
    }
   ],
   "source": [
    "\"{:|<10}\".format('hi')"
   ]
  },
  {
   "cell_type": "code",
   "execution_count": 51,
   "id": "2622671f-128b-406d-9844-1f7fd0b731d9",
   "metadata": {},
   "outputs": [
    {
     "data": {
      "text/plain": [
       "'3.451'"
      ]
     },
     "execution_count": 51,
     "metadata": {},
     "output_type": "execute_result"
    }
   ],
   "source": [
    "\"{:0.4}\".format(3.4512545)"
   ]
  },
  {
   "cell_type": "code",
   "execution_count": 52,
   "id": "f89569b7-9fc4-44ad-9731-1feb42069d9a",
   "metadata": {},
   "outputs": [
    {
     "data": {
      "text/plain": [
       "'     3.451'"
      ]
     },
     "execution_count": 52,
     "metadata": {},
     "output_type": "execute_result"
    }
   ],
   "source": [
    "\"{:10.4}\".format(3.4512545)"
   ]
  },
  {
   "cell_type": "code",
   "execution_count": 54,
   "id": "1b1df1ba-5e57-4033-a04c-9bd94252a569",
   "metadata": {},
   "outputs": [
    {
     "data": {
      "text/plain": [
       "'{and}'"
      ]
     },
     "execution_count": 54,
     "metadata": {},
     "output_type": "execute_result"
    }
   ],
   "source": [
    "\"{{and}}\".format()"
   ]
  },
  {
   "cell_type": "code",
   "execution_count": 55,
   "id": "85dd3f4a-569d-49c0-a7b7-bebbd2a51a89",
   "metadata": {},
   "outputs": [
    {
     "data": {
      "text/plain": [
       "'and'"
      ]
     },
     "execution_count": 55,
     "metadata": {},
     "output_type": "execute_result"
    }
   ],
   "source": [
    "\"{}\".format(\"and\")"
   ]
  },
  {
   "cell_type": "code",
   "execution_count": 56,
   "id": "9ecde338-c7df-4764-8c24-28154fe4cb59",
   "metadata": {},
   "outputs": [
    {
     "data": {
      "text/plain": [
       "'나의 이름은 김태연입니다. 나이는 24입니다.'"
      ]
     },
     "execution_count": 56,
     "metadata": {},
     "output_type": "execute_result"
    }
   ],
   "source": [
    "name='김태연'\n",
    "age= 24\n",
    "f\"나의 이름은 {name}입니다. 나이는 {age}입니다.\""
   ]
  },
  {
   "cell_type": "code",
   "execution_count": 59,
   "id": "2c8aa5c4-e7be-48ef-9167-0b8d146397f1",
   "metadata": {},
   "outputs": [
    {
     "data": {
      "text/plain": [
       "'나는 내년에 25살이 됩니다.'"
      ]
     },
     "execution_count": 59,
     "metadata": {},
     "output_type": "execute_result"
    }
   ],
   "source": [
    "age=24\n",
    "f\"나는 내년에 {age+1}살이 됩니다.\""
   ]
  },
  {
   "cell_type": "code",
   "execution_count": 62,
   "id": "1f37b516-4f8f-48e7-bcbe-714e6fd2760e",
   "metadata": {},
   "outputs": [
    {
     "data": {
      "text/plain": [
       "'나의 이름은 김태연입니다. 나이는 24입니다.'"
      ]
     },
     "execution_count": 62,
     "metadata": {},
     "output_type": "execute_result"
    }
   ],
   "source": [
    "d={'name': '김태연', 'age':24}\n",
    "f\"나의 이름은 {d['name']}입니다. 나이는 {d['age']}입니다.\""
   ]
  },
  {
   "cell_type": "code",
   "execution_count": 64,
   "id": "2c3235ca-abc6-4034-ac73-9cca653b7760",
   "metadata": {},
   "outputs": [
    {
     "data": {
      "text/plain": [
       "'hi        '"
      ]
     },
     "execution_count": 64,
     "metadata": {},
     "output_type": "execute_result"
    }
   ],
   "source": [
    "f\"{\"hi\":10}\""
   ]
  },
  {
   "cell_type": "code",
   "execution_count": 65,
   "id": "1d660089-f6df-4ca7-b370-f1aee3de2fa3",
   "metadata": {},
   "outputs": [
    {
     "data": {
      "text/plain": [
       "'    hi    '"
      ]
     },
     "execution_count": 65,
     "metadata": {},
     "output_type": "execute_result"
    }
   ],
   "source": [
    "f\"{\"hi\":^10}\""
   ]
  },
  {
   "cell_type": "code",
   "execution_count": 66,
   "id": "c14c4ce6-0a5e-4f00-9d7c-090febb17185",
   "metadata": {},
   "outputs": [
    {
     "data": {
      "text/plain": [
       "'        hi'"
      ]
     },
     "execution_count": 66,
     "metadata": {},
     "output_type": "execute_result"
    }
   ],
   "source": [
    "f\"{\"hi\":>10}\""
   ]
  },
  {
   "cell_type": "code",
   "execution_count": 68,
   "id": "4a3504be-4149-49a3-89b4-3399593b1af8",
   "metadata": {},
   "outputs": [
    {
     "name": "stdout",
     "output_type": "stream",
     "text": [
      "====hi====\n",
      "||||||||hi\n"
     ]
    }
   ],
   "source": [
    "print(f\"{\"hi\":=^10}\")\n",
    "print(f\"{\"hi\":|>10}\")"
   ]
  },
  {
   "cell_type": "code",
   "execution_count": 69,
   "id": "130a9281-e534-4584-adf6-eb39013cb421",
   "metadata": {},
   "outputs": [
    {
     "data": {
      "text/plain": [
       "'3.421'"
      ]
     },
     "execution_count": 69,
     "metadata": {},
     "output_type": "execute_result"
    }
   ],
   "source": [
    "f\"{3.4212342:0.4}\""
   ]
  },
  {
   "cell_type": "code",
   "execution_count": 70,
   "id": "9bc267ae-987e-4b90-8c72-87e3bab61247",
   "metadata": {},
   "outputs": [
    {
     "data": {
      "text/plain": [
       "'     3.421'"
      ]
     },
     "execution_count": 70,
     "metadata": {},
     "output_type": "execute_result"
    }
   ],
   "source": [
    "f\"{3.4212342:10.4}\""
   ]
  },
  {
   "cell_type": "code",
   "execution_count": 71,
   "id": "b272c075-657b-4d93-bab6-adb3fb6a6b79",
   "metadata": {},
   "outputs": [
    {
     "data": {
      "text/plain": [
       "'{and}'"
      ]
     },
     "execution_count": 71,
     "metadata": {},
     "output_type": "execute_result"
    }
   ],
   "source": [
    "f\"{{and}}\""
   ]
  },
  {
   "cell_type": "markdown",
   "id": "e9b29224-9f0f-4dff-878a-36eca7974535",
   "metadata": {},
   "source": [
    "## 문자열 관련 함수들"
   ]
  },
  {
   "cell_type": "code",
   "execution_count": 74,
   "id": "ee3b4417-efb2-473b-b809-5ad4adfe5ea2",
   "metadata": {},
   "outputs": [
    {
     "data": {
      "text/plain": [
       "2"
      ]
     },
     "execution_count": 74,
     "metadata": {},
     "output_type": "execute_result"
    }
   ],
   "source": [
    "# count() : 문자 개수 세기\n",
    "\"hobby\".count('b')"
   ]
  },
  {
   "cell_type": "code",
   "execution_count": 77,
   "id": "88a9077d-49d5-4f6f-9083-65217b2476c3",
   "metadata": {},
   "outputs": [
    {
     "data": {
      "text/plain": [
       "4"
      ]
     },
     "execution_count": 77,
     "metadata": {},
     "output_type": "execute_result"
    }
   ],
   "source": [
    "'I eat 11 apples, So I was sick for 3 days.'.count('s')\n",
    "#문자 개수 셀 때 대문자, 소문자의 차이가 있는 건가?"
   ]
  },
  {
   "cell_type": "code",
   "execution_count": 78,
   "id": "e0821f6f-664a-4fa7-a938-d37c836c5e53",
   "metadata": {},
   "outputs": [],
   "source": [
    "#find() : 위치찾기"
   ]
  },
  {
   "cell_type": "code",
   "execution_count": 79,
   "id": "73b448d1-cf26-4899-8ade-dd5cf2334473",
   "metadata": {},
   "outputs": [
    {
     "data": {
      "text/plain": [
       "14"
      ]
     },
     "execution_count": 79,
     "metadata": {},
     "output_type": "execute_result"
    }
   ],
   "source": [
    "\"Python is the best choice\".find('b')"
   ]
  },
  {
   "cell_type": "code",
   "execution_count": 81,
   "id": "ffe0e2a9-cf2e-4648-9baf-74128fc667a3",
   "metadata": {},
   "outputs": [
    {
     "data": {
      "text/plain": [
       "-1"
      ]
     },
     "execution_count": 81,
     "metadata": {},
     "output_type": "execute_result"
    }
   ],
   "source": [
    "\"Python is the best choice\".find('k')\n",
    "# 찾는 문자가 없다면 -1로 반환한다."
   ]
  },
  {
   "cell_type": "code",
   "execution_count": 84,
   "id": "b4816d44-d73b-40ab-b545-8aa20b31e1f7",
   "metadata": {},
   "outputs": [
    {
     "data": {
      "text/plain": [
       "8"
      ]
     },
     "execution_count": 84,
     "metadata": {},
     "output_type": "execute_result"
    }
   ],
   "source": [
    "#index(): 위치찾기2 수는 무조건 0부터 시작.\n",
    "a=\"Life is too short\"\n",
    "a.index('t')"
   ]
  },
  {
   "cell_type": "code",
   "execution_count": 85,
   "id": "87c7212b-85bc-4ef9-b239-051594a30f54",
   "metadata": {},
   "outputs": [
    {
     "ename": "ValueError",
     "evalue": "substring not found",
     "output_type": "error",
     "traceback": [
      "\u001b[1;31m---------------------------------------------------------------------------\u001b[0m",
      "\u001b[1;31mValueError\u001b[0m                                Traceback (most recent call last)",
      "Cell \u001b[1;32mIn[85], line 1\u001b[0m\n\u001b[1;32m----> 1\u001b[0m a\u001b[38;5;241m.\u001b[39mindex(\u001b[38;5;124m'\u001b[39m\u001b[38;5;124mk\u001b[39m\u001b[38;5;124m'\u001b[39m)\n",
      "\u001b[1;31mValueError\u001b[0m: substring not found"
     ]
    }
   ],
   "source": [
    "a.index('k')"
   ]
  },
  {
   "cell_type": "code",
   "execution_count": 87,
   "id": "11781d11-1813-4f77-b2e3-64c89b35fbd4",
   "metadata": {},
   "outputs": [
    {
     "data": {
      "text/plain": [
       "'a,b,c,d'"
      ]
     },
     "execution_count": 87,
     "metadata": {},
     "output_type": "execute_result"
    }
   ],
   "source": [
    "# join() : 문자열 삽임.\n",
    "\",\".join('abcd')"
   ]
  },
  {
   "cell_type": "code",
   "execution_count": 92,
   "id": "eeeba8b3-adef-47ce-a4be-7884e4f56c86",
   "metadata": {},
   "outputs": [
    {
     "name": "stdout",
     "output_type": "stream",
     "text": [
      "['a', 'b', 'c', 'd']\n",
      "<class 'list'>\n"
     ]
    }
   ],
   "source": [
    "list = ['a', 'b', 'c', 'd']\n",
    "print(list)\n",
    "print(type(list))"
   ]
  },
  {
   "cell_type": "code",
   "execution_count": 100,
   "id": "42ac7496-abd4-4a7e-9ade-abb308871f27",
   "metadata": {},
   "outputs": [
    {
     "data": {
      "text/plain": [
       "'abcd'"
      ]
     },
     "execution_count": 100,
     "metadata": {},
     "output_type": "execute_result"
    }
   ],
   "source": [
    "\"\".join(list)"
   ]
  },
  {
   "cell_type": "code",
   "execution_count": 93,
   "id": "f5ae9347-8493-4b65-91cf-deb16f54ee5f",
   "metadata": {},
   "outputs": [
    {
     "name": "stdout",
     "output_type": "stream",
     "text": [
      "a,b,c,d\n",
      "<class 'str'>\n"
     ]
    }
   ],
   "source": [
    "list_join=','.join(list)\n",
    "print(list_join)\n",
    "print(type(list_join))"
   ]
  },
  {
   "cell_type": "code",
   "execution_count": 94,
   "id": "2a7b29dc-eb34-488a-a368-cb4ad1252262",
   "metadata": {},
   "outputs": [
    {
     "data": {
      "text/plain": [
       "'HI'"
      ]
     },
     "execution_count": 94,
     "metadata": {},
     "output_type": "execute_result"
    }
   ],
   "source": [
    "#upper() :소문자를 대문자로\n",
    "\"hi\".upper()"
   ]
  },
  {
   "cell_type": "code",
   "execution_count": 95,
   "id": "6333a7dd-ac7e-488b-b5bf-3124a74a8167",
   "metadata": {},
   "outputs": [
    {
     "data": {
      "text/plain": [
       "'hi'"
      ]
     },
     "execution_count": 95,
     "metadata": {},
     "output_type": "execute_result"
    }
   ],
   "source": [
    "#lower() :대문자를 소문자로\n",
    "\"HI\".lower()"
   ]
  },
  {
   "cell_type": "code",
   "execution_count": 97,
   "id": "d09c5196-0417-40f6-8419-35d60327d62c",
   "metadata": {},
   "outputs": [
    {
     "data": {
      "text/plain": [
       "'hi   '"
      ]
     },
     "execution_count": 97,
     "metadata": {},
     "output_type": "execute_result"
    }
   ],
   "source": [
    "#lstrip() : 왼쪽 공백 제거\n",
    "\"   hi   \".lstrip()"
   ]
  },
  {
   "cell_type": "code",
   "execution_count": 98,
   "id": "2dc1b230-2310-4e50-8a2e-8287ce9d1fd4",
   "metadata": {},
   "outputs": [
    {
     "data": {
      "text/plain": [
       "'   hi'"
      ]
     },
     "execution_count": 98,
     "metadata": {},
     "output_type": "execute_result"
    }
   ],
   "source": [
    "#rstrip() : 오른쪽 공백 제거\n",
    "\"   hi   \".rstrip()"
   ]
  },
  {
   "cell_type": "code",
   "execution_count": 99,
   "id": "36c3fafb-b92c-46aa-abc3-38401e8fa7ec",
   "metadata": {},
   "outputs": [
    {
     "data": {
      "text/plain": [
       "'hi'"
      ]
     },
     "execution_count": 99,
     "metadata": {},
     "output_type": "execute_result"
    }
   ],
   "source": [
    "#strip() : 양쪽 공백 제거\n",
    "\"   hi   \".strip()"
   ]
  },
  {
   "cell_type": "code",
   "execution_count": 101,
   "id": "816c7e6c-a14f-4dcd-b558-ea936f5d27ec",
   "metadata": {},
   "outputs": [
    {
     "data": {
      "text/plain": [
       "'Your leg is too short'"
      ]
     },
     "execution_count": 101,
     "metadata": {},
     "output_type": "execute_result"
    }
   ],
   "source": [
    "# replace() : 문자열 바꾸기\n",
    "\"Life is too short\".replace(\"Life\", \"Your leg\")"
   ]
  },
  {
   "cell_type": "code",
   "execution_count": 104,
   "id": "fc79fc9b-ecaf-4b2d-8d1b-cb8625de7de5",
   "metadata": {},
   "outputs": [
    {
     "name": "stdout",
     "output_type": "stream",
     "text": [
      "['Life', 'is', 'too', 'short']\n",
      "<class 'str'>\n"
     ]
    }
   ],
   "source": [
    "#split() : 문자열 나누기\n",
    "a=\"Life is too short\"\n",
    "b=a.split()\n",
    "\n",
    "print(b)\n",
    "print(type(a))"
   ]
  },
  {
   "cell_type": "code",
   "execution_count": 105,
   "id": "a0dbcef9-982a-46e9-94d2-f4b1e3c851f6",
   "metadata": {},
   "outputs": [
    {
     "data": {
      "text/plain": [
       "['a', 'b', 'c', 'd']"
      ]
     },
     "execution_count": 105,
     "metadata": {},
     "output_type": "execute_result"
    }
   ],
   "source": [
    "c=\"a,b,c,d\"\n",
    "c.split(',')"
   ]
  },
  {
   "cell_type": "code",
   "execution_count": 107,
   "id": "1451d984-64aa-485d-9253-75c31d5b41d8",
   "metadata": {},
   "outputs": [
    {
     "data": {
      "text/plain": [
       "'HI'"
      ]
     },
     "execution_count": 107,
     "metadata": {},
     "output_type": "execute_result"
    }
   ],
   "source": [
    "a=\"hi\"\n",
    "a.upper()"
   ]
  },
  {
   "cell_type": "code",
   "execution_count": 109,
   "id": "f6e7ed93-2c8d-41e1-851e-b307c911d28f",
   "metadata": {},
   "outputs": [
    {
     "data": {
      "text/plain": [
       "'hi'"
      ]
     },
     "execution_count": 109,
     "metadata": {},
     "output_type": "execute_result"
    }
   ],
   "source": [
    "a         #원본은 변화 없음. "
   ]
  },
  {
   "cell_type": "code",
   "execution_count": 114,
   "id": "db20d870-1c49-4653-90c6-100371833123",
   "metadata": {},
   "outputs": [
    {
     "data": {
      "text/plain": [
       "'HI'"
      ]
     },
     "execution_count": 114,
     "metadata": {},
     "output_type": "execute_result"
    }
   ],
   "source": [
    "a=a.upper()    #원본 변환법.\n",
    "a"
   ]
  },
  {
   "cell_type": "code",
   "execution_count": null,
   "id": "33cfff68-a5e4-4b68-9b1a-86cabdf2b6aa",
   "metadata": {},
   "outputs": [],
   "source": []
  }
 ],
 "metadata": {
  "kernelspec": {
   "display_name": "Python [conda env:base] *",
   "language": "python",
   "name": "conda-base-py"
  },
  "language_info": {
   "codemirror_mode": {
    "name": "ipython",
    "version": 3
   },
   "file_extension": ".py",
   "mimetype": "text/x-python",
   "name": "python",
   "nbconvert_exporter": "python",
   "pygments_lexer": "ipython3",
   "version": "3.13.5"
  },
  "widgets": {
   "application/vnd.jupyter.widget-state+json": {
    "state": {},
    "version_major": 2,
    "version_minor": 0
   }
  }
 },
 "nbformat": 4,
 "nbformat_minor": 5
}
