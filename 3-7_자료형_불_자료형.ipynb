{
 "cells": [
  {
   "cell_type": "markdown",
   "id": "cd48f016-bcfa-4649-96fe-4a034a318e0c",
   "metadata": {},
   "source": [
    "## 3-7_자료형_불_자료형"
   ]
  },
  {
   "cell_type": "code",
   "execution_count": 1,
   "id": "dc124bf3-fb43-4e54-b5f7-1c9309f9495a",
   "metadata": {},
   "outputs": [
    {
     "name": "stdout",
     "output_type": "stream",
     "text": [
      "True False\n"
     ]
    }
   ],
   "source": [
    "#변수에 불 자료형 지정\n",
    "a= True\n",
    "b= False\n",
    "print(a, b)"
   ]
  },
  {
   "cell_type": "code",
   "execution_count": 2,
   "id": "53bc0c48-ca33-4b9b-9f63-cd2e4b94d0ba",
   "metadata": {},
   "outputs": [
    {
     "data": {
      "text/plain": [
       "bool"
      ]
     },
     "execution_count": 2,
     "metadata": {},
     "output_type": "execute_result"
    }
   ],
   "source": [
    "type(a)"
   ]
  },
  {
   "cell_type": "code",
   "execution_count": 3,
   "id": "e69b1d44-ebfe-4d34-8e26-21deba3bb057",
   "metadata": {},
   "outputs": [
    {
     "data": {
      "text/plain": [
       "bool"
      ]
     },
     "execution_count": 3,
     "metadata": {},
     "output_type": "execute_result"
    }
   ],
   "source": [
    "type(b)"
   ]
  },
  {
   "cell_type": "code",
   "execution_count": 4,
   "id": "1de09c12-55d3-49a9-871e-99a9d5cf840d",
   "metadata": {},
   "outputs": [
    {
     "data": {
      "text/plain": [
       "True"
      ]
     },
     "execution_count": 4,
     "metadata": {},
     "output_type": "execute_result"
    }
   ],
   "source": [
    "# 불 자료형은 조건문의 리터값으로 사용합니다.\n",
    "1 == 1"
   ]
  },
  {
   "cell_type": "code",
   "execution_count": 5,
   "id": "31343956-3855-4995-88c7-6723fed93f06",
   "metadata": {},
   "outputs": [
    {
     "data": {
      "text/plain": [
       "False"
      ]
     },
     "execution_count": 5,
     "metadata": {},
     "output_type": "execute_result"
    }
   ],
   "source": [
    "1 == 2"
   ]
  },
  {
   "cell_type": "code",
   "execution_count": 6,
   "id": "9ce64e40-d4fb-428b-851d-b5c1b296a134",
   "metadata": {},
   "outputs": [
    {
     "data": {
      "text/plain": [
       "False"
      ]
     },
     "execution_count": 6,
     "metadata": {},
     "output_type": "execute_result"
    }
   ],
   "source": [
    "2>10"
   ]
  },
  {
   "cell_type": "code",
   "execution_count": 7,
   "id": "98e0c916-af99-495d-b452-83ed4a9179c1",
   "metadata": {},
   "outputs": [
    {
     "data": {
      "text/plain": [
       "True"
      ]
     },
     "execution_count": 7,
     "metadata": {},
     "output_type": "execute_result"
    }
   ],
   "source": [
    "20>10"
   ]
  },
  {
   "cell_type": "markdown",
   "id": "1980297f-a93b-4c33-a2a7-d8a556c2a5a9",
   "metadata": {},
   "source": [
    "#### 자료형의  참, 거짓 쓰임새"
   ]
  },
  {
   "cell_type": "code",
   "execution_count": 9,
   "id": "60199328-3f41-4ea1-9f73-28bc011cd387",
   "metadata": {},
   "outputs": [
    {
     "name": "stdout",
     "output_type": "stream",
     "text": [
      "4\n",
      "3\n",
      "2\n",
      "1\n"
     ]
    }
   ],
   "source": [
    "a=[1,2,3,4]\n",
    "while a:\n",
    "    print(a.pop())"
   ]
  },
  {
   "cell_type": "code",
   "execution_count": 10,
   "id": "b1adc89c-332c-47d8-8835-d3af97cf4a6e",
   "metadata": {},
   "outputs": [
    {
     "data": {
      "text/plain": [
       "[]"
      ]
     },
     "execution_count": 10,
     "metadata": {},
     "output_type": "execute_result"
    }
   ],
   "source": [
    "a"
   ]
  },
  {
   "cell_type": "code",
   "execution_count": 12,
   "id": "d583f16c-2628-4490-a48a-1596ad26fa33",
   "metadata": {},
   "outputs": [
    {
     "data": {
      "text/plain": [
       "False"
      ]
     },
     "execution_count": 12,
     "metadata": {},
     "output_type": "execute_result"
    }
   ],
   "source": [
    "bool(a)  #아무것도 없기 떄문에 False"
   ]
  },
  {
   "cell_type": "code",
   "execution_count": 13,
   "id": "253e9e06-4ce8-4653-b642-0da1c5b10dae",
   "metadata": {},
   "outputs": [
    {
     "name": "stdout",
     "output_type": "stream",
     "text": [
      "거짓\n"
     ]
    }
   ],
   "source": [
    "if []:\n",
    "    print('참')\n",
    "else:\n",
    "    print('거짓')"
   ]
  },
  {
   "cell_type": "code",
   "execution_count": 14,
   "id": "e629e7e4-4b68-4fd5-9d95-a0c300533878",
   "metadata": {},
   "outputs": [
    {
     "name": "stdout",
     "output_type": "stream",
     "text": [
      "참\n"
     ]
    }
   ],
   "source": [
    "if [1,2,3]:\n",
    "    print('참')\n",
    "else:\n",
    "    print('거짓')"
   ]
  },
  {
   "cell_type": "markdown",
   "id": "51ac6168-54ed-4fc8-b5fc-b1a9a9e59ca4",
   "metadata": {},
   "source": [
    "#### 3. 불 연산 - bool()"
   ]
  },
  {
   "cell_type": "code",
   "execution_count": 15,
   "id": "79b21e95-29fc-492a-aa37-b20bda256c32",
   "metadata": {},
   "outputs": [
    {
     "name": "stdout",
     "output_type": "stream",
     "text": [
      "False\n",
      "True\n",
      "False\n",
      "True\n",
      "False\n",
      "True\n"
     ]
    }
   ],
   "source": [
    "# bool() True인지 False인지 식별해주는 함수.\n",
    "print(bool('')) #False\n",
    "print(bool('aaa')) #True\n",
    "print(bool([])) #False\n",
    "print(bool([1, 2])) #True\n",
    "print(bool({})) #False\n",
    "print(bool({'a' : 1, 'b' : 2})) #True"
   ]
  },
  {
   "cell_type": "code",
   "execution_count": null,
   "id": "41cb6034-91d2-497f-84c9-2fcca28689db",
   "metadata": {},
   "outputs": [],
   "source": []
  }
 ],
 "metadata": {
  "kernelspec": {
   "display_name": "Python [conda env:base] *",
   "language": "python",
   "name": "conda-base-py"
  },
  "language_info": {
   "codemirror_mode": {
    "name": "ipython",
    "version": 3
   },
   "file_extension": ".py",
   "mimetype": "text/x-python",
   "name": "python",
   "nbconvert_exporter": "python",
   "pygments_lexer": "ipython3",
   "version": "3.13.5"
  },
  "widgets": {
   "application/vnd.jupyter.widget-state+json": {
    "state": {},
    "version_major": 2,
    "version_minor": 0
   }
  }
 },
 "nbformat": 4,
 "nbformat_minor": 5
}
