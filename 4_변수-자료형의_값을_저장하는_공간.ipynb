{
 "cells": [
  {
   "cell_type": "markdown",
   "id": "dd912903-85f8-4b6c-8257-0c18a9fe1201",
   "metadata": {},
   "source": [
    "## 4_변수_자료형의 값을 저장하는 공간"
   ]
  },
  {
   "cell_type": "markdown",
   "id": "7ef2024f-d8cf-4c09-838d-8f36af8a7d9f",
   "metadata": {},
   "source": [
    "#### 1. 변수란?"
   ]
  },
  {
   "cell_type": "code",
   "execution_count": 2,
   "id": "af05122a-4e8c-49c2-834e-1df6ce679d3e",
   "metadata": {},
   "outputs": [
    {
     "name": "stdout",
     "output_type": "stream",
     "text": [
      "2825700806400\n"
     ]
    }
   ],
   "source": [
    "a = [1, 2, 3]\n",
    "print(id(a))"
   ]
  },
  {
   "cell_type": "markdown",
   "id": "ffd8e1b3-4509-4259-9a66-833722e1dfaa",
   "metadata": {},
   "source": [
    "#### 2. 리스트 복사"
   ]
  },
  {
   "cell_type": "code",
   "execution_count": 3,
   "id": "f4541280-081b-44e1-8cca-ddf4f223f0db",
   "metadata": {},
   "outputs": [
    {
     "name": "stdout",
     "output_type": "stream",
     "text": [
      "[1, 2, 3]\n"
     ]
    }
   ],
   "source": [
    "b = a\n",
    "print(b)"
   ]
  },
  {
   "cell_type": "code",
   "execution_count": 4,
   "id": "a065f0ef-e728-4fd7-8fd8-30d4d6e68888",
   "metadata": {},
   "outputs": [
    {
     "name": "stdout",
     "output_type": "stream",
     "text": [
      "2825700806400\n",
      "2825700806400\n"
     ]
    }
   ],
   "source": [
    "print(id(a))\n",
    "print(id(b))"
   ]
  },
  {
   "cell_type": "code",
   "execution_count": 5,
   "id": "19050ed6-1db7-4f18-b198-b0d523e5bc3b",
   "metadata": {},
   "outputs": [
    {
     "name": "stdout",
     "output_type": "stream",
     "text": [
      "[1, 4, 3]\n"
     ]
    }
   ],
   "source": [
    "a[1] = 4      #a만 변경해도 b까지 같이 변경됨. (같은 메모리 주소)\n",
    "print(a)"
   ]
  },
  {
   "cell_type": "code",
   "execution_count": 6,
   "id": "a82c90f4-7dc1-4358-b5f1-4c22e81d5d93",
   "metadata": {},
   "outputs": [
    {
     "name": "stdout",
     "output_type": "stream",
     "text": [
      "[1, 4, 3]\n"
     ]
    }
   ],
   "source": [
    "print(b)"
   ]
  },
  {
   "cell_type": "code",
   "execution_count": 8,
   "id": "085af149-0859-49e8-948a-cb7c6896c9b0",
   "metadata": {},
   "outputs": [
    {
     "name": "stdout",
     "output_type": "stream",
     "text": [
      "True\n"
     ]
    }
   ],
   "source": [
    "print(a is b)     #동일한 객체를 가리키는지 판단하는 명령어 'is'"
   ]
  },
  {
   "cell_type": "markdown",
   "id": "971a5b86-cb91-4043-9b9d-1a889156cbe4",
   "metadata": {},
   "source": [
    "#### 2. b변수를 생성할 때 a의 값을 가져오면서 a와는 다른 주소를 가리키도록 만들 수는 없을까?"
   ]
  },
  {
   "cell_type": "code",
   "execution_count": 13,
   "id": "f478573e-70d7-48a6-bbc5-9ec55949e7e4",
   "metadata": {},
   "outputs": [
    {
     "name": "stdout",
     "output_type": "stream",
     "text": [
      "[1, 4, 3]\n"
     ]
    }
   ],
   "source": [
    "# [:] 이용하기\n",
    "a = [1,2,3]\n",
    "b = a [:]\n",
    "a[1] = 4\n",
    "print(a)"
   ]
  },
  {
   "cell_type": "code",
   "execution_count": 16,
   "id": "e3b09db9-8861-4416-830f-3eef30a8967d",
   "metadata": {},
   "outputs": [
    {
     "name": "stdout",
     "output_type": "stream",
     "text": [
      "[1, 2, 3]\n"
     ]
    }
   ],
   "source": [
    "print(b)"
   ]
  },
  {
   "cell_type": "code",
   "execution_count": 17,
   "id": "8af1071a-1ef6-49b4-b82a-a687c61b7ecc",
   "metadata": {},
   "outputs": [
    {
     "name": "stdout",
     "output_type": "stream",
     "text": [
      "2825701219328\n",
      "2825701222592\n"
     ]
    }
   ],
   "source": [
    "print(id(a))\n",
    "print(id(b))"
   ]
  },
  {
   "cell_type": "code",
   "execution_count": 19,
   "id": "cf39f843-9056-4372-b6dc-7bb1e432e003",
   "metadata": {},
   "outputs": [
    {
     "name": "stdout",
     "output_type": "stream",
     "text": [
      "[1, 2, 3]\n"
     ]
    }
   ],
   "source": [
    "# copy모듈 이용하기\n",
    "from copy import copy\n",
    "a = [1, 2, 3]    #a의 값이 b에 복사되어 들어간다.\n",
    "b = copy(a)\n",
    "print(b)"
   ]
  },
  {
   "cell_type": "code",
   "execution_count": 20,
   "id": "15bbc07b-85da-460d-a38e-363ab0c260b4",
   "metadata": {},
   "outputs": [
    {
     "name": "stdout",
     "output_type": "stream",
     "text": [
      "False\n"
     ]
    }
   ],
   "source": [
    "print (b is a)"
   ]
  },
  {
   "cell_type": "code",
   "execution_count": 21,
   "id": "32f281df-0631-42d9-8519-9a7c6bcadd85",
   "metadata": {},
   "outputs": [
    {
     "name": "stdout",
     "output_type": "stream",
     "text": [
      "[1, 2, 5]\n",
      "[1, 2, 3]\n",
      "2825701647168\n",
      "2825701638464\n"
     ]
    }
   ],
   "source": [
    "a[2] = 5\n",
    "print(a)\n",
    "print(b)\n",
    "print(id(a))\n",
    "print(id(b))"
   ]
  },
  {
   "cell_type": "code",
   "execution_count": 25,
   "id": "d01a2e82-dccc-48e1-adb9-69305ba37939",
   "metadata": {},
   "outputs": [
    {
     "name": "stdout",
     "output_type": "stream",
     "text": [
      "False\n"
     ]
    }
   ],
   "source": [
    "# 리스트의 copy 함수 이용\n",
    "a = [1, 2, 3]\n",
    "b = a.copy() \n",
    "print(b is a)"
   ]
  },
  {
   "cell_type": "markdown",
   "id": "22fff3d7-6616-4a22-92bc-c4d82c04a31f",
   "metadata": {},
   "source": [
    "#### 3. 변수를 만드는 여러가지 방법"
   ]
  },
  {
   "cell_type": "code",
   "execution_count": 26,
   "id": "ab53b621-ae42-4c91-926a-28143a494d85",
   "metadata": {},
   "outputs": [
    {
     "name": "stdout",
     "output_type": "stream",
     "text": [
      "python\n",
      "life\n"
     ]
    }
   ],
   "source": [
    "# 튜플로 만들기\n",
    "a, b = ('python', 'life')\n",
    "print(a)\n",
    "print(b)"
   ]
  },
  {
   "cell_type": "code",
   "execution_count": 27,
   "id": "700b6c2b-735b-4147-ae08-dc8b1f156780",
   "metadata": {},
   "outputs": [
    {
     "name": "stdout",
     "output_type": "stream",
     "text": [
      "python\n",
      "life\n"
     ]
    }
   ],
   "source": [
    "a, b = 'python', 'life'\n",
    "print(a)\n",
    "print(b)"
   ]
  },
  {
   "cell_type": "code",
   "execution_count": 28,
   "id": "95cad400-7f16-4a04-8d46-5114e5b148d5",
   "metadata": {},
   "outputs": [
    {
     "name": "stdout",
     "output_type": "stream",
     "text": [
      "python\n",
      "life\n"
     ]
    }
   ],
   "source": [
    "# 리스트로 변수 만들기\n",
    "[a, b] = ['python', 'life']\n",
    "print(a)\n",
    "print(b)"
   ]
  },
  {
   "cell_type": "code",
   "execution_count": 30,
   "id": "c2984c69-af41-4c92-bcea-7e2eb54cb7c7",
   "metadata": {},
   "outputs": [
    {
     "name": "stdout",
     "output_type": "stream",
     "text": [
      "python\n",
      "python\n",
      "2825544591680\n",
      "2825544591680\n"
     ]
    }
   ],
   "source": [
    "# 여러 개의 변수에 같은 값 대입\n",
    "a = b = 'python'\n",
    "print(a)\n",
    "print(b)\n",
    "print(id(a))\n",
    "print(id(b))"
   ]
  },
  {
   "cell_type": "code",
   "execution_count": 31,
   "id": "b12d6d30-7110-404a-b8be-1085d457ca09",
   "metadata": {},
   "outputs": [
    {
     "name": "stdout",
     "output_type": "stream",
     "text": [
      "[5, 2, 3]\n",
      "[5, 2, 3]\n",
      "2825701788864\n",
      "2825701788864\n"
     ]
    }
   ],
   "source": [
    "a = b = [1, 2, 3]   # =을 사용하면 주소값에 상관 없이 복사된다.\n",
    "a[0] = 5\n",
    "print(a)\n",
    "print(b)\n",
    "print(id(a))\n",
    "print(id(b))"
   ]
  },
  {
   "cell_type": "code",
   "execution_count": 33,
   "id": "b553e95b-c3f6-4446-b91d-1250305840c9",
   "metadata": {},
   "outputs": [
    {
     "name": "stdout",
     "output_type": "stream",
     "text": [
      "5\n",
      "3\n"
     ]
    }
   ],
   "source": [
    "# 두 변수의 값 바꾸기\n",
    "a = 3\n",
    "b = 5\n",
    "a, b = b, a\n",
    "print(a)\n",
    "print(b)"
   ]
  },
  {
   "cell_type": "code",
   "execution_count": null,
   "id": "7f7a32eb-b623-4f12-b144-4cacc4516f87",
   "metadata": {},
   "outputs": [],
   "source": []
  }
 ],
 "metadata": {
  "kernelspec": {
   "display_name": "Python [conda env:base] *",
   "language": "python",
   "name": "conda-base-py"
  },
  "language_info": {
   "codemirror_mode": {
    "name": "ipython",
    "version": 3
   },
   "file_extension": ".py",
   "mimetype": "text/x-python",
   "name": "python",
   "nbconvert_exporter": "python",
   "pygments_lexer": "ipython3",
   "version": "3.13.5"
  },
  "widgets": {
   "application/vnd.jupyter.widget-state+json": {
    "state": {},
    "version_major": 2,
    "version_minor": 0
   }
  }
 },
 "nbformat": 4,
 "nbformat_minor": 5
}
