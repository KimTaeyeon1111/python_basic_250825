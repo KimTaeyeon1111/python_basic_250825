{
 "cells": [
  {
   "cell_type": "markdown",
   "id": "4181a2dc-b225-4050-a98c-e7b4050bd666",
   "metadata": {},
   "source": [
    "## 자료형_4-5_연습"
   ]
  },
  {
   "cell_type": "markdown",
   "id": "c0926afb-d39a-4ddf-b370-344967577595",
   "metadata": {},
   "source": [
    "#### 1. 튜플"
   ]
  },
  {
   "cell_type": "code",
   "execution_count": 9,
   "id": "beb9363c-a01a-4d8e-a7c1-43d28c235893",
   "metadata": {},
   "outputs": [
    {
     "data": {
      "text/plain": [
       "'a'"
      ]
     },
     "execution_count": 9,
     "metadata": {},
     "output_type": "execute_result"
    }
   ],
   "source": [
    "t1= (1,2,'a','b')\n",
    "#인덱싱\n",
    "t1[2]"
   ]
  },
  {
   "cell_type": "code",
   "execution_count": 10,
   "id": "fe76c1db-be6f-49e8-8ab0-b2aab6ca4daa",
   "metadata": {},
   "outputs": [
    {
     "data": {
      "text/plain": [
       "2"
      ]
     },
     "execution_count": 10,
     "metadata": {},
     "output_type": "execute_result"
    }
   ],
   "source": [
    "t1[1]"
   ]
  },
  {
   "cell_type": "code",
   "execution_count": 3,
   "id": "e1fa7be2-e094-4851-81cc-44ea71d63a27",
   "metadata": {},
   "outputs": [],
   "source": [
    "#튜플 요솟값 변경 불가"
   ]
  },
  {
   "cell_type": "code",
   "execution_count": 14,
   "id": "8673fe0f-67e0-4c50-bd64-97426f76d0e9",
   "metadata": {},
   "outputs": [
    {
     "data": {
      "text/plain": [
       "(1, 2, 'a')"
      ]
     },
     "execution_count": 14,
     "metadata": {},
     "output_type": "execute_result"
    }
   ],
   "source": [
    "#슬라이싱\n",
    "t1[:3]"
   ]
  },
  {
   "cell_type": "code",
   "execution_count": 17,
   "id": "564695ab-3692-4b03-947f-b72b4239e2de",
   "metadata": {},
   "outputs": [
    {
     "data": {
      "text/plain": [
       "(1, 2, 'a', 'b', 4, 5)"
      ]
     },
     "execution_count": 17,
     "metadata": {},
     "output_type": "execute_result"
    }
   ],
   "source": [
    "#튜플 더하기\n",
    "t2=(4, 5)\n",
    "t3= t1 + t2\n",
    "t3"
   ]
  },
  {
   "cell_type": "code",
   "execution_count": 19,
   "id": "f1d36092-8271-4716-bb96-361447470962",
   "metadata": {},
   "outputs": [
    {
     "data": {
      "text/plain": [
       "(4, 5, 4, 5, 4, 5)"
      ]
     },
     "execution_count": 19,
     "metadata": {},
     "output_type": "execute_result"
    }
   ],
   "source": [
    "#튜플 곱하기\n",
    "t4=t2 * 3\n",
    "t4"
   ]
  },
  {
   "cell_type": "code",
   "execution_count": 22,
   "id": "da6f6dd9-0dc8-4013-a5aa-cf192a476f4b",
   "metadata": {},
   "outputs": [
    {
     "data": {
      "text/plain": [
       "6"
      ]
     },
     "execution_count": 22,
     "metadata": {},
     "output_type": "execute_result"
    }
   ],
   "source": [
    "#튜플 길이 구하기\n",
    "len(t4)"
   ]
  },
  {
   "cell_type": "markdown",
   "id": "61293676-3706-4a5a-a1f6-37ce1eb89f60",
   "metadata": {},
   "source": [
    "#### 2. 딕셔너리"
   ]
  },
  {
   "cell_type": "code",
   "execution_count": 61,
   "id": "74eaf490-56e8-40f5-992c-4c8d1e0428ea",
   "metadata": {},
   "outputs": [
    {
     "name": "stdout",
     "output_type": "stream",
     "text": [
      "{'name': '김태연', 'email': 'rlaxodus1001@naver.com'}\n"
     ]
    }
   ],
   "source": [
    "a={'name':'김태연', 'email':'rlaxodus1001@naver.com'}\n",
    "print(a)"
   ]
  },
  {
   "cell_type": "code",
   "execution_count": 62,
   "id": "0fb85c4c-f571-41c3-8503-54a86e30b07e",
   "metadata": {},
   "outputs": [
    {
     "name": "stdout",
     "output_type": "stream",
     "text": [
      "김태연\n"
     ]
    }
   ],
   "source": [
    "#key는 리스트 형식이거나 중복이 될 수 없다.\n",
    "print(a['name'])"
   ]
  },
  {
   "cell_type": "code",
   "execution_count": 63,
   "id": "a88644eb-790d-437e-8a6b-309e9d93347a",
   "metadata": {},
   "outputs": [
    {
     "name": "stdout",
     "output_type": "stream",
     "text": [
      "{'name': '김태연', 'email': 'rlaxodus1001@naver.com', 'age': 24}\n",
      "<class 'dict'>\n"
     ]
    }
   ],
   "source": [
    "# 딕셔너리에 ['key'] : [리스트]도 추가 가능하다.\n",
    "a['age']=24\n",
    "print(a)\n",
    "print(type(a))"
   ]
  },
  {
   "cell_type": "code",
   "execution_count": 64,
   "id": "0a351177-aad1-4797-a307-3985dd6bf8a1",
   "metadata": {},
   "outputs": [
    {
     "name": "stdout",
     "output_type": "stream",
     "text": [
      "{'name': '김태연', 'age': 24}\n"
     ]
    }
   ],
   "source": [
    "#딕셔너리 요소 삭제\n",
    "del a['email']\n",
    "print(a)"
   ]
  },
  {
   "cell_type": "code",
   "execution_count": 65,
   "id": "a890e330-986c-4fc8-a1d0-7efe752cc9b2",
   "metadata": {},
   "outputs": [
    {
     "name": "stdout",
     "output_type": "stream",
     "text": [
      "{'name': '김태연', 'age': 24, 'email': 'rlaxodus1001@naver.com'}\n"
     ]
    }
   ],
   "source": [
    "a['email'] = 'rlaxodus1001@naver.com'\n",
    "print(a)"
   ]
  },
  {
   "cell_type": "code",
   "execution_count": 66,
   "id": "50782475-1e2d-4096-9f6c-bb7972b3dbb7",
   "metadata": {},
   "outputs": [
    {
     "name": "stdout",
     "output_type": "stream",
     "text": [
      "{'name': '김태연', 'age': 24, 'email': 'rlaxodus1001@naver.com', 'birth': 1111}\n"
     ]
    }
   ],
   "source": [
    "a['birth'] = 1111\n",
    "print(a)"
   ]
  },
  {
   "cell_type": "code",
   "execution_count": 67,
   "id": "d4586650-2ec4-4fdf-a8c6-3c79f81fd451",
   "metadata": {},
   "outputs": [
    {
     "name": "stdout",
     "output_type": "stream",
     "text": [
      "{'name': '김태연', 'age': 24, 'email': 'rlaxodus1001@naver.com'}\n"
     ]
    }
   ],
   "source": [
    "del a['birth']\n",
    "print(a)"
   ]
  },
  {
   "cell_type": "code",
   "execution_count": 68,
   "id": "f463f384-2205-4e60-baf9-220901b8eab1",
   "metadata": {},
   "outputs": [
    {
     "name": "stdout",
     "output_type": "stream",
     "text": [
      "{'age', 'name', 'email'}\n"
     ]
    }
   ],
   "source": [
    "# 딕셔너리에서 key를 이용해 value 얻기.\n",
    "# 인덱싱이나 슬라이싱 기법 중 하나를 사용하는 것이 아닌 단 한 가지의 방법을 사용한다.\n",
    "# key의 value를 얻기 위해 '딕셔너리_변수_이름[key]'를 사용해야한다. 아래는 gread의 예시이다.\n",
    "grade={'name', 'email', 'age'}\n",
    "print(grade)"
   ]
  },
  {
   "cell_type": "code",
   "execution_count": 69,
   "id": "bd1802d7-99e1-49b5-b3c7-d82bcb3fc59a",
   "metadata": {},
   "outputs": [
    {
     "name": "stdout",
     "output_type": "stream",
     "text": [
      "{'name': '김태연', 'age': 24, 'email': 'rlaxodus1001@naver.com'}\n"
     ]
    }
   ],
   "source": [
    "print(a)"
   ]
  },
  {
   "cell_type": "code",
   "execution_count": 70,
   "id": "50eb8a27-7c71-491b-b785-bb64ad60d659",
   "metadata": {},
   "outputs": [
    {
     "name": "stdout",
     "output_type": "stream",
     "text": [
      "{'age', 'name', 'email'}\n"
     ]
    }
   ],
   "source": [
    "print(grade)"
   ]
  },
  {
   "cell_type": "code",
   "execution_count": 71,
   "id": "1325202b-33ca-4945-884c-98743ab7ea25",
   "metadata": {},
   "outputs": [
    {
     "name": "stdout",
     "output_type": "stream",
     "text": [
      "김태연\n"
     ]
    }
   ],
   "source": [
    "print(a['name'])"
   ]
  },
  {
   "cell_type": "code",
   "execution_count": 72,
   "id": "c2e3894c-fd2a-4e8c-ad9a-f7c9c49f79d7",
   "metadata": {},
   "outputs": [
    {
     "name": "stdout",
     "output_type": "stream",
     "text": [
      "rlaxodus1001@naver.com\n"
     ]
    }
   ],
   "source": [
    "print(a['email'])"
   ]
  },
  {
   "cell_type": "code",
   "execution_count": 73,
   "id": "9ba7de11-e6c7-40bd-bbb2-e1a59fc15bbd",
   "metadata": {},
   "outputs": [
    {
     "name": "stdout",
     "output_type": "stream",
     "text": [
      "24\n"
     ]
    }
   ],
   "source": [
    "print(a['age'])"
   ]
  },
  {
   "cell_type": "code",
   "execution_count": 74,
   "id": "0831f7ec-03ba-411b-a4e9-5bfaa8de9792",
   "metadata": {},
   "outputs": [
    {
     "data": {
      "text/plain": [
       "'김태연'"
      ]
     },
     "execution_count": 74,
     "metadata": {},
     "output_type": "execute_result"
    }
   ],
   "source": [
    "dic['name']"
   ]
  },
  {
   "cell_type": "code",
   "execution_count": 75,
   "id": "d7ff68f8-0534-42d6-967e-f664cde7d694",
   "metadata": {},
   "outputs": [
    {
     "data": {
      "text/plain": [
       "'rlaxodus1001@naver.com'"
      ]
     },
     "execution_count": 75,
     "metadata": {},
     "output_type": "execute_result"
    }
   ],
   "source": [
    "dic['email']"
   ]
  },
  {
   "cell_type": "code",
   "execution_count": 76,
   "id": "780de209-5b68-4674-944b-63931d008f2a",
   "metadata": {},
   "outputs": [
    {
     "data": {
      "text/plain": [
       "24"
      ]
     },
     "execution_count": 76,
     "metadata": {},
     "output_type": "execute_result"
    }
   ],
   "source": [
    "dic['age']"
   ]
  },
  {
   "cell_type": "code",
   "execution_count": 77,
   "id": "ac106124-9a75-4723-9b51-c69331c4f65e",
   "metadata": {},
   "outputs": [],
   "source": [
    "# 주의사항\n",
    "# 1. 딕셔너리는 중복된 key값을 작성해서는 안 된다. - 오류 발생\n",
    "# 2. key 값에 리스트를 작성해서는 안 된다. - 오류 발생"
   ]
  },
  {
   "cell_type": "markdown",
   "id": "712d3899-b051-4421-a01f-52fc3b73bde6",
   "metadata": {},
   "source": [
    "#### 딕셔너리 관련 함수"
   ]
  },
  {
   "cell_type": "code",
   "execution_count": 82,
   "id": "766b761d-8954-466e-b6de-2964f485c4e8",
   "metadata": {},
   "outputs": [
    {
     "name": "stdout",
     "output_type": "stream",
     "text": [
      "dict_keys(['name', 'email', 'age'])\n"
     ]
    }
   ],
   "source": [
    "a={'name':'김태연', 'email':'rlaxodus1001@naver.com', 'age' : 24}\n",
    "print(a.keys())"
   ]
  },
  {
   "cell_type": "code",
   "execution_count": 86,
   "id": "baf31e2f-1a71-4389-a23b-bf594e97210a",
   "metadata": {},
   "outputs": [
    {
     "name": "stdout",
     "output_type": "stream",
     "text": [
      "name\n",
      "email\n",
      "age\n"
     ]
    }
   ],
   "source": [
    "for k in a.keys():\n",
    "    print(k)"
   ]
  },
  {
   "cell_type": "code",
   "execution_count": 91,
   "id": "2a802573-f7b6-4b7a-b88e-c873e6ebdafb",
   "metadata": {},
   "outputs": [
    {
     "name": "stdout",
     "output_type": "stream",
     "text": [
      "['name', 'email', 'age']\n"
     ]
    }
   ],
   "source": [
    "print(list(a.keys()))"
   ]
  },
  {
   "cell_type": "code",
   "execution_count": null,
   "id": "e980b470-6cc4-475e-a61d-3cb7832e0229",
   "metadata": {},
   "outputs": [],
   "source": []
  }
 ],
 "metadata": {
  "kernelspec": {
   "display_name": "Python [conda env:base] *",
   "language": "python",
   "name": "conda-base-py"
  },
  "language_info": {
   "codemirror_mode": {
    "name": "ipython",
    "version": 3
   },
   "file_extension": ".py",
   "mimetype": "text/x-python",
   "name": "python",
   "nbconvert_exporter": "python",
   "pygments_lexer": "ipython3",
   "version": "3.13.5"
  },
  "widgets": {
   "application/vnd.jupyter.widget-state+json": {
    "state": {},
    "version_major": 2,
    "version_minor": 0
   }
  }
 },
 "nbformat": 4,
 "nbformat_minor": 5
}
