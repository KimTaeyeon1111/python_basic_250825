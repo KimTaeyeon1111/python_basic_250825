{
 "cells": [
  {
   "cell_type": "markdown",
   "id": "9f4ae151-aa94-46b5-b43b-30ec746a8aac",
   "metadata": {},
   "source": [
    "## 5-1 제어문 / 조건문 (if)"
   ]
  },
  {
   "cell_type": "markdown",
   "id": "cc03107f-24ad-4f13-b9ce-d3e93df3248a",
   "metadata": {},
   "source": [
    "#### 1. if문의 기본 구조"
   ]
  },
  {
   "cell_type": "code",
   "execution_count": 9,
   "id": "584dd01e-32b7-4633-9235-d513d2b6712b",
   "metadata": {},
   "outputs": [
    {
     "ename": "IndentationError",
     "evalue": "unexpected indent (1095534936.py, line 5)",
     "output_type": "error",
     "traceback": [
      "\u001b[1;36m  Cell \u001b[1;32mIn[9], line 5\u001b[1;36m\u001b[0m\n\u001b[1;33m    print(\"가라\")\u001b[0m\n\u001b[1;37m    ^\u001b[0m\n\u001b[1;31mIndentationError\u001b[0m\u001b[1;31m:\u001b[0m unexpected indent\n"
     ]
    }
   ],
   "source": [
    "money = True\n",
    "if (money) :\n",
    "    print (\"택시를\")\n",
    "print(\"타고\")\n",
    "    print(\"가라\")"
   ]
  },
  {
   "cell_type": "code",
   "execution_count": 10,
   "id": "575f81ee-ac21-4c9a-ac1d-520bb95773f6",
   "metadata": {},
   "outputs": [
    {
     "name": "stdout",
     "output_type": "stream",
     "text": [
      "타고\n"
     ]
    }
   ],
   "source": [
    "money = False\n",
    "if money :\n",
    "    print (\"택시를\")\n",
    "print(\"타고\")"
   ]
  },
  {
   "cell_type": "code",
   "execution_count": 13,
   "id": "e87a28a1-f3f2-482b-8e4e-9a840cc132de",
   "metadata": {},
   "outputs": [
    {
     "name": "stdout",
     "output_type": "stream",
     "text": [
      "택시를\n",
      "타고\n"
     ]
    }
   ],
   "source": [
    "money = True\n",
    "if (money) :\n",
    "    print (\"택시를\")\n",
    "    print(\"타고\")"
   ]
  },
  {
   "cell_type": "code",
   "execution_count": 15,
   "id": "e09aa793-9d93-4fac-8c4d-aabaf9ffce31",
   "metadata": {},
   "outputs": [
    {
     "ename": "SyntaxError",
     "evalue": "expected ':' (4029804243.py, line 2)",
     "output_type": "error",
     "traceback": [
      "\u001b[1;36m  Cell \u001b[1;32mIn[15], line 2\u001b[1;36m\u001b[0m\n\u001b[1;33m    if (money)\u001b[0m\n\u001b[1;37m               ^\u001b[0m\n\u001b[1;31mSyntaxError\u001b[0m\u001b[1;31m:\u001b[0m expected ':'\n"
     ]
    }
   ],
   "source": [
    "money = True        # 조건문 다음에는 필수로 : 을 입력해야 한다.\n",
    "if (money) \n",
    "    print (\"택시를 타고\")"
   ]
  },
  {
   "cell_type": "markdown",
   "id": "abbd1451-c642-4d09-bac6-ce9450ce2f07",
   "metadata": {},
   "source": [
    "#### 2. 연산자"
   ]
  },
  {
   "cell_type": "code",
   "execution_count": 16,
   "id": "cfb99510-8251-404f-b145-75a5fe866f37",
   "metadata": {},
   "outputs": [
    {
     "name": "stdout",
     "output_type": "stream",
     "text": [
      "True\n",
      "False\n",
      "False\n",
      "True\n"
     ]
    }
   ],
   "source": [
    "# 비교연산자 (>, <, ==, >=, <=, !=)\n",
    "x = 3\n",
    "y = 2\n",
    "print(x > y)  #True\n",
    "print(x < y)  #False\n",
    "print(x == y) #False\n",
    "print(x != y) #True"
   ]
  },
  {
   "cell_type": "code",
   "execution_count": 17,
   "id": "618c557f-7ae8-49ff-89ae-f23e1f1466fe",
   "metadata": {},
   "outputs": [
    {
     "name": "stdout",
     "output_type": "stream",
     "text": [
      "걸어가라\n"
     ]
    }
   ],
   "source": [
    "money = 2000\n",
    "\n",
    "if money >= 3000:\n",
    "    print(\"택시를 타고 가라\")\n",
    "else:\n",
    "    print(\"걸어가라\")"
   ]
  },
  {
   "cell_type": "code",
   "execution_count": 18,
   "id": "a90853e5-6f43-4b30-9d9c-6013becd11e4",
   "metadata": {},
   "outputs": [
    {
     "name": "stdout",
     "output_type": "stream",
     "text": [
      "택시를 타고 가라\n"
     ]
    }
   ],
   "source": [
    "money = 5000\n",
    "\n",
    "if money >= 3000:\n",
    "    print(\"택시를 타고 가라\")\n",
    "else:\n",
    "    print(\"걸어가라\")"
   ]
  },
  {
   "cell_type": "code",
   "execution_count": 20,
   "id": "0a8e7591-f234-4fea-90c4-2ec8c8d9fab3",
   "metadata": {},
   "outputs": [
    {
     "name": "stdout",
     "output_type": "stream",
     "text": [
      "택시를 타고 가라\n"
     ]
    }
   ],
   "source": [
    "# 논리연산자 (and, or, not)\n",
    "# 조건식 x, y\n",
    "# and 둘 다 True일 때 True.\n",
    "# or 하나만 True일 때 True.\n",
    "# not True면 False, False면 True.\n",
    "\n",
    "#or\n",
    "if money >= 3000 or card:\n",
    "    print(\"택시를 타고 가라\")\n",
    "else:\n",
    "    print(\"걸어가라\")   # money=5000"
   ]
  },
  {
   "cell_type": "code",
   "execution_count": null,
   "id": "6e08d90a-d99b-4e34-a09c-eff923fe53fa",
   "metadata": {},
   "outputs": [],
   "source": [
    "#and"
   ]
  },
  {
   "cell_type": "code",
   "execution_count": null,
   "id": "f3fb1e1d-17bb-4462-a73b-e8bf5db917be",
   "metadata": {},
   "outputs": [],
   "source": [
    "#not"
   ]
  },
  {
   "cell_type": "code",
   "execution_count": 21,
   "id": "d5a11a94-6b99-4a07-a777-1ce0de7d3834",
   "metadata": {},
   "outputs": [
    {
     "data": {
      "text/plain": [
       "True"
      ]
     },
     "execution_count": 21,
     "metadata": {},
     "output_type": "execute_result"
    }
   ],
   "source": [
    "# in, not in 리스트 안에 지정한 숫자가 있는지.\n",
    "1 in [1, 2, 3]"
   ]
  },
  {
   "cell_type": "code",
   "execution_count": 23,
   "id": "e2e355db-6b51-46ed-9fdb-2ea148bd70a1",
   "metadata": {},
   "outputs": [
    {
     "data": {
      "text/plain": [
       "False"
      ]
     },
     "execution_count": 23,
     "metadata": {},
     "output_type": "execute_result"
    }
   ],
   "source": [
    "1 not in [1, 2, 3]"
   ]
  },
  {
   "cell_type": "code",
   "execution_count": 24,
   "id": "e597ca15-7928-43ea-9cb0-af43a2e33172",
   "metadata": {},
   "outputs": [
    {
     "data": {
      "text/plain": [
       "True"
      ]
     },
     "execution_count": 24,
     "metadata": {},
     "output_type": "execute_result"
    }
   ],
   "source": [
    "'a' in ('a', 'b', 'c')"
   ]
  },
  {
   "cell_type": "code",
   "execution_count": 26,
   "id": "c967933d-128d-49ab-bf7a-578a2a850332",
   "metadata": {},
   "outputs": [
    {
     "data": {
      "text/plain": [
       "True"
      ]
     },
     "execution_count": 26,
     "metadata": {},
     "output_type": "execute_result"
    }
   ],
   "source": [
    "'d' not in ('a', 'b', 'c')"
   ]
  },
  {
   "cell_type": "code",
   "execution_count": 27,
   "id": "f30d3fd3-b29a-4a81-943a-49ed2cd4e592",
   "metadata": {},
   "outputs": [
    {
     "data": {
      "text/plain": [
       "False"
      ]
     },
     "execution_count": 27,
     "metadata": {},
     "output_type": "execute_result"
    }
   ],
   "source": [
    "'a' not in('a', 'b', 'c')"
   ]
  },
  {
   "cell_type": "code",
   "execution_count": 28,
   "id": "503549c9-aaee-4bb7-9cd0-5b3a63c264bc",
   "metadata": {},
   "outputs": [
    {
     "name": "stdout",
     "output_type": "stream",
     "text": [
      "택시를 타고 가라\n"
     ]
    }
   ],
   "source": [
    "pocket = ['paper', 'cellphone', 'money']\n",
    "\n",
    "if 'money' in pocket:\n",
    "    print(\"택시를 타고 가라\")\n",
    "else:\n",
    "    print(\"걸어가라\")"
   ]
  },
  {
   "cell_type": "code",
   "execution_count": 29,
   "id": "0f99201a-459e-4a45-a210-4b0b60f9fa15",
   "metadata": {},
   "outputs": [
    {
     "name": "stdout",
     "output_type": "stream",
     "text": [
      "걸어가라\n"
     ]
    }
   ],
   "source": [
    "pocket = ['paper', 'cellphone']\n",
    "\n",
    "if 'money' in pocket:\n",
    "    print(\"택시를 타고 가라\")\n",
    "else:\n",
    "    print(\"걸어가라\")"
   ]
  },
  {
   "cell_type": "code",
   "execution_count": 33,
   "id": "3ddf6564-819d-4a32-85af-a3da73bb8fb9",
   "metadata": {},
   "outputs": [],
   "source": [
    "# pass : 실행문 실행하지 않고 넘어가기\n",
    "\n",
    "pocket = ['paper', 'cellphone', 'money']\n",
    "if 'money' in pocket:\n",
    "    pass\n",
    "else:\n",
    "    print(\"걸어가라\")"
   ]
  },
  {
   "cell_type": "markdown",
   "id": "e4a20ea8-b562-4e5c-b458-abdc23350ca4",
   "metadata": {},
   "source": [
    "#### 3. 다양한 조건을 판단하는 elif"
   ]
  },
  {
   "cell_type": "code",
   "execution_count": 36,
   "id": "f62925ae-30e7-4cc7-a51a-9f4bc02b0385",
   "metadata": {},
   "outputs": [
    {
     "name": "stdout",
     "output_type": "stream",
     "text": [
      "카드를 꺼내라\n"
     ]
    }
   ],
   "source": [
    "# if, else만으로 표현\n",
    "\n",
    "pocket = ['paper', 'cellphone']\n",
    "card = True\n",
    "\n",
    "if 'money' in pocket:\n",
    "    print(\"택시를 타고 가라\")\n",
    "else:\n",
    "    if card:\n",
    "        print(\"카드를 꺼내라\")\n",
    "    else:\n",
    "        print(\"걸어가라\")"
   ]
  },
  {
   "cell_type": "code",
   "execution_count": 37,
   "id": "14bf72b6-7415-42af-a94e-defa0f31e14c",
   "metadata": {},
   "outputs": [
    {
     "name": "stdout",
     "output_type": "stream",
     "text": [
      "카드를 꺼내라\n"
     ]
    }
   ],
   "source": [
    "#elif 사용\n",
    "\n",
    "pocket = ['paper', 'cellphone']\n",
    "card = True\n",
    "\n",
    "if 'money' in pocket:\n",
    "    print(\"택시를 타고 가라\")\n",
    "elif card:\n",
    "    print(\"카드를 꺼내라\")\n",
    "else:\n",
    "    print(\"걸어가라\")"
   ]
  },
  {
   "cell_type": "code",
   "execution_count": 38,
   "id": "bd5cb425-8236-4311-b760-2f0721e0ea96",
   "metadata": {},
   "outputs": [
    {
     "name": "stdout",
     "output_type": "stream",
     "text": [
      "D\n"
     ]
    }
   ],
   "source": [
    "math = 60\n",
    "\n",
    "if math >= 90:\n",
    "    print('A')\n",
    "elif math >= 80:\n",
    "    print('B')\n",
    "elif math >= 70:\n",
    "    print('C')\n",
    "elif math >= 60:\n",
    "    print('D')\n",
    "else:\n",
    "    print('F')"
   ]
  },
  {
   "cell_type": "code",
   "execution_count": 39,
   "id": "a7b94339-ff69-4b58-80c6-e69462163f2d",
   "metadata": {},
   "outputs": [],
   "source": [
    "# if문 한 줄로 작성하기\n",
    "\n",
    "pocket = ['paper', 'cellphone', 'money']\n",
    "if 'money' in pocket: pass\n",
    "else: print(\"걸어가라\")"
   ]
  },
  {
   "cell_type": "markdown",
   "id": "3719b0fa-2e67-4805-976f-746a20c28d25",
   "metadata": {},
   "source": [
    "#### 4. 조건부 표현식"
   ]
  },
  {
   "cell_type": "code",
   "execution_count": 42,
   "id": "ff6ab935-be02-4cbe-af57-bc3ec19dcf23",
   "metadata": {},
   "outputs": [
    {
     "name": "stdout",
     "output_type": "stream",
     "text": [
      "success\n"
     ]
    }
   ],
   "source": [
    "# if / else문\n",
    "score = 90\n",
    "\n",
    "if score >= 60:\n",
    "    message = \"success\"\n",
    "else:\n",
    "    message = \"falilure\"\n",
    "\n",
    "print(message)"
   ]
  },
  {
   "cell_type": "code",
   "execution_count": 48,
   "id": "5e499c71-a89b-4b78-85b5-40715bcb77ca",
   "metadata": {},
   "outputs": [
    {
     "name": "stdout",
     "output_type": "stream",
     "text": [
      "success\n"
     ]
    }
   ],
   "source": [
    "# 조건부 표현식 (조건을 중심에 두고 왼쪽에 True값 오른쪽에 False값을 둔다)\n",
    "# message = (\"True값\") (if 조건문) (else \"False\"값\") 의 형태로 나타낸다.\n",
    "\n",
    "message = \"success\" if score >= 60 else \"falilure\"\n",
    "\n",
    "print(message)"
   ]
  },
  {
   "cell_type": "code",
   "execution_count": null,
   "id": "e096c6a0-360a-41d9-8a86-0df9b5003611",
   "metadata": {},
   "outputs": [],
   "source": []
  }
 ],
 "metadata": {
  "kernelspec": {
   "display_name": "Python [conda env:base] *",
   "language": "python",
   "name": "conda-base-py"
  },
  "language_info": {
   "codemirror_mode": {
    "name": "ipython",
    "version": 3
   },
   "file_extension": ".py",
   "mimetype": "text/x-python",
   "name": "python",
   "nbconvert_exporter": "python",
   "pygments_lexer": "ipython3",
   "version": "3.13.5"
  },
  "widgets": {
   "application/vnd.jupyter.widget-state+json": {
    "state": {},
    "version_major": 2,
    "version_minor": 0
   }
  }
 },
 "nbformat": 4,
 "nbformat_minor": 5
}
