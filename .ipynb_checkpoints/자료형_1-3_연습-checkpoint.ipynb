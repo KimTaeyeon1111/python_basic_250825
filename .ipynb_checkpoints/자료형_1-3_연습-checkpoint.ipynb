{
 "cells": [
  {
   "cell_type": "markdown",
   "id": "b5c5adf0-d008-40fb-a959-6b84a19a8afd",
   "metadata": {},
   "source": [
    "## 자료형_1-3_연습"
   ]
  },
  {
   "cell_type": "markdown",
   "id": "b7586055-8a49-4f59-bb55-b51ad6c50a13",
   "metadata": {},
   "source": [
    "### 1. 자료형_숫자형"
   ]
  },
  {
   "cell_type": "markdown",
   "id": "abdf499d-9770-4b67-afdc-8e1b785fba4a",
   "metadata": {},
   "source": [
    "#### 정수형"
   ]
  },
  {
   "cell_type": "code",
   "execution_count": 1,
   "id": "d6e7c910-196b-49c5-9e02-1bc3ffb5ec7a",
   "metadata": {},
   "outputs": [],
   "source": [
    "a=123"
   ]
  },
  {
   "cell_type": "code",
   "execution_count": 2,
   "id": "577ebbe7-8671-4a42-8a35-7d9e27a2e1b0",
   "metadata": {},
   "outputs": [
    {
     "data": {
      "text/plain": [
       "123"
      ]
     },
     "execution_count": 2,
     "metadata": {},
     "output_type": "execute_result"
    }
   ],
   "source": [
    "a"
   ]
  },
  {
   "cell_type": "code",
   "execution_count": 5,
   "id": "c33403dd-b45b-4676-9534-115e79100bfc",
   "metadata": {},
   "outputs": [
    {
     "data": {
      "text/plain": [
       "-173"
      ]
     },
     "execution_count": 5,
     "metadata": {},
     "output_type": "execute_result"
    }
   ],
   "source": [
    "a=-173\n",
    "a"
   ]
  },
  {
   "cell_type": "code",
   "execution_count": 6,
   "id": "98df7e5a-7e2e-4a96-80be-013a5d2a39b6",
   "metadata": {},
   "outputs": [
    {
     "data": {
      "text/plain": [
       "0"
      ]
     },
     "execution_count": 6,
     "metadata": {},
     "output_type": "execute_result"
    }
   ],
   "source": [
    "a=0\n",
    "a"
   ]
  },
  {
   "cell_type": "code",
   "execution_count": 7,
   "id": "4bf54134-0f81-4ccc-bffc-bbe63b1d1cc4",
   "metadata": {},
   "outputs": [
    {
     "data": {
      "text/plain": [
       "int"
      ]
     },
     "execution_count": 7,
     "metadata": {},
     "output_type": "execute_result"
    }
   ],
   "source": [
    "type(a)"
   ]
  },
  {
   "cell_type": "markdown",
   "id": "75889cd3-06c2-4b19-8c34-e7e47c31e9e0",
   "metadata": {},
   "source": [
    "#### 실수형"
   ]
  },
  {
   "cell_type": "code",
   "execution_count": 8,
   "id": "e2e33ee7-9b87-4569-b393-eeedb319a684",
   "metadata": {},
   "outputs": [
    {
     "data": {
      "text/plain": [
       "float"
      ]
     },
     "execution_count": 8,
     "metadata": {},
     "output_type": "execute_result"
    }
   ],
   "source": [
    "a=1.2\n",
    "type(a)"
   ]
  },
  {
   "cell_type": "code",
   "execution_count": 9,
   "id": "86f34152-99d6-4bde-89d9-2f55bcd1014c",
   "metadata": {},
   "outputs": [
    {
     "name": "stdout",
     "output_type": "stream",
     "text": [
      "1.2\n",
      "<class 'float'>\n"
     ]
    }
   ],
   "source": [
    "a=1.2\n",
    "print(a)\n",
    "print(type(a))"
   ]
  },
  {
   "cell_type": "code",
   "execution_count": 10,
   "id": "22b6f3c0-3846-4527-a001-646223c5af7e",
   "metadata": {},
   "outputs": [
    {
     "name": "stdout",
     "output_type": "stream",
     "text": [
      "42400000000.0\n",
      "<class 'float'>\n"
     ]
    }
   ],
   "source": [
    "a=4.24e10\n",
    "print(a)\n",
    "print(type(a))  #맞나...?"
   ]
  },
  {
   "cell_type": "code",
   "execution_count": 11,
   "id": "a2a183fb-8a5b-46d6-9c57-8d2e6841847f",
   "metadata": {},
   "outputs": [
    {
     "name": "stdout",
     "output_type": "stream",
     "text": [
      "127\n",
      "<class 'int'>\n"
     ]
    }
   ],
   "source": [
    "a=0o177\n",
    "print(a)\n",
    "print(type(a))"
   ]
  },
  {
   "cell_type": "code",
   "execution_count": 12,
   "id": "c9de6ecd-6657-44b4-ba16-ae358fd945e8",
   "metadata": {},
   "outputs": [
    {
     "name": "stdout",
     "output_type": "stream",
     "text": [
      "2748\n"
     ]
    }
   ],
   "source": [
    "a=0x8ff\n",
    "b=0xABC\n",
    "print(b)\n"
   ]
  },
  {
   "cell_type": "code",
   "execution_count": 13,
   "id": "f605a65e-170e-44c5-be14-2ac58a36d384",
   "metadata": {},
   "outputs": [
    {
     "data": {
      "text/plain": [
       "5"
      ]
     },
     "execution_count": 13,
     "metadata": {},
     "output_type": "execute_result"
    }
   ],
   "source": [
    "a=2\n",
    "b=3\n",
    "a+b"
   ]
  },
  {
   "cell_type": "code",
   "execution_count": 14,
   "id": "dcc18a3c-a07d-4e39-8116-afbed8618761",
   "metadata": {},
   "outputs": [
    {
     "data": {
      "text/plain": [
       "-1"
      ]
     },
     "execution_count": 14,
     "metadata": {},
     "output_type": "execute_result"
    }
   ],
   "source": [
    "a-b"
   ]
  },
  {
   "cell_type": "code",
   "execution_count": 15,
   "id": "e88326ba-a2c0-49dd-81bb-cf4d255cc1fa",
   "metadata": {},
   "outputs": [
    {
     "data": {
      "text/plain": [
       "6"
      ]
     },
     "execution_count": 15,
     "metadata": {},
     "output_type": "execute_result"
    }
   ],
   "source": [
    "a*b"
   ]
  },
  {
   "cell_type": "code",
   "execution_count": 16,
   "id": "bba06483-27cd-4af5-86e4-42548da0a49f",
   "metadata": {},
   "outputs": [
    {
     "data": {
      "text/plain": [
       "0.6666666666666666"
      ]
     },
     "execution_count": 16,
     "metadata": {},
     "output_type": "execute_result"
    }
   ],
   "source": [
    "a/b"
   ]
  },
  {
   "cell_type": "code",
   "execution_count": 17,
   "id": "3b9b6a66-10b3-44d9-9b44-fcb815d27ebf",
   "metadata": {},
   "outputs": [
    {
     "data": {
      "text/plain": [
       "8"
      ]
     },
     "execution_count": 17,
     "metadata": {},
     "output_type": "execute_result"
    }
   ],
   "source": [
    "a**b #=2의 3제곱"
   ]
  },
  {
   "cell_type": "code",
   "execution_count": 19,
   "id": "137b3e86-e832-4892-ace8-db3ddac87657",
   "metadata": {},
   "outputs": [
    {
     "data": {
      "text/plain": [
       "1"
      ]
     },
     "execution_count": 19,
     "metadata": {},
     "output_type": "execute_result"
    }
   ],
   "source": [
    "7%3"
   ]
  },
  {
   "cell_type": "code",
   "execution_count": 23,
   "id": "f5127d06-1359-4202-87ec-b9ae4cc53159",
   "metadata": {},
   "outputs": [
    {
     "data": {
      "text/plain": [
       "1.75"
      ]
     },
     "execution_count": 23,
     "metadata": {},
     "output_type": "execute_result"
    }
   ],
   "source": [
    "7/4"
   ]
  },
  {
   "cell_type": "code",
   "execution_count": 24,
   "id": "d62205ea-7bcb-4eb4-a747-42307b2ae22e",
   "metadata": {},
   "outputs": [
    {
     "data": {
      "text/plain": [
       "1"
      ]
     },
     "execution_count": 24,
     "metadata": {},
     "output_type": "execute_result"
    }
   ],
   "source": [
    "7//4"
   ]
  },
  {
   "cell_type": "markdown",
   "id": "cbb4a56c-b81f-456a-ae25-1fdcefd0fb7e",
   "metadata": {},
   "source": [
    "### 2. 자료형_문자열"
   ]
  },
  {
   "cell_type": "code",
   "execution_count": 25,
   "id": "2ed8d62e-93af-40da-af63-1a79b2e23410",
   "metadata": {},
   "outputs": [],
   "source": [
    "#문자열에 작은 따옴표 포함하기\n",
    "food=\"Python's favorite food is perl\""
   ]
  },
  {
   "cell_type": "code",
   "execution_count": 30,
   "id": "de4786d7-9196-42f2-8f53-43d4d81d5913",
   "metadata": {},
   "outputs": [
    {
     "ename": "SyntaxError",
     "evalue": "unterminated string literal (detected at line 1) (3602176899.py, line 1)",
     "output_type": "error",
     "traceback": [
      "\u001b[1;36m  Cell \u001b[1;32mIn[30], line 1\u001b[1;36m\u001b[0m\n\u001b[1;33m    food='Python's favorite food is perl' #일 때 \\ 사용\u001b[0m\n\u001b[1;37m                                        ^\u001b[0m\n\u001b[1;31mSyntaxError\u001b[0m\u001b[1;31m:\u001b[0m unterminated string literal (detected at line 1)\n"
     ]
    }
   ],
   "source": [
    "food='Python's favorite food is perl' #일 때 \\ 사용"
   ]
  },
  {
   "cell_type": "code",
   "execution_count": 29,
   "id": "9832ec5c-9793-4ef6-924f-c0fbbc62c005",
   "metadata": {},
   "outputs": [
    {
     "data": {
      "text/plain": [
       "\"Python's favorite food is perl\""
      ]
     },
     "execution_count": 29,
     "metadata": {},
     "output_type": "execute_result"
    }
   ],
   "source": [
    "food='Python\\'s favorite food is perl'\n",
    "food"
   ]
  },
  {
   "cell_type": "code",
   "execution_count": 34,
   "id": "daced2f4-45cb-4a33-9dd1-cff213c81552",
   "metadata": {},
   "outputs": [
    {
     "data": {
      "text/plain": [
       "'\"Python is very easy.\" he is say.'"
      ]
     },
     "execution_count": 34,
     "metadata": {},
     "output_type": "execute_result"
    }
   ],
   "source": [
    "#큰 따옴표를 표시할 때에는 작은 따옴표 안에 큰따옴표\n",
    "#역슬래시를 사용하면 \"\\\"\"\",'\\''' 가능\n",
    "say=\"\\\"Python is very easy.\\\" he is say.\"\n",
    "say"
   ]
  },
  {
   "cell_type": "markdown",
   "id": "e17c9301-0549-472a-b480-28bb7cb18b12",
   "metadata": {},
   "source": [
    "#### 여러줄로 나누기"
   ]
  },
  {
   "cell_type": "code",
   "execution_count": 35,
   "id": "fb2ae85c-38af-4555-88eb-5ceff4b66f30",
   "metadata": {},
   "outputs": [
    {
     "name": "stdout",
     "output_type": "stream",
     "text": [
      "\n",
      "Life is too\n",
      "short. you need\n",
      "python.\n"
     ]
    }
   ],
   "source": [
    "multline = \"\"\"\n",
    "Life is too\n",
    "short. you need\n",
    "python.\"\"\"\n",
    "print(multline)"
   ]
  },
  {
   "cell_type": "code",
   "execution_count": 40,
   "id": "d6753710-838a-444c-a018-e9fb91ad27ba",
   "metadata": {},
   "outputs": [
    {
     "name": "stdout",
     "output_type": "stream",
     "text": [
      "Life is \n",
      "too short.\n",
      "you need python.\n"
     ]
    }
   ],
   "source": [
    "#또는\n",
    "multline = \"Life is \\ntoo short.\\nyou need python.\"\n",
    "print(multline)"
   ]
  },
  {
   "cell_type": "markdown",
   "id": "5f357082-00f8-4742-bf22-ea79a36ea367",
   "metadata": {},
   "source": [
    "#### 문자열 연산하기"
   ]
  },
  {
   "cell_type": "code",
   "execution_count": null,
   "id": "a1cc04bc-fec2-4eaf-91c0-f6aaa0f016a6",
   "metadata": {},
   "outputs": [],
   "source": []
  }
 ],
 "metadata": {
  "kernelspec": {
   "display_name": "Python [conda env:base] *",
   "language": "python",
   "name": "conda-base-py"
  },
  "language_info": {
   "codemirror_mode": {
    "name": "ipython",
    "version": 3
   },
   "file_extension": ".py",
   "mimetype": "text/x-python",
   "name": "python",
   "nbconvert_exporter": "python",
   "pygments_lexer": "ipython3",
   "version": "3.13.5"
  },
  "widgets": {
   "application/vnd.jupyter.widget-state+json": {
    "state": {},
    "version_major": 2,
    "version_minor": 0
   }
  }
 },
 "nbformat": 4,
 "nbformat_minor": 5
}
