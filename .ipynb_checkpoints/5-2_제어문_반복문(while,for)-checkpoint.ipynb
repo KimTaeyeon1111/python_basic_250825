{
 "cells": [
  {
   "cell_type": "markdown",
   "id": "5eb3dad1-c818-4ee2-b5fd-97724641e4da",
   "metadata": {},
   "source": [
    "## 5-2_제어문 / 반복문 (while, for)"
   ]
  },
  {
   "cell_type": "markdown",
   "id": "c930487e-3a20-463b-b803-02f073196a66",
   "metadata": {},
   "source": [
    "#### 1. While 조건문"
   ]
  },
  {
   "cell_type": "code",
   "execution_count": null,
   "id": "0adb593b-f31f-4743-b5a1-eafbf573a449",
   "metadata": {},
   "outputs": [],
   "source": []
  },
  {
   "cell_type": "code",
   "execution_count": 5,
   "id": "f8ea91d1-956c-43ea-aea2-17094bc8f4d6",
   "metadata": {},
   "outputs": [
    {
     "name": "stdout",
     "output_type": "stream",
     "text": [
      "나무를 1번 찍었습니다.\n",
      "나무를 2번 찍었습니다.\n",
      "나무를 3번 찍었습니다.\n",
      "나무를 4번 찍었습니다.\n",
      "나무를 5번 찍었습니다.\n",
      "나무를 6번 찍었습니다.\n",
      "나무를 7번 찍었습니다.\n",
      "나무를 8번 찍었습니다.\n",
      "나무를 9번 찍었습니다.\n",
      "나무를 10번 찍었습니다.\n",
      "나무가 넘어갑니다.\n"
     ]
    }
   ],
   "source": [
    "treeHit = 0\n",
    "\n",
    "while treeHit < 10:\n",
    "    treeHit += 1   #하나를 더 추가하기 위해 '0'인 treehit 값에 +1하는 부호 '+='. 'treehit = treehit = 1'과 같다\n",
    "    print('나무를 %d번 찍었습니다.'%treeHit)\n",
    "    if treeHit == 10:\n",
    "        print(\"나무가 넘어갑니다.\")"
   ]
  },
  {
   "cell_type": "code",
   "execution_count": 7,
   "id": "8424c3fc-6013-49ce-b0eb-adca6315e033",
   "metadata": {},
   "outputs": [],
   "source": [
    "prompt = \"\"\"\n",
    "1. Add\n",
    "2. Del\n",
    "3. List\n",
    "4. Quit\n",
    "\n",
    "Enter number:\"\"\""
   ]
  },
  {
   "cell_type": "code",
   "execution_count": 8,
   "id": "7550fbf2-6d7c-425a-ab50-0c2fed2e9b0a",
   "metadata": {},
   "outputs": [
    {
     "name": "stdout",
     "output_type": "stream",
     "text": [
      "\n",
      "1. Add\n",
      "2. Del\n",
      "3. List\n",
      "4. Quit\n",
      "\n",
      "Enter number:\n"
     ]
    },
    {
     "name": "stdin",
     "output_type": "stream",
     "text": [
      " 1\n"
     ]
    },
    {
     "name": "stdout",
     "output_type": "stream",
     "text": [
      "\n",
      "1. Add\n",
      "2. Del\n",
      "3. List\n",
      "4. Quit\n",
      "\n",
      "Enter number:\n"
     ]
    },
    {
     "name": "stdin",
     "output_type": "stream",
     "text": [
      " 2\n"
     ]
    },
    {
     "name": "stdout",
     "output_type": "stream",
     "text": [
      "\n",
      "1. Add\n",
      "2. Del\n",
      "3. List\n",
      "4. Quit\n",
      "\n",
      "Enter number:\n"
     ]
    },
    {
     "name": "stdin",
     "output_type": "stream",
     "text": [
      " 3\n"
     ]
    },
    {
     "name": "stdout",
     "output_type": "stream",
     "text": [
      "\n",
      "1. Add\n",
      "2. Del\n",
      "3. List\n",
      "4. Quit\n",
      "\n",
      "Enter number:\n"
     ]
    },
    {
     "name": "stdin",
     "output_type": "stream",
     "text": [
      " 4\n"
     ]
    }
   ],
   "source": [
    "number = 0\n",
    "while number !=4:\n",
    "    print(prompt)\n",
    "    number = int(input())"
   ]
  },
  {
   "cell_type": "code",
   "execution_count": 1,
   "id": "d0dc0e93-41dc-4180-935c-057915b79820",
   "metadata": {},
   "outputs": [
    {
     "name": "stdout",
     "output_type": "stream",
     "text": [
      "돈을 받았으니 커피를 줍니다.\n",
      "남은 커피의 양은 9개 입니다.\n",
      "돈을 받았으니 커피를 줍니다.\n",
      "남은 커피의 양은 8개 입니다.\n",
      "돈을 받았으니 커피를 줍니다.\n",
      "남은 커피의 양은 7개 입니다.\n",
      "돈을 받았으니 커피를 줍니다.\n",
      "남은 커피의 양은 6개 입니다.\n",
      "돈을 받았으니 커피를 줍니다.\n",
      "남은 커피의 양은 5개 입니다.\n",
      "돈을 받았으니 커피를 줍니다.\n",
      "남은 커피의 양은 4개 입니다.\n",
      "돈을 받았으니 커피를 줍니다.\n",
      "남은 커피의 양은 3개 입니다.\n",
      "돈을 받았으니 커피를 줍니다.\n",
      "남은 커피의 양은 2개 입니다.\n",
      "돈을 받았으니 커피를 줍니다.\n",
      "남은 커피의 양은 1개 입니다.\n",
      "돈을 받았으니 커피를 줍니다.\n",
      "남은 커피의 양은 0개 입니다.\n",
      "커피가 다 떨어졌습니다. 판매를 중지합니다.\n"
     ]
    }
   ],
   "source": [
    "# break문 : while문 강제로 빠져나가기\n",
    "\n",
    "coffee = 10\n",
    "money = 300\n",
    "\n",
    "while money:\n",
    "    print(\"돈을 받았으니 커피를 줍니다.\")\n",
    "    coffee -= 1\n",
    "    print(\"남은 커피의 양은 %d개 입니다.\"%coffee)\n",
    "\n",
    "    if coffee == 0:\n",
    "        print(\"커피가 다 떨어졌습니다. 판매를 중지합니다.\")\n",
    "        break   #반복문 강제 종료"
   ]
  },
  {
   "cell_type": "code",
   "execution_count": 6,
   "id": "249eeb55-d1e9-44c7-9b83-a91fd737bf33",
   "metadata": {},
   "outputs": [
    {
     "name": "stdin",
     "output_type": "stream",
     "text": [
      "돈을 넣어주세요 :  400\n"
     ]
    },
    {
     "name": "stdout",
     "output_type": "stream",
     "text": [
      "거스름돈 100를 주고 커피를 줍니다.\n",
      "남은 커피의 양은 4개 입니다.\n"
     ]
    },
    {
     "name": "stdin",
     "output_type": "stream",
     "text": [
      "돈을 넣어주세요 :  500\n"
     ]
    },
    {
     "name": "stdout",
     "output_type": "stream",
     "text": [
      "거스름돈 200를 주고 커피를 줍니다.\n",
      "남은 커피의 양은 3개 입니다.\n"
     ]
    },
    {
     "name": "stdin",
     "output_type": "stream",
     "text": [
      "돈을 넣어주세요 :  600\n"
     ]
    },
    {
     "name": "stdout",
     "output_type": "stream",
     "text": [
      "거스름돈 300를 주고 커피를 줍니다.\n",
      "남은 커피의 양은 2개 입니다.\n"
     ]
    },
    {
     "name": "stdin",
     "output_type": "stream",
     "text": [
      "돈을 넣어주세요 :  500\n"
     ]
    },
    {
     "name": "stdout",
     "output_type": "stream",
     "text": [
      "거스름돈 200를 주고 커피를 줍니다.\n",
      "남은 커피의 양은 1개 입니다.\n",
      "커피가 다 떨어졌습니다. 판매를 중지합니다.\n"
     ]
    }
   ],
   "source": [
    "coffee = 4\n",
    "while True:\n",
    "    money = int(input(\"돈을 넣어주세요 : \"))\n",
    "\n",
    "    if money == 300:\n",
    "        print(\"커피를 줍니다\")\n",
    "        print(\"남은 커피의 양은 %d개 입니다.\"%coffee)\n",
    "        coffee -= 1\n",
    "    elif money >= 300:\n",
    "        print(\"거스름돈 %d를 주고 커피를 줍니다.\"%(money-300))\n",
    "        print(\"남은 커피의 양은 %d개 입니다.\"%coffee)\n",
    "        coffee -= 1\n",
    "    else:\n",
    "        print(\"금액이 부족합니다.\")\n",
    "    if coffee == 0:\n",
    "        print(\"커피가 다 떨어졌습니다. 판매를 중지합니다.\")\n",
    "        break   "
   ]
  },
  {
   "cell_type": "code",
   "execution_count": 5,
   "id": "fbf5a058-8e26-4b61-a48d-85fc3789c1bd",
   "metadata": {},
   "outputs": [
    {
     "name": "stdout",
     "output_type": "stream",
     "text": [
      "1\n",
      "3\n",
      "5\n",
      "7\n",
      "9\n"
     ]
    }
   ],
   "source": [
    "#continue문 : 반복문 처음으로 돌아감.\n",
    "a = 0\n",
    "\n",
    "while a<10:\n",
    "    a += 1\n",
    "    if a%2==0:\n",
    "        continue\n",
    "    print(a)"
   ]
  },
  {
   "cell_type": "markdown",
   "id": "5469a50d-ea84-4e88-af84-ff1255a6b3b3",
   "metadata": {},
   "source": [
    "#### 2. for문"
   ]
  },
  {
   "cell_type": "code",
   "execution_count": 4,
   "id": "77264e76-16f0-41ce-85db-f3caa79b5a68",
   "metadata": {},
   "outputs": [
    {
     "name": "stdout",
     "output_type": "stream",
     "text": [
      "one\n",
      "two\n",
      "three\n"
     ]
    }
   ],
   "source": [
    "test_list = ['one', 'two', 'three']       #forrhk in 사이 문자, print() 안의 문자만 같게 맞춰주면 됨.\n",
    "for num in test_list:\n",
    "    print(num)"
   ]
  },
  {
   "cell_type": "code",
   "execution_count": 9,
   "id": "35b81e34-ac65-4b9e-b06c-d04816e6beaa",
   "metadata": {},
   "outputs": [
    {
     "name": "stdout",
     "output_type": "stream",
     "text": [
      "(5, 6)\n",
      "5\n"
     ]
    }
   ],
   "source": [
    "a = [(1,2), (3,4), (5,6)]\n",
    "print(a[2]) #두번째\n",
    "print(a[2][0]) #두번째의 0번"
   ]
  },
  {
   "cell_type": "code",
   "execution_count": 10,
   "id": "89c577c3-d909-487c-93be-4a369339d8df",
   "metadata": {},
   "outputs": [
    {
     "name": "stdout",
     "output_type": "stream",
     "text": [
      "3\n",
      "7\n",
      "11\n"
     ]
    }
   ],
   "source": [
    "for (first, last) in a:\n",
    "    print(first + last)"
   ]
  },
  {
   "cell_type": "code",
   "execution_count": 11,
   "id": "a5c52016-c832-4b8a-9a6e-f9d64c1a215d",
   "metadata": {},
   "outputs": [
    {
     "name": "stdout",
     "output_type": "stream",
     "text": [
      "(1, 2)\n",
      "(3, 4)\n",
      "(5, 6)\n"
     ]
    }
   ],
   "source": [
    "for i in a:\n",
    "    print(i)"
   ]
  },
  {
   "cell_type": "code",
   "execution_count": 12,
   "id": "2b68f2c3-4595-4ab6-87cc-7378a1ff120b",
   "metadata": {},
   "outputs": [
    {
     "name": "stdout",
     "output_type": "stream",
     "text": [
      "1번 학생은 합격입니다.\n",
      "2번 학생은 불합격입니다.\n",
      "3번 학생은 합격입니다.\n",
      "4번 학생은 불합격입니다.\n",
      "5번 학생은 합격입니다.\n"
     ]
    }
   ],
   "source": [
    "# 총 5명의 학생이 시험을 보았는데 시험 점수가 60점 이상이면 합격이고 그렇지 않으면 불합격이다.\n",
    "# 합격인지, 불합격인지 결과를 보여 주시오.\n",
    "\n",
    "marks = [90, 25, 67, 45, 80] # 학생들의 시험 점수 리스트 / 보통 리스트같은 복수에는 뒤에 -s를 붙인다.\n",
    "\n",
    "number = 0 # 학생에게 붙여줄 번호\n",
    "for mark in marks:\n",
    "    number += 1\n",
    "    if mark >= 60:\n",
    "        print(\"%d번 학생은 합격입니다.\"%number)\n",
    "    else:\n",
    "        print(\"%d번 학생은 불합격입니다.\"%number)"
   ]
  },
  {
   "cell_type": "code",
   "execution_count": 13,
   "id": "ed22371b-2153-4800-aa4c-765fc318b3ea",
   "metadata": {},
   "outputs": [
    {
     "name": "stdout",
     "output_type": "stream",
     "text": [
      "1번 학생 합격입니다. 축하합니다.\n",
      "3번 학생 합격입니다. 축하합니다.\n",
      "5번 학생 합격입니다. 축하합니다.\n"
     ]
    }
   ],
   "source": [
    "# for 문 안의 문장을 수행하는 도중 continue 문을 만나면 for 문의 처음으로 돌아가게 된다.\n",
    "# 60점 이상인 사람에게는 축하 메시지를 보내고 나머지 사람에게는 아무런 메시지도 전하지 않는 프로그램을 작성해 보자.\n",
    "\n",
    "marks = [90, 25, 67, 45, 80]\n",
    "\n",
    "number = 0\n",
    "\n",
    "for mark in marks:\n",
    "    number += 1\n",
    "    if mark >= 60:\n",
    "        print(\"%d번 학생 합격입니다. 축하합니다.\"%number)\n",
    "    else:\n",
    "        pass       #아닐 때에는 pass 말고 실행문을 쓰지 않아도 된다."
   ]
  },
  {
   "cell_type": "code",
   "execution_count": 15,
   "id": "d84eb04a-70be-425d-bc3c-5b6971ccb4be",
   "metadata": {},
   "outputs": [
    {
     "name": "stdout",
     "output_type": "stream",
     "text": [
      "1번 학생 합격입니다. 축하합니다.\n",
      "3번 학생 합격입니다. 축하합니다.\n",
      "5번 학생 합격입니다. 축하합니다.\n"
     ]
    }
   ],
   "source": [
    "#continue문 사용시\n",
    "\n",
    "marks = [90, 25, 67, 45, 80]\n",
    "\n",
    "number = 0\n",
    "\n",
    "for mark in marks:\n",
    "    number += 1\n",
    "    if mark < 60:       #점수가 60점보다 낮으면 continue, 아니면 print.\n",
    "        continue\n",
    "    print(\"%d번 학생 합격입니다. 축하합니다.\"%number)\n",
    "\n",
    "#print는 continue와 관련이 없기 때문에 if에 맞춰 들여쓰기를 해야한다."
   ]
  },
  {
   "cell_type": "markdown",
   "id": "aec60ad0-6bad-403b-b752-8c0fbaa610a1",
   "metadata": {},
   "source": [
    "#### 3. for문과 함께 자주 사용하는 range 함수"
   ]
  },
  {
   "cell_type": "code",
   "execution_count": 18,
   "id": "89bd74b4-2870-4075-80e4-b041edd26694",
   "metadata": {},
   "outputs": [
    {
     "name": "stdout",
     "output_type": "stream",
     "text": [
      "range(0, 10)\n",
      "<class 'range'>\n"
     ]
    }
   ],
   "source": [
    "a = range(10)\n",
    "print(a)\n",
    "print(type(a))"
   ]
  },
  {
   "cell_type": "code",
   "execution_count": 19,
   "id": "e2dfb748-2500-419b-8410-994626da55f3",
   "metadata": {},
   "outputs": [
    {
     "name": "stdout",
     "output_type": "stream",
     "text": [
      "[0, 1, 2, 3, 4, 5, 6, 7, 8, 9]\n"
     ]
    }
   ],
   "source": [
    "a = list(a)\n",
    "print(a)"
   ]
  },
  {
   "cell_type": "code",
   "execution_count": 20,
   "id": "f229b8c2-c579-4fde-b96a-74f02ae783b5",
   "metadata": {},
   "outputs": [
    {
     "name": "stdout",
     "output_type": "stream",
     "text": [
      "range(1, 11)\n"
     ]
    }
   ],
   "source": [
    "a = range(1,11)\n",
    "print(a)"
   ]
  },
  {
   "cell_type": "code",
   "execution_count": 26,
   "id": "8f45cc1d-eeeb-4ae5-8676-51bc4cb090b6",
   "metadata": {},
   "outputs": [
    {
     "name": "stdout",
     "output_type": "stream",
     "text": [
      "[1, 2, 3, 4, 5, 6, 7, 8, 9, 10]\n"
     ]
    }
   ],
   "source": [
    "a = list(range(1, 11))\n",
    "print(a)"
   ]
  },
  {
   "cell_type": "code",
   "execution_count": 27,
   "id": "463f1db0-e7f7-4837-aef6-0104cc8f2bf5",
   "metadata": {},
   "outputs": [
    {
     "name": "stdout",
     "output_type": "stream",
     "text": [
      "[15, 16, 17, 18, 19, 20]\n"
     ]
    }
   ],
   "source": [
    "# 15~20\n",
    "a = list(range(15,21))\n",
    "print(a)"
   ]
  },
  {
   "cell_type": "code",
   "execution_count": 29,
   "id": "e43daa07-926a-4b82-848d-0dfc8ac5c16f",
   "metadata": {},
   "outputs": [
    {
     "name": "stdout",
     "output_type": "stream",
     "text": [
      "55\n"
     ]
    }
   ],
   "source": [
    "add = 0\n",
    "\n",
    "for i in range(1, 11):\n",
    "    add += i\n",
    "\n",
    "print(add)"
   ]
  },
  {
   "cell_type": "code",
   "execution_count": 31,
   "id": "dd77af00-aa48-4a1a-93bb-3910f60cde3e",
   "metadata": {},
   "outputs": [
    {
     "name": "stdout",
     "output_type": "stream",
     "text": [
      "1\n",
      "3\n",
      "6\n",
      "10\n",
      "15\n",
      "21\n",
      "28\n",
      "36\n",
      "45\n",
      "55\n",
      "--------------------\n",
      "55\n"
     ]
    }
   ],
   "source": [
    "add = 0\n",
    "\n",
    "for i in range(1, 11):\n",
    "    add += i\n",
    "    print(add)\n",
    "\n",
    "print(\"-\"*20)  #구분 줄\n",
    "print(add)"
   ]
  },
  {
   "cell_type": "code",
   "execution_count": 40,
   "id": "702312aa-5e49-4ee4-81a1-8d61965e9baf",
   "metadata": {},
   "outputs": [
    {
     "name": "stdout",
     "output_type": "stream",
     "text": [
      "1번 학생 합격입니다. 축하합니다.\n",
      "3번 학생 합격입니다. 축하합니다.\n",
      "5번 학생 합격입니다. 축하합니다.\n"
     ]
    }
   ],
   "source": [
    "marks = [90, 25, 67, 45, 80]     #학생들의 시험 점수 리스트\n",
    "\n",
    "for number in range(len(marks)):        #range(5) : 0~4\n",
    "    if marks[number] < 60:\n",
    "        continue\n",
    "    print(\"%d번 학생 합격입니다. 축하합니다.\"%(number+1))"
   ]
  },
  {
   "cell_type": "code",
   "execution_count": 46,
   "id": "4ebf5cc7-4256-45ba-86ac-e63630a5909f",
   "metadata": {},
   "outputs": [
    {
     "name": "stdout",
     "output_type": "stream",
     "text": [
      "2단\n",
      "2 * 1 = 2\n",
      "2 * 2 = 4\n",
      "2 * 3 = 6\n",
      "2 * 4 = 8\n",
      "2 * 5 = 10\n",
      "2 * 6 = 12\n",
      "2 * 7 = 14\n",
      "2 * 8 = 16\n",
      "2 * 9 = 18\n",
      "--------------------\n",
      "3단\n",
      "3 * 1 = 3\n",
      "3 * 2 = 6\n",
      "3 * 3 = 9\n",
      "3 * 4 = 12\n",
      "3 * 5 = 15\n",
      "3 * 6 = 18\n",
      "3 * 7 = 21\n",
      "3 * 8 = 24\n",
      "3 * 9 = 27\n",
      "--------------------\n",
      "4단\n",
      "4 * 1 = 4\n",
      "4 * 2 = 8\n",
      "4 * 3 = 12\n",
      "4 * 4 = 16\n",
      "4 * 5 = 20\n",
      "4 * 6 = 24\n",
      "4 * 7 = 28\n",
      "4 * 8 = 32\n",
      "4 * 9 = 36\n",
      "--------------------\n",
      "5단\n",
      "5 * 1 = 5\n",
      "5 * 2 = 10\n",
      "5 * 3 = 15\n",
      "5 * 4 = 20\n",
      "5 * 5 = 25\n",
      "5 * 6 = 30\n",
      "5 * 7 = 35\n",
      "5 * 8 = 40\n",
      "5 * 9 = 45\n",
      "--------------------\n",
      "6단\n",
      "6 * 1 = 6\n",
      "6 * 2 = 12\n",
      "6 * 3 = 18\n",
      "6 * 4 = 24\n",
      "6 * 5 = 30\n",
      "6 * 6 = 36\n",
      "6 * 7 = 42\n",
      "6 * 8 = 48\n",
      "6 * 9 = 54\n",
      "--------------------\n",
      "7단\n",
      "7 * 1 = 7\n",
      "7 * 2 = 14\n",
      "7 * 3 = 21\n",
      "7 * 4 = 28\n",
      "7 * 5 = 35\n",
      "7 * 6 = 42\n",
      "7 * 7 = 49\n",
      "7 * 8 = 56\n",
      "7 * 9 = 63\n",
      "--------------------\n",
      "8단\n",
      "8 * 1 = 8\n",
      "8 * 2 = 16\n",
      "8 * 3 = 24\n",
      "8 * 4 = 32\n",
      "8 * 5 = 40\n",
      "8 * 6 = 48\n",
      "8 * 7 = 56\n",
      "8 * 8 = 64\n",
      "8 * 9 = 72\n",
      "--------------------\n",
      "9단\n",
      "9 * 1 = 9\n",
      "9 * 2 = 18\n",
      "9 * 3 = 27\n",
      "9 * 4 = 36\n",
      "9 * 5 = 45\n",
      "9 * 6 = 54\n",
      "9 * 7 = 63\n",
      "9 * 8 = 72\n",
      "9 * 9 = 81\n",
      "--------------------\n"
     ]
    }
   ],
   "source": [
    "#구구단\n",
    "for i in range(2, 10): #2단부터 9단까지 / 중복될 땐 변수를 i, j, k ... 순으로 함.\n",
    "    print(\"%d단\"%i)\n",
    "    for j in range(1, 10):      #1~9까지 곱함.\n",
    "        print(\"%d * %d = %d\"%(i, j, i * j))   #순서대로 i * j = i * j\n",
    "    print(\"-\"*20)      "
   ]
  },
  {
   "cell_type": "code",
   "execution_count": 47,
   "id": "8d9219f2-c0d7-4e25-862f-de2967b94a0f",
   "metadata": {},
   "outputs": [
    {
     "name": "stdout",
     "output_type": "stream",
     "text": [
      "one\n",
      "two\n",
      "three\n"
     ]
    }
   ],
   "source": [
    "test_list = ['one', 'two', 'three']\n",
    "for i in test_list:\n",
    "    print(i)"
   ]
  },
  {
   "cell_type": "markdown",
   "id": "8a1b1f01-c4ef-4366-bff9-5a042c92e318",
   "metadata": {},
   "source": [
    "#### 리스트 컴프리헨션(comprehension)"
   ]
  },
  {
   "cell_type": "code",
   "execution_count": 48,
   "id": "bf750739-2778-4481-9db9-b056d4625ff9",
   "metadata": {},
   "outputs": [
    {
     "name": "stdout",
     "output_type": "stream",
     "text": [
      "[3, 6, 9, 12]\n"
     ]
    }
   ],
   "source": [
    "a = [1, 2, 3, 4]\n",
    "result = []\n",
    "\n",
    "for num in a:\n",
    "    result.append(num*3)\n",
    "\n",
    "print(result)"
   ]
  },
  {
   "cell_type": "code",
   "execution_count": 50,
   "id": "91fef62d-e065-4aef-8eb0-2f4dcba7c49e",
   "metadata": {},
   "outputs": [
    {
     "name": "stdout",
     "output_type": "stream",
     "text": [
      "[3, 6, 9, 12]\n"
     ]
    }
   ],
   "source": [
    "# 리스트 컴프리헨션으로 표현\n",
    "a = [1, 2, 3, 4]\n",
    "result = [num*3 for num in a]\n",
    "print(result)"
   ]
  },
  {
   "cell_type": "code",
   "execution_count": 52,
   "id": "2c6d7378-637a-4894-ad69-d6cd2c71e35e",
   "metadata": {},
   "outputs": [
    {
     "name": "stdout",
     "output_type": "stream",
     "text": [
      "[6, 12]\n"
     ]
    }
   ],
   "source": [
    "# 만약 [1, 2, 3, 4] 중에서 짝수에만 3을 곱하여 담고 싶다면 리스트 컴프리헨션 안에 ‘if 조건문’을 사용하면 된다\n",
    "\n",
    "a = [1, 2, 3, 4]\n",
    "result = [num*3 for num in a if num % 2 == 0]  #num % 2 == 0 2로 나눈 나머지가 0인.\n",
    "print(result)"
   ]
  },
  {
   "cell_type": "code",
   "execution_count": 59,
   "id": "bea8264e-6f3f-4bbf-ae14-dacf56bdedd3",
   "metadata": {},
   "outputs": [
    {
     "name": "stdout",
     "output_type": "stream",
     "text": [
      "[2, 4, 6, 8, 10, 12, 14, 16, 18, 3, 6, 9, 12, 15, 18, 21, 24, 27, 4, 8, 12, 16, 20, 24, 28, 32, 36, 5, 10, 15, 20, 25, 30, 35, 40, 45, 6, 12, 18, 24, 30, 36, 42, 48, 54, 7, 14, 21, 28, 35, 42, 49, 56, 63, 8, 16, 24, 32, 40, 48, 56, 64, 72, 9, 18, 27, 36, 45, 54, 63, 72, 81]\n"
     ]
    }
   ],
   "source": [
    "result = [x*y for x in range(2,10) for y in range(1,10)]\n",
    "print(result)"
   ]
  },
  {
   "cell_type": "markdown",
   "id": "b18c8b3d-2a78-446b-847a-bdad81aa7d44",
   "metadata": {},
   "source": [
    "### 3. 리스트 컴프리헨션"
   ]
  },
  {
   "cell_type": "markdown",
   "id": "e5c3664e-abe6-4da2-a564-42d1415c9569",
   "metadata": {},
   "source": [
    "#### 1) 기본구조 : [표현식 + for문}"
   ]
  },
  {
   "cell_type": "code",
   "execution_count": 61,
   "id": "ccc59f95-3092-48fd-b4d1-c0e9bfc8203f",
   "metadata": {},
   "outputs": [
    {
     "name": "stdout",
     "output_type": "stream",
     "text": [
      "[0, 0, 0, 0, 0]\n"
     ]
    }
   ],
   "source": [
    "# 표현식에 변수 또는 상수를 쓰는 경우\n",
    "n = 5\n",
    "result = [0 for i in range(n)]\n",
    "print(result)"
   ]
  },
  {
   "cell_type": "code",
   "execution_count": 62,
   "id": "fdf2de61-1d1a-4aa1-aff3-d5a2bee2adb1",
   "metadata": {},
   "outputs": [
    {
     "name": "stdout",
     "output_type": "stream",
     "text": [
      "[0, 1, 2, 3, 4]\n"
     ]
    }
   ],
   "source": [
    "n = 5\n",
    "result = [i for i in range(n)]\n",
    "print(result)"
   ]
  },
  {
   "cell_type": "code",
   "execution_count": 63,
   "id": "64dce0a8-a7cd-4a58-bd70-a31485aa224b",
   "metadata": {},
   "outputs": [
    {
     "name": "stdout",
     "output_type": "stream",
     "text": [
      "[0, 1, 2, 3, 4, 5, 6, 7, 8, 9]\n"
     ]
    }
   ],
   "source": [
    "array = list(range(10))   #(0,10) = [0, 1, 2, 3, 4, 5, 6, 7, 8, 9]\n",
    "result = [n for n in array]\n",
    "print(result)"
   ]
  },
  {
   "cell_type": "code",
   "execution_count": 64,
   "id": "3fad4a54-07a6-42d3-a746-d2a12865014a",
   "metadata": {},
   "outputs": [
    {
     "name": "stdout",
     "output_type": "stream",
     "text": [
      "[0, 1, 4, 9, 16, 25, 36, 49, 64, 81]\n"
     ]
    }
   ],
   "source": [
    "# 표현식에 연산식이나 함수를 쓰는 경우\n",
    "result = [n * n for n in array]\n",
    "print(result)"
   ]
  },
  {
   "cell_type": "code",
   "execution_count": 66,
   "id": "ad8c11bd-dab3-4871-969c-1e4501fb1ea2",
   "metadata": {},
   "outputs": [
    {
     "name": "stdout",
     "output_type": "stream",
     "text": [
      "[4, 13, 6]\n"
     ]
    }
   ],
   "source": [
    "str_array = [\"List\", \"Comprehension\", \"Python\"]\n",
    "result = [len(string) for string in str_array]\n",
    "print(result)"
   ]
  },
  {
   "cell_type": "code",
   "execution_count": 67,
   "id": "efa34f48-996b-4a93-a2cf-5bcfe5c34a7c",
   "metadata": {},
   "outputs": [
    {
     "name": "stdout",
     "output_type": "stream",
     "text": [
      "[0, 1, 2, 3, 4, 0, 1, 2, 3, 4]\n"
     ]
    }
   ],
   "source": [
    "def mod_5(number):\n",
    "    return number%5\n",
    "\n",
    "result = [mod_5(n) for n in array]\n",
    "print(result)"
   ]
  },
  {
   "cell_type": "markdown",
   "id": "9610a3bc-3579-4028-a1e7-12180dd9b6a0",
   "metadata": {},
   "source": [
    "#### 2) [표현식 + for문 + 조건문(if)]"
   ]
  },
  {
   "cell_type": "code",
   "execution_count": 71,
   "id": "3f9e7ee8-a167-4b02-9de5-bae3c3d341b6",
   "metadata": {},
   "outputs": [
    {
     "name": "stdout",
     "output_type": "stream",
     "text": [
      "[0, 2, 4, 6, 8]\n"
     ]
    }
   ],
   "source": [
    "# if문 한 번 사용한 경우\n",
    "result = [n for n in range(10) if n%2 == 0]\n",
    "print(result)"
   ]
  },
  {
   "cell_type": "code",
   "execution_count": 77,
   "id": "f8db24d6-37e6-4b8a-90b5-b34a3be80753",
   "metadata": {},
   "outputs": [
    {
     "name": "stdout",
     "output_type": "stream",
     "text": [
      "[24, 5, 2]\n"
     ]
    }
   ],
   "source": [
    "array = [-1, 0, -4, 24, 5, -10, 2]\n",
    "result = [n for n in array if n>0]\n",
    "print(result)"
   ]
  },
  {
   "cell_type": "code",
   "execution_count": 79,
   "id": "59ae520f-8f60-469f-8c2d-c8ef0faed90a",
   "metadata": {},
   "outputs": [
    {
     "name": "stdout",
     "output_type": "stream",
     "text": [
      "[3, 9, 15, 21, 27, 33, 39, 45]\n"
     ]
    }
   ],
   "source": [
    "# if문 여러 번 사용한 경우\n",
    "result = [n for n in range(50) if n%3==0 if n%2!=0]\n",
    "print(result)"
   ]
  },
  {
   "cell_type": "markdown",
   "id": "0c9cc3d6-0b2b-487f-99e9-629decbe2289",
   "metadata": {},
   "source": [
    "#### 3) [표현식 + 조건문 + for문]"
   ]
  },
  {
   "cell_type": "code",
   "execution_count": 81,
   "id": "a61341e7-0f35-4ddd-a364-8fc5beb67af1",
   "metadata": {},
   "outputs": [
    {
     "name": "stdout",
     "output_type": "stream",
     "text": [
      "[0, 0, 0, 24, 5, 0, 2]\n"
     ]
    }
   ],
   "source": [
    "array = [-1, 0, -4, 24, 5, -10, 2]\n",
    "result = [n if n>0 else 0 for n in array]\n",
    "print(result)       # 음수, 0 = 0, 양수만 수가 나옴."
   ]
  },
  {
   "cell_type": "code",
   "execution_count": 82,
   "id": "7af60793-b9cc-491f-9058-9b04234d6703",
   "metadata": {},
   "outputs": [
    {
     "name": "stdout",
     "output_type": "stream",
     "text": [
      "['ever', 'odd', 'ever', 'odd']\n"
     ]
    }
   ],
   "source": [
    "array = [0, 1, 2, 3]\n",
    "result = ['ever' if n%2==0 else 'odd' for n in array]\n",
    "print(result)"
   ]
  },
  {
   "cell_type": "markdown",
   "id": "638f410c-7128-4384-b5c3-9c264fd3e71f",
   "metadata": {},
   "source": [
    "#### 4) 중첩 for문"
   ]
  },
  {
   "cell_type": "code",
   "execution_count": 85,
   "id": "3caf3acc-436a-4efc-818d-c2d47d52fa71",
   "metadata": {},
   "outputs": [
    {
     "name": "stdout",
     "output_type": "stream",
     "text": [
      "[1, 2, 2, 4, 3, 6]\n",
      "[1, 2, 2, 4, 3, 6]\n"
     ]
    }
   ],
   "source": [
    "# 중첩 for문\n",
    "pos = []  #fos라는 빈 리스트 먼저 만들고\n",
    "for i in range(1,4):    #중첩 for문 = 들여쓰기\n",
    "    for j in range(1,3):\n",
    "        pos.append(i*j)\n",
    "\n",
    "print(pos)\n",
    "\n",
    "#리스트 컴프리헨션으로\n",
    "pos = [i*j for i in range(1,4) for j in range(1,3)]\n",
    "print(pos)"
   ]
  },
  {
   "cell_type": "markdown",
   "id": "db0fdeec-3109-45d3-b8cd-28d37d427828",
   "metadata": {},
   "source": [
    "#### 5) 중첩 List Comprehension"
   ]
  },
  {
   "cell_type": "code",
   "execution_count": 86,
   "id": "d44f32f0-f986-42ee-929e-8991100659b0",
   "metadata": {},
   "outputs": [
    {
     "name": "stdout",
     "output_type": "stream",
     "text": [
      "[[0, 0], [0, 0], [0, 0]]\n"
     ]
    }
   ],
   "source": [
    "#2차원 배열 만들기\n",
    "result = [[0 for i in range(2)]for j in range(3)]\n",
    "print(result)"
   ]
  },
  {
   "cell_type": "code",
   "execution_count": 1,
   "id": "875536fe-5023-4b33-a522-a35affa1d7a8",
   "metadata": {},
   "outputs": [
    {
     "name": "stdout",
     "output_type": "stream",
     "text": [
      "2번 학생 합격\n",
      "3번 학생 합격\n",
      "5번 학생 합격\n"
     ]
    }
   ],
   "source": [
    "#연습\n",
    "# 총 5명의 학생이 시험을 보았는데 시험 점수가 60점 이상이면 합격이고 그렇지 않으면 불합격이다.\n",
    "# 합격인지, 불합격인지 결과를 보여 주시오.\n",
    "\n",
    "marks = [52, 63, 92, 48, 75]\n",
    "number = 0\n",
    "\n",
    "for mark in marks:\n",
    "    number += 1\n",
    "    if mark >= 60:\n",
    "        print(\"%d번 학생 합격\"%number)"
   ]
  },
  {
   "cell_type": "code",
   "execution_count": 3,
   "id": "1914f7e0-e335-42d4-949e-fa47747ec77d",
   "metadata": {},
   "outputs": [
    {
     "name": "stdout",
     "output_type": "stream",
     "text": [
      "2번 학생 합격\n",
      "3번 학생 합격\n",
      "5번 학생 합격\n"
     ]
    }
   ],
   "source": [
    "marks = [52, 63, 92, 48, 75]\n",
    "number = 0\n",
    "\n",
    "for mark in marks:\n",
    "    number += 1\n",
    "    if mark >= 60:\n",
    "        print(\"%d번 학생 합격\"%number)\n",
    "        "
   ]
  },
  {
   "cell_type": "markdown",
   "id": "bd0bdad1-b848-4671-b982-5da14116e3a1",
   "metadata": {},
   "source": [
    "### 트리 만들기\n"
   ]
  },
  {
   "cell_type": "code",
   "execution_count": 14,
   "id": "80e71202-fae2-4bf8-a925-4e8abbf031f2",
   "metadata": {},
   "outputs": [
    {
     "name": "stdout",
     "output_type": "stream",
     "text": [
      "             *\n",
      "            ***\n",
      "           *****\n",
      "          *******\n",
      "         *********\n",
      "        ***********\n",
      "       *************\n",
      "      ***************\n",
      "     *****************\n",
      "    *******************\n",
      "   *********************\n",
      "  ***********************\n",
      " *************************\n",
      "***************************\n",
      "\n"
     ]
    }
   ],
   "source": [
    "output = \"\"\n",
    "\n",
    "for i in range(1, 15):\n",
    "    for j in range(14, i, -1):\n",
    "        output += ' '\n",
    "    for k in range(0, 2 * i - 1):\n",
    "        output += '*'\n",
    "    output += '\\n'\n",
    "\n",
    "print(output)"
   ]
  },
  {
   "cell_type": "code",
   "execution_count": 15,
   "id": "c9608dd1-6b0a-42f4-a25a-e74c9f281cdd",
   "metadata": {},
   "outputs": [
    {
     "name": "stdout",
     "output_type": "stream",
     "text": [
      "*\n",
      "***\n",
      "*****\n",
      "*******\n",
      "*********\n",
      "***********\n",
      "*************\n",
      "***************\n",
      "*****************\n",
      "*******************\n",
      "*********************\n",
      "***********************\n",
      "*************************\n",
      "***************************\n",
      "\n"
     ]
    }
   ],
   "source": [
    "output = \"\"\n",
    "\n",
    "for i in range(1, 15):\n",
    "    for j in range(14, i, -1):\n",
    "        output += ''\n",
    "    for k in range(0, 2 * i - 1):\n",
    "        output += '*'\n",
    "    output += '\\n'\n",
    "\n",
    "print(output)"
   ]
  },
  {
   "cell_type": "code",
   "execution_count": 17,
   "id": "8472548d-5665-42d5-b221-f0d4abbccabf",
   "metadata": {},
   "outputs": [
    {
     "name": "stdout",
     "output_type": "stream",
     "text": [
      "         *\n",
      "        ***\n",
      "       *****\n",
      "      *******\n",
      "     *********\n",
      "    ***********\n",
      "   *************\n",
      "  ***************\n",
      " *****************\n",
      "*******************\n",
      "\n"
     ]
    }
   ],
   "source": [
    "output=\"\"\n",
    "\n",
    "for i in range(1, 11):   #10줄 1~10\n",
    "    for j in range(10, i, -1):\n",
    "        output += ' '\n",
    "    for k in range(0, 2 * i - 1):\n",
    "        output += '*'\n",
    "    output += '\\n'\n",
    "\n",
    "print(output)"
   ]
  },
  {
   "cell_type": "code",
   "execution_count": null,
   "id": "cf226100-f44e-453e-8f8e-f3c3b2e14464",
   "metadata": {},
   "outputs": [],
   "source": []
  }
 ],
 "metadata": {
  "kernelspec": {
   "display_name": "Python [conda env:base] *",
   "language": "python",
   "name": "conda-base-py"
  },
  "language_info": {
   "codemirror_mode": {
    "name": "ipython",
    "version": 3
   },
   "file_extension": ".py",
   "mimetype": "text/x-python",
   "name": "python",
   "nbconvert_exporter": "python",
   "pygments_lexer": "ipython3",
   "version": "3.13.5"
  },
  "widgets": {
   "application/vnd.jupyter.widget-state+json": {
    "state": {},
    "version_major": 2,
    "version_minor": 0
   }
  }
 },
 "nbformat": 4,
 "nbformat_minor": 5
}
